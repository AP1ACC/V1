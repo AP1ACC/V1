{
 "cells": [
  {
   "cell_type": "code",
   "execution_count": 1,
   "metadata": {},
   "outputs": [],
   "source": [
    "# imports\n",
    "import numpy as np\n",
    "import matplotlib.pyplot as plt\n",
    "import matplotlib.colors as c\n",
    "import sympy as sy\n",
    "import scipy.constants as pc\n",
    "from sympy import *"
   ]
  },
  {
   "cell_type": "code",
   "execution_count": 169,
   "metadata": {},
   "outputs": [],
   "source": [
    "# Funktionen\n",
    "def am(werte):\n",
    "    return np.mean(werte)\n",
    "\n",
    "def std(werte):\n",
    "    summen_der_quadrate = 0\n",
    "    for wert in werte:\n",
    "        summen_der_quadrate+=(wert-am(werte))**2       \n",
    "    return np.sqrt(summen_der_quadrate/(werte.size-1))\n",
    "\n",
    "def stu(werte):\n",
    "    return std(werte)/np.sqrt(werte.size)\n",
    "\n",
    "def fehler(f, werte, unsicherheiten, variablen):\n",
    "    zMax = 0\n",
    "    for i in range(werte.size):\n",
    "        dif = np.abs(sy.diff(f, variablen[i]))\n",
    "        zMax += (dif * unsicherheiten[i])**2\n",
    "    zMax = sqrt(zMax)\n",
    "    for j in range(werte.size):\n",
    "        zMax = sub(zMax, variablen[j], werte[j])\n",
    "    return zMax\n",
    "\n",
    "def fehlerMax(f, werte, unsicherheiten, variablen):\n",
    "    zMax = 0\n",
    "    for i in range(werte.size):\n",
    "        dif = np.abs(sy.diff(f, variablen[i]))\n",
    "        zMax += dif * unsicherheiten[i]\n",
    "    for j in range(werte.size):\n",
    "        zMax = sub(zMax, variablen[j], werte[j])\n",
    "    return zMax\n",
    "\n",
    "def groessterBeitrag(f, werte, unsicherheiten, variablen):\n",
    "    zMax = 0\n",
    "    zMaxArray = np.array([])\n",
    "    for i in range (werte.size):\n",
    "        zMax = (np.abs(sy.diff(f, variablen[i])) * unsicherheiten[i])\n",
    "        for j in range(werte.size):\n",
    "            zMax = sub(zMax, variablen[j], werte[j])\n",
    "        x = np.array([zMax])\n",
    "        zMaxArray = np.append(zMaxArray, x)\n",
    "    return variablen[np.argmax(zMaxArray)]\n",
    "\n",
    "def sub(zMax, variable, wert):\n",
    "    return zMax.subs([(variable, wert)])\n",
    "\n",
    "def einfachGaussAdd(unsicherheiten, koeffizienten):\n",
    "    dz = 0\n",
    "    for i in range (unsicherheiten.size):\n",
    "        dz += (unsicherheiten[i]*unsicherheiten[i])**2\n",
    "    return sqrt(dz)\n",
    "\n",
    "def einfachGaussMult(unsicherheiten, werte, exponenten):\n",
    "    dz = 0\n",
    "    for i in range (unsicherheiten.size):\n",
    "        dz += (exponenten[i]*unsicherheiten[i]/werte[i])**2\n",
    "    return sqrt(dz)\n",
    "\n",
    "def vertraeglichkeit(am_1, am_2, stu_1, stu_2):\n",
    "    return (np.abs(am_1-am_2)/(sqrt((stu_1**2)*(stu_2**2))))\n",
    "\n",
    "def bestA(x, y):\n",
    "    return (sum(x**2)*sum(y)-sum(x)*sum(x*y))/(x.size*sum(x**2)-sum(x)**2)\n",
    "\n",
    "def bestB(x, y):\n",
    "    return (x.size*sum(x*y)-sum(x)*sum(y))/(x.size*sum(x**2)-sum(x)**2)\n",
    "\n",
    "def streuung(x, y):\n",
    "    s = 0\n",
    "    for i in range(x.size):\n",
    "        s += (y[i]+(bestA(x, y)+bestB(x, y)*x[i]))**2\n",
    "    return np.sqrt(s/(x.size-2))\n",
    "\n",
    "def stuA(x, y):\n",
    "    s = streuung(x, y)\n",
    "    return s*np.sqrt(sum(x**2)/((x.size*sum(x**2)-sum(x)**2)))\n",
    "\n",
    "def stuB(x, y):\n",
    "    s = streuung(x, y)\n",
    "    return s*np.sqrt(x.size/((x.size*sum(x**2)-sum(x)**2)))\n",
    "\n",
    "def print_to_table(avgs, stds, rows, cols,\n",
    "                   highlight_best=True,\n",
    "                   max_is_best=True,\n",
    "                   avg_format='{0:!>4.2f}',\n",
    "                   std_format='{1:!<4.2f}',\n",
    "                   file=None,\n",
    "                   col_orientation='c'):\n",
    "    # Find best values\n",
    "    best_avg = {}\n",
    "    if highlight_best:\n",
    "        if max_is_best:\n",
    "            for c in cols:\n",
    "                idx = np.argmax(avgs[c], axis=0)\n",
    "                best_avg[c] = idx\n",
    "        else:\n",
    "            for c in cols:\n",
    "                idx = np.argmin(avgs[c], axis=0)\n",
    "                best_avg[c] = idx\n",
    "\n",
    "    # Header\n",
    "    print_str = '\\\\begin{tabular}{l' + (\" \"+col_orientation) * len(cols) + '} \\hline\\n'\n",
    "    for c in cols:\n",
    "        print_str += ' & ' + c\n",
    "    print_str += ' \\\\\\\\ \\n \\hline'\n",
    "\n",
    "    # Content\n",
    "    for m in range(len(rows)):\n",
    "        row_name = rows[m]\n",
    "        print_str += '\\n{0}'.format(row_name)\n",
    "        for c in cols:\n",
    "            print_str += ' &\\n '\n",
    "            print_list = [avgs[c][m]]\n",
    "            print_list += [stds[c][m]]\n",
    "            if m == best_avg.get(c, None):\n",
    "                print_str += ('$\\mathbf{{'+ avg_format + ' \\\\pm ' + std_format + '}}$').format(*print_list)\n",
    "            else:\n",
    "                print_str += ('$'+ avg_format + ' \\\\pm ' + std_format + '$').format(*print_list)\n",
    "\n",
    "        print_str += \"\\n \\\\vspace*{0.0mm} \\\\\\\\\"\n",
    "        print_str = print_str.replace('!', '\\\\phantom{0}')\n",
    "\n",
    "    # Footer\n",
    "    print_str += '\\n \\hline \\n \\end{tabular}'\n",
    "\n",
    "    # Write output\n",
    "    if file is None:\n",
    "        print(print_str)\n",
    "    else:\n",
    "        with open(file, 'w') as f:\n",
    "            f.write(print_str)"
   ]
  },
  {
   "cell_type": "code",
   "execution_count": 3,
   "metadata": {},
   "outputs": [],
   "source": [
    "# Erinnerungen\n",
    "# x = np.array([])\n",
    "# x.size\n",
    "# x, y = symbols('x y')\n",
    "# expr = x*y\n",
    "# expr.subs([(x, wert_x), (y, wert_y)])"
   ]
  },
  {
   "cell_type": "code",
   "execution_count": 202,
   "metadata": {},
   "outputs": [
    {
     "name": "stdout",
     "output_type": "stream",
     "text": [
      "[7.87796424e-02 1.50566596e-01 4.39904527e-02 6.07189420e-02\n",
      " 1.56075020e-01 1.43648751e-17]\n",
      "[2.53646813 2.11180773 1.73124347 1.1968652  0.76969697 0.11598746]\n"
     ]
    },
    {
     "data": {
      "image/png": "[encoded data removed]",
      "text/plain": [
       "<Figure size 720x288 with 1 Axes>"
      ]
     },
     "metadata": {
      "needs_background": "light"
     },
     "output_type": "display_data"
    }
   ],
   "source": [
    "# Messdaten\n",
    "b = np.array([5.0, 10.0, 15.0, 20.0, 22.5, 25.0])# mm (+- .5)\n",
    "r_1 = 4.4 # .05\n",
    "\n",
    "r_außen = 638.0/2.0 # +-1mm\n",
    "\n",
    "s = np.array([[778.0, 787.0, 789.0, 797.0, 800.0, 801.0, 801.0, 802.0, 804.0, 805.0, 807.0, 818.0, 827.0, 840.0, 881.0],\n",
    "              [578.0, 588.0, 646.0, 656.0, 661.0, 666.0, 667.0, 670.0, 670.0, 674.0, 710.0, 718.0, 726.0, 726.0, 749.0], \n",
    "              [510.0, 549.0, 548.0, 549.0, 550.0, 550.0, 550.0, 551.0, 552.0, 555.0, 556.0, 561.0, 563.0, 564.0, 576.0], \n",
    "              [332.0, 362.0, 367.0, 373.0, 377.0, 379.0, 381.0, 381.0, 382.0, 384.0, 398.0, 400.0, 401.0, 403.0, 407.0], \n",
    "              [113.0, 197.0, 198.0, 234.0, 238.0, 239.0, 251.0, 254.0, 258.0, 264.0, 267.0, 268.0, 280.0, 289.0, 333.0],\n",
    "              [37.0, 37.0, 37.0, 37.0, 37.0, 37.0, 37.0, 37.0, 37.0, 37.0, 37.0, 37.0, 37.0, 37.0, 37.0]]) # mm (+- 1)\n",
    "\n",
    "#s_25 = np.array([37.0])\n",
    "\n",
    "#s_am = np.array([]) # mm (+- 1)\n",
    "s_tot = r_außen*2.0*pc.pi # mm (+- 1)\n",
    "\n",
    "#for el in s:\n",
    "    #s_am = np.append(s_am, am(el))\n",
    "\n",
    "theta = ((s*2.0*pc.pi)/s_tot) # rad\n",
    "theta_am = np.array([]) # rad\n",
    "theta_std = np.array([])\n",
    "\n",
    "for el in theta:\n",
    "    theta_am = np.append(theta_am, am(el))\n",
    "    theta_std = np.append(theta_std, std(el))\n",
    "\n",
    "#theta_am = np.append(theta_am, (s_25*2.0*pc.pi)/s_tot)\n",
    "#theta_std = np.append(theta_std, 0)\n",
    "\n",
    "print(theta_std)\n",
    "print(theta_am)\n",
    "\n",
    "cos_theta = np.cos(theta/2)\n",
    "\n",
    "cos_theta_am =  np.array([])\n",
    "cos_theta_std =  np.array([])\n",
    "\n",
    "for el in cos_theta:\n",
    "    cos_theta_am = np.append(cos_theta_am, am(el))\n",
    "    cos_theta_std = np.append(cos_theta_std, std(el))\n",
    "    \n",
    "# Diagramm Normal\n",
    "    \n",
    "fig, ax = plt.subplots(figsize=(10,4))\n",
    "\n",
    "ax.scatter(b, theta_am, color='b', label='Datenpunkte')\n",
    "ax.errorbar(b, theta_am, xerr=0, yerr=theta_std, fmt='D', color='b', label='Errorleisten')\n",
    "ax.set(xlabel=r'$b \\,\\,$ [mm]', ylabel=r'$ \\theta \\,\\,$ [rad]', title=r'$\\theta$ gegen $b$')\n",
    "ax.legend()\n",
    "ax.grid()\n",
    "fig.savefig(\"tgb.png\")\n"
   ]
  },
  {
   "cell_type": "code",
   "execution_count": 177,
   "metadata": {},
   "outputs": [
    {
     "name": "stdout",
     "output_type": "stream",
     "text": [
      "[ 5.  10.  15.  20.  22.5 25. ] [0.29776589 0.49111494 0.64801858 0.82586212 0.92419951 0.99831883]\n"
     ]
    },
    {
     "data": {
      "image/png": "[encoded data removed]",
      "text/plain": [
       "<Figure size 720x288 with 1 Axes>"
      ]
     },
     "metadata": {
      "needs_background": "light"
     },
     "output_type": "display_data"
    }
   ],
   "source": [
    "# Diagramm cos\n",
    "fig, ax = plt.subplots(figsize=(10,4))\n",
    "\n",
    "print(b, cos_theta_am)\n",
    "ax.scatter(b, cos_theta_am, color='r', label='Datenpunkte')\n",
    "#ax.errorbar(b_am, cos_theta_am, xerr=b_std, yerr=cos_theta_std, fmt='D', color='#d0740b', label='Errorleisten')\n",
    "x = np.arange(4, 27, 0.5)\n",
    "\n",
    "m, c = np.polyfit(b, cos_theta_am, 1)\n",
    "ax.plot(x,x*m+c,color='g',label=\"Regressionsgerade\")\n",
    "\n",
    "ax.set(xlabel=r'$b \\,\\,$ [mm]', ylabel=r'$\\cos\\left(\\dfrac{\\theta}{2}\\right) \\,\\,$ [rad]', title='Verhältnis mit Ausgleichsgerade')\n",
    "ax.errorbar(b, cos_theta_am, xerr=0, yerr=cos_theta_std, fmt='D', color='red', label='Errorleisten')\n",
    "ax.legend()\n",
    "ax.grid()\n",
    "fig.savefig(\"regress_14.png\")"
   ]
  },
  {
   "cell_type": "code",
   "execution_count": 138,
   "metadata": {
    "scrolled": true
   },
   "outputs": [
    {
     "name": "stdout",
     "output_type": "stream",
     "text": [
      "[1.46279964386116 1.52252534155862 1.53651815957192 1.59536164077311\n",
      " 1.61869213192773 1.62663173188077 1.62663173188077 1.63465483903081\n",
      " 1.65095685855097 1.65923848345894 1.67606996518118 1.77554627985369\n",
      " 1.86677589057567 2.01756381383736 2.72395487750294]\n"
     ]
    }
   ],
   "source": [
    "# gauss einzel theta\n",
    "#r_2_einzel = b[0]/(np.cos((s[0]*pc.pi/s_tot)))-r_1\n",
    "theta_einzel = (s[0]*2.0*pc.pi)/s_tot\n",
    "\n",
    "#theta = ((s*2.0*pc.pi)/r_außen*2.0*pc.pi) \n",
    "exponenten = np.array([1, -1])\n",
    "unsicherheiten = np.array([1.0, 1.0])\n",
    "einzel_fehler = np.array([])\n",
    "for i in range(15):\n",
    "    werte = np.array([s[0][i],r_außen])\n",
    "    ef = einfachGaussMult(unsicherheiten, werte, exponenten)\n",
    "    einzel_fehler = np.append(einzel_fehler, ef*theta_einzel[i])\n",
    "#print(einzel_fehler)\n",
    "\n",
    "# gauss einzel r_2\n",
    "\n",
    "bi, si, rai, rii = symbols('bi si rai rii')\n",
    "f = (bi/sy.cos((si/rai)/2))-rii\n",
    "variablen = np.array([bi, si, rai, rii])\n",
    "unsicherheiten = np.array([.5, 1.0, 1.0, .05])\n",
    "einzel_fehler_r = np.array([])\n",
    "\n",
    "for i in range(15):\n",
    "    werte = np.array([b[0],s[0][i],r_außen, r_1])\n",
    "    efr = fehler(f, werte, unsicherheiten, variablen)\n",
    "    einzel_fehler_r = np.append(einzel_fehler_r, efr)\n",
    "print(einzel_fehler_r)"
   ]
  },
  {
   "cell_type": "code",
   "execution_count": 172,
   "metadata": {},
   "outputs": [
    {
     "name": "stdout",
     "output_type": "stream",
     "text": [
      "\\begin{tabular}{l c c c c c c} \\hline\n",
      " & 5mm & 10mm & 15mm & 20mm & 22.5mm & 25mm \\\\ \n",
      " \\hline\n",
      "$\\theta_1$ &\n",
      " $2.44 \\pm 0.01$ &\n",
      " $1.81 \\pm 0.01$ &\n",
      " $1.60 \\pm 0.01$ &\n",
      " $1.04 \\pm 0.01$ &\n",
      " $0.35 \\pm 0.01$ &\n",
      " $0.12 \\pm 0.01$\n",
      " \\vspace*{0.0mm} \\\\\n",
      "$\\theta_2$ &\n",
      " $2.47 \\pm 0.01$ &\n",
      " $1.84 \\pm 0.01$ &\n",
      " $1.72 \\pm 0.01$ &\n",
      " $1.13 \\pm 0.01$ &\n",
      " $0.62 \\pm 0.01$ &\n",
      " $0.12 \\pm 0.01$\n",
      " \\vspace*{0.0mm} \\\\\n",
      "$\\theta_3$ &\n",
      " $2.47 \\pm 0.01$ &\n",
      " $2.03 \\pm 0.01$ &\n",
      " $1.72 \\pm 0.01$ &\n",
      " $1.15 \\pm 0.01$ &\n",
      " $0.62 \\pm 0.01$ &\n",
      " $0.12 \\pm 0.01$\n",
      " \\vspace*{0.0mm} \\\\\n",
      "$\\theta_4$ &\n",
      " $2.50 \\pm 0.01$ &\n",
      " $2.06 \\pm 0.01$ &\n",
      " $1.72 \\pm 0.01$ &\n",
      " $1.17 \\pm 0.01$ &\n",
      " $0.73 \\pm 0.01$ &\n",
      " $0.12 \\pm 0.01$\n",
      " \\vspace*{0.0mm} \\\\\n",
      "$\\theta_5$ &\n",
      " $2.51 \\pm 0.01$ &\n",
      " $2.07 \\pm 0.01$ &\n",
      " $1.72 \\pm 0.01$ &\n",
      " $1.18 \\pm 0.01$ &\n",
      " $0.75 \\pm 0.01$ &\n",
      " $0.12 \\pm 0.01$\n",
      " \\vspace*{0.0mm} \\\\\n",
      "$\\theta_6$ &\n",
      " $2.51 \\pm 0.01$ &\n",
      " $2.09 \\pm 0.01$ &\n",
      " $1.72 \\pm 0.01$ &\n",
      " $1.19 \\pm 0.01$ &\n",
      " $0.75 \\pm 0.01$ &\n",
      " $0.12 \\pm 0.01$\n",
      " \\vspace*{0.0mm} \\\\\n",
      "$\\theta_7$ &\n",
      " $2.51 \\pm 0.01$ &\n",
      " $2.09 \\pm 0.01$ &\n",
      " $1.72 \\pm 0.01$ &\n",
      " $1.19 \\pm 0.01$ &\n",
      " $0.79 \\pm 0.01$ &\n",
      " $0.12 \\pm 0.01$\n",
      " \\vspace*{0.0mm} \\\\\n",
      "$\\theta_8$ &\n",
      " $2.51 \\pm 0.01$ &\n",
      " $2.10 \\pm 0.01$ &\n",
      " $1.73 \\pm 0.01$ &\n",
      " $1.19 \\pm 0.01$ &\n",
      " $0.80 \\pm 0.01$ &\n",
      " $0.12 \\pm 0.01$\n",
      " \\vspace*{0.0mm} \\\\\n",
      "$\\theta_9$ &\n",
      " $2.52 \\pm 0.01$ &\n",
      " $2.10 \\pm 0.01$ &\n",
      " $1.73 \\pm 0.01$ &\n",
      " $1.20 \\pm 0.01$ &\n",
      " $0.81 \\pm 0.01$ &\n",
      " $0.12 \\pm 0.01$\n",
      " \\vspace*{0.0mm} \\\\\n",
      "$\\theta_{10}$ &\n",
      " $2.52 \\pm 0.01$ &\n",
      " $2.11 \\pm 0.01$ &\n",
      " $1.74 \\pm 0.01$ &\n",
      " $1.20 \\pm 0.01$ &\n",
      " $0.83 \\pm 0.01$ &\n",
      " $0.12 \\pm 0.01$\n",
      " \\vspace*{0.0mm} \\\\\n",
      "$\\theta_{11}$ &\n",
      " $2.53 \\pm 0.01$ &\n",
      " $2.23 \\pm 0.01$ &\n",
      " $1.74 \\pm 0.01$ &\n",
      " $1.25 \\pm 0.01$ &\n",
      " $0.84 \\pm 0.01$ &\n",
      " $0.12 \\pm 0.01$\n",
      " \\vspace*{0.0mm} \\\\\n",
      "$\\theta_{12}$ &\n",
      " $2.56 \\pm 0.01$ &\n",
      " $2.25 \\pm 0.01$ &\n",
      " $1.76 \\pm 0.01$ &\n",
      " $1.25 \\pm 0.01$ &\n",
      " $0.84 \\pm 0.01$ &\n",
      " $0.12 \\pm 0.01$\n",
      " \\vspace*{0.0mm} \\\\\n",
      "$\\theta_{13}$ &\n",
      " $2.59 \\pm 0.01$ &\n",
      " $2.28 \\pm 0.01$ &\n",
      " $1.76 \\pm 0.01$ &\n",
      " $1.26 \\pm 0.01$ &\n",
      " $0.88 \\pm 0.01$ &\n",
      " $0.12 \\pm 0.01$\n",
      " \\vspace*{0.0mm} \\\\\n",
      "$\\theta_{14}$ &\n",
      " $2.63 \\pm 0.01$ &\n",
      " $2.28 \\pm 0.01$ &\n",
      " $1.77 \\pm 0.01$ &\n",
      " $1.26 \\pm 0.01$ &\n",
      " $0.91 \\pm 0.01$ &\n",
      " $0.12 \\pm 0.01$\n",
      " \\vspace*{0.0mm} \\\\\n",
      "$\\theta_{15}$ &\n",
      " $2.76 \\pm 0.01$ &\n",
      " $2.35 \\pm 0.01$ &\n",
      " $1.81 \\pm 0.01$ &\n",
      " $1.28 \\pm 0.01$ &\n",
      " $1.04 \\pm 0.01$ &\n",
      " $0.12 \\pm 0.01$\n",
      " \\vspace*{0.0mm} \\\\\n",
      " \\hline \n",
      " \\end{tabular}\n"
     ]
    }
   ],
   "source": [
    "listi = [0.01, 0.01, 0.01, 0.01, 0.01, 0.01, 0.01, 0.01, 0.01, 0.01, 0.01, 0.01, 0.01, 0.01, 0.01]\n",
    "vdict = {\"b\":[1.0],\"5mm\": theta[0], \"10mm\": theta[1], \"15mm\": theta[2], \n",
    "         \"20mm\": theta[3], \"22.5mm\": theta[4], \"25mm\": theta[5]}\n",
    "deltavdict = {\"b\":listi,\"5mm\": listi, \"10mm\": listi, \"15mm\": listi, \n",
    "              \"20mm\": listi, \"22.5mm\": listi, \"25mm\": listi}\n",
    "print_to_table(vdict, deltavdict, [r'$\\theta_1$',r'$\\theta_2$',r'$\\theta_3$',r'$\\theta_4$',r'$\\theta_5$',\n",
    "                                   r'$\\theta_6$',r'$\\theta_7$', r'$\\theta_8$', r'$\\theta_9$',r'$\\theta_{10}$',\n",
    "                                   r'$\\theta_{11}$',r'$\\theta_{12}$', r'$\\theta_{13}$', r'$\\theta_{14}$', r'$\\theta_{15}$'], \n",
    "               [\"5mm\", \"10mm\", \"15mm\", \"20mm\", \"22.5mm\", \"25mm\"], highlight_best=False, )"
   ]
  },
  {
   "cell_type": "code",
   "execution_count": 206,
   "metadata": {},
   "outputs": [
    {
     "data": {
      "text/latex": [
       "$\\displaystyle 8.63063063063063$"
      ],
      "text/plain": [
       "8.63063063063063"
      ]
     },
     "execution_count": 206,
     "metadata": {},
     "output_type": "execute_result"
    },
    {
     "data": {
      "image/png": "[encoded data removed]",
      "text/plain": [
       "<Figure size 720x288 with 1 Axes>"
      ]
     },
     "metadata": {
      "needs_background": "light"
     },
     "output_type": "display_data"
    }
   ],
   "source": [
    "fig, ax = plt.subplots(figsize=(10,4))\n",
    "x = [1.0]\n",
    "r_2_g = 27.5 # mm +-1\n",
    "r_2_g_err = 1\n",
    "r_2 = 17.92 #mm +- 1.11\n",
    "r_2_err = 1.11\n",
    "ax.errorbar(x, r_2, xerr=0, yerr=r_2_err, fmt='D', color='r', label=r'Errorleiste und Bestwert errechnet $ r_2 $ ')\n",
    "ax.errorbar(x, r_2_g, xerr=0, yerr=r_2_g_err, fmt='D', color='b', label=r'Errorleiste und Bestwert Literatur$ r_2 $ ')\n",
    "\n",
    "#ax.plot(x, r_2_g, color='b',label=r'direkt gemessener $ r_2 $ ')\n",
    "#ax.plot(x, r_2_g+1, color='b',label=r'direkt gemessener $ r_2 $ ')\n",
    "#ax.plot(x, r_2_g-1, color='b',label=r'direkt gemessener $ r_2 $ ')\n",
    "ax.set(xlabel='Unbedeutend/Einheitenlos', ylabel='Radius Target', title='Errechneter Radius und  direkt gemessener Radius (Literaturwert)')\n",
    "ax.legend(loc=\"center right\")\n",
    "ax.grid()\n",
    "fig.savefig(\"vergleich_lit_14.png\")\n",
    "\n",
    "vertraeglichkeit(r_2, r_2_g, r_2_err, r_2_g_err)"
   ]
  },
  {
   "cell_type": "code",
   "execution_count": 203,
   "metadata": {},
   "outputs": [
    {
     "name": "stdout",
     "output_type": "stream",
     "text": [
      "[2.53646813 2.11180773 1.73124347 1.1968652  0.76969697 0.11598746]\n",
      "[7.87796424e-02 1.50566596e-01 4.39904527e-02 6.07189420e-02\n",
      " 1.56075020e-01 1.43648751e-17]\n",
      "[ 5.  10.  15.  20.  22.5 25. ]\n"
     ]
    }
   ],
   "source": [
    "print(theta_am)\n",
    "print(theta_std)\n",
    "print(b)"
   ]
  },
  {
   "cell_type": "code",
   "execution_count": 204,
   "metadata": {},
   "outputs": [
    {
     "name": "stdout",
     "output_type": "stream",
     "text": [
      "[0.29776589 0.49111494 0.64801858 0.82586212 0.92419951 0.99831883]\n",
      "[3.79184474e-02 6.47727170e-02 1.65051069e-02 1.67561244e-02\n",
      " 2.67371932e-02 2.29838002e-16]\n"
     ]
    }
   ],
   "source": [
    "print(cos_theta_am)\n",
    "print(cos_theta_std)"
   ]
  },
  {
   "cell_type": "code",
   "execution_count": null,
   "metadata": {},
   "outputs": [],
   "source": []
  }
 ],
 "metadata": {
  "kernelspec": {
   "display_name": "Python 3",
   "language": "python",
   "name": "python3"
  },
  "language_info": {
   "codemirror_mode": {
    "name": "ipython",
    "version": 3
   },
   "file_extension": ".py",
   "mimetype": "text/x-python",
   "name": "python",
   "nbconvert_exporter": "python",
   "pygments_lexer": "ipython3",
   "version": "3.8.3"
  }
 },
 "nbformat": 4,
 "nbformat_minor": 4
}
