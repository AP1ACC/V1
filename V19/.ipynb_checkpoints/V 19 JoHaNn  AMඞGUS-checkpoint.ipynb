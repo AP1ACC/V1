{
 "cells": [
  {
   "cell_type": "code",
   "execution_count": 2,
   "metadata": {},
   "outputs": [],
   "source": [
    "# imports\n",
    "import numpy as np\n",
    "import matplotlib.pyplot as plt\n",
    "import matplotlib.colors as c\n",
    "from matplotlib import rcParams\n",
    "import sympy as sy\n",
    "import scipy.constants as pc\n",
    "from sympy import *\n",
    "from math import log10, floor"
   ]
  },
  {
   "cell_type": "code",
   "execution_count": 3,
   "metadata": {},
   "outputs": [],
   "source": [
    "# Funktionen\n",
    "def am(werte):\n",
    "    return np.mean(werte)\n",
    "\n",
    "def std(werte):\n",
    "    summen_der_quadrate = 0\n",
    "    for wert in werte:\n",
    "        summen_der_quadrate+=(wert-am(werte))**2       \n",
    "    return np.sqrt(summen_der_quadrate/(werte.size-1))\n",
    "\n",
    "def stu(werte):\n",
    "    return std(werte)/np.sqrt(werte.size)\n",
    "\n",
    "x = \"Johann ist der beste\"\n",
    "\n",
    "def fehler(f, werte, unsicherheiten, variablen):\n",
    "    zMax = 0\n",
    "    for i in range(werte.size):\n",
    "        dif = np.abs(sy.diff(f, variablen[i]))\n",
    "        zMax += (dif * unsicherheiten[i])**2\n",
    "    zMax = sqrt(zMax)\n",
    "    for j in range(werte.size):\n",
    "        zMax = sub(zMax, variablen[j], werte[j])\n",
    "    return zMax\n",
    "\n",
    "def fehlerMax(f, werte, unsicherheiten, variablen):\n",
    "    zMax = 0\n",
    "    for i in range(werte.size):\n",
    "        dif = np.abs(sy.diff(f, variablen[i]))\n",
    "        zMax += dif * unsicherheiten[i]\n",
    "    for j in range(werte.size):\n",
    "        zMax = sub(zMax, variablen[j], werte[j])\n",
    "    return zMax\n",
    "\n",
    "def groessterBeitrag(f, werte, unsicherheiten, variablen):\n",
    "    zMax = 0\n",
    "    zMaxArray = np.array([])\n",
    "    for i in range (werte.size):\n",
    "        zMax = (np.abs(sy.diff(f, variablen[i])) * unsicherheiten[i])\n",
    "        for j in range(werte.size):\n",
    "            zMax = sub(zMax, variablen[j], werte[j])\n",
    "        x = np.array([zMax])\n",
    "        zMaxArray = np.append(zMaxArray, x)\n",
    "    return variablen[np.argmax(zMaxArray)]\n",
    "\n",
    "def sub(zMax, variable, wert):\n",
    "    return zMax.subs([(variable, wert)])\n",
    "\n",
    "def einfachGaussAdd(unsicherheiten, koeffizienten):\n",
    "    dz = 0\n",
    "    for i in range (unsicherheiten.size):\n",
    "        dz += (unsicherheiten[i]*unsicherheiten[i])**2\n",
    "    return sqrt(dz)\n",
    "\n",
    "def einfachGaussMult(unsicherheiten, werte, exponenten):\n",
    "    dz = 0\n",
    "    for i in range (unsicherheiten.size):\n",
    "        dz += (exponenten[i]*unsicherheiten[i]/werte[i])**2\n",
    "    return sqrt(dz)\n",
    "\n",
    "def einfachGaussMultMax(unsicherheiten, werte, exponenten):\n",
    "    max_a = 0\n",
    "    num = -1\n",
    "    for i in range (unsicherheiten.size):\n",
    "        maxi = (exponenten[i]*unsicherheiten[i]/werte[i])**2\n",
    "        if max_a <= maxi:\n",
    "            max_a = maxi\n",
    "            num = i\n",
    "    return (max_a, num)\n",
    "\n",
    "def vertraeglichkeit(am_1, am_2, stu_1, stu_2):\n",
    "    return (np.abs(am_1-am_2)/(sqrt((stu_1**2)*(stu_2**2))))\n",
    "\n",
    "def bestA(x, y):\n",
    "    return (sum(x**2)*sum(y)-sum(x)*sum(x*y))/(x.size*sum(x**2)-sum(x)**2)\n",
    "\n",
    "def bestB(x, y):\n",
    "    return (x.size*sum(x*y)-sum(x)*sum(y))/(x.size*sum(x**2)-sum(x)**2)\n",
    "\n",
    "def streuung(x, y):\n",
    "    s = 0\n",
    "    for i in range(x.size):\n",
    "        s += (y[i]-(bestA(x, y)+bestB(x, y)*x[i]))**2\n",
    "    return np.sqrt(s/(x.size-2))\n",
    "\n",
    "def stuA(x, y):\n",
    "    s = streuung(x, y)\n",
    "    return s*np.sqrt(sum(x**2)/((x.size*sum(x**2)-sum(x)**2)))\n",
    "\n",
    "def stuB(x, y):\n",
    "    s = streuung(x, y)\n",
    "    return s*np.sqrt(x.size/((x.size*sum(x**2)-sum(x)**2)))\n",
    "\n",
    "def round_to_j(x,j):\n",
    "    return round(x, (j-1)-int(floor(log10(abs(x)))))"
   ]
  },
  {
   "cell_type": "code",
   "execution_count": 4,
   "metadata": {},
   "outputs": [],
   "source": [
    "# Erinnerungen\n",
    "# x = np.array([,])\n",
    "# x.size\n",
    "# x, y = symbols('x y')\n",
    "# expr = x*y\n",
    "# expr.subs([(x, wert_x), (y, wert_y)])"
   ]
  },
  {
   "cell_type": "code",
   "execution_count": 5,
   "metadata": {},
   "outputs": [],
   "source": [
    "# Einzelmessungen\n",
    "gew = np.array([0, 10, 20, 30, 40, 50])\n",
    "f_gew = 0.1\n",
    "auslenk =  abs(np.array([365, 311, 259, 208, 150, 103])-365)\n",
    "f_auslenk = 1"
   ]
  },
  {
   "cell_type": "code",
   "execution_count": 6,
   "metadata": {},
   "outputs": [],
   "source": [
    "klaengeg = np.linspace(0, 800, 9)+107+5\n",
    "omega_g = 2*pc.pi/(np.array([19.02, 18.71, 18.74, 18.74, 18.91, 18.87, 18.75, 18.73, 18.77])/10)\n",
    "us_p = am(2*pc.pi/(np.array([19.02, 18.71, 18.74, 18.74, 18.91, 18.87, 18.75, 18.73, 18.77])/10))*am(0.05/(np.array([19.02, 18.71, 18.74, 18.74, 18.91, 18.87, 18.75, 18.73, 18.77])/10))\n",
    "#d = np.array([3.2, 3.9, 6.3, 2.75, 4.9, 4.3, 4.3, 3.3, 3.9])\n",
    "pTe = np.array([18.7, 18.41, 18.03, 17.80, 17.11, 16.49, 16.05, 15.27, 14.76])/10"
   ]
  },
  {
   "cell_type": "code",
   "execution_count": 7,
   "metadata": {},
   "outputs": [
    {
     "name": "stdout",
     "output_type": "stream",
     "text": [
      "1 [4.23 4.08 3.82 3.74 3.48 3.49 3.39 3.37 3.31]\n",
      "2 [1.02   0.791  0.593  0.446  0.332  0.234  0.134  0.0632 0.0205]\n"
     ]
    }
   ],
   "source": [
    "#Kopplungs\n",
    "pTp = 2*pc.pi/(np.array([14.86/10, 15.39/10, 16.45/10, 16.79/10, 18.04/10, 16.22/9, 16.66/9, 16.79/9, 17.08/9]))\n",
    "pTm = 2*pc.pi/(np.array([12.3 * 0.5, 15.89 * 0.5, 21.20 * 0.5, 28.17*0.5, 18.94, 26.86, 23.45 * 2, 49.71 * 2, 76.78 * 4])) #in einer Periode\n",
    "\n",
    "zu_rundende_arrays = np.array([pTp, pTm])\n",
    "\n",
    "for i in range(len(zu_rundende_arrays)):\n",
    "    \n",
    "    runden_array = zu_rundende_arrays[i]\n",
    "    for j in range(len(runden_array)):\n",
    "        \n",
    "        runden_array[j] = round_to_j(runden_array[j],3)\n",
    "    runden_array = zu_rundende_arrays[i]\n",
    "\n",
    "for i in range(len(zu_rundende_arrays)):\n",
    "    print(i+1,zu_rundende_arrays[i])\n",
    "        \n"
   ]
  },
  {
   "cell_type": "code",
   "execution_count": 41,
   "metadata": {},
   "outputs": [
    {
     "name": "stdout",
     "output_type": "stream",
     "text": [
      "OMEGALUL 3.338480873908752\n",
      "Fehler relativ: 0.00568204687489969\n",
      "Fehler total: 0.0189694048165056\n",
      "0.889810669070355\n"
     ]
    }
   ],
   "source": [
    "#Fehlerfortpüflanzung g,f\n",
    "\n",
    "g_w, g_f = 9.808, 0.001\n",
    "l_w, l_f = 0.88, 0.01 #Stimmt nicht YEP monkaSTEER ඞඞඞඞඞඞ AMඞGUS, WENN DER WERT SUS IST ඞඞඞඞඞඞඞඞ\n",
    "omega_lit_w = np.sqrt(g_w/l_w)\n",
    "\n",
    "print(\"OMEGALUL\", np.sqrt(g_w/l_w)) #3.34 gemessen, Ungenauigkeit 0,09\n",
    "\n",
    "delta_omega_f = einfachGaussMult(np.array([g_f, l_f]), np.array([g_w, l_w]), np.array([0.5,-0.5]))\n",
    "omega_lit_f = delta_omega_f * omega_lit_w\n",
    "print(\"Fehler relativ:\", delta_omega_f)\n",
    "print(\"Fehler total:\", omega_lit_f)\n",
    "\n",
    "ver_omega = vertraeglichkeit(omega_lit_w, 3.34, omega_lit_f, 0.09)\n",
    "print(ver_omega)"
   ]
  },
  {
   "cell_type": "code",
   "execution_count": null,
   "metadata": {},
   "outputs": [],
   "source": []
  },
  {
   "cell_type": "code",
   "execution_count": null,
   "metadata": {},
   "outputs": [],
   "source": []
  }
 ],
 "metadata": {
  "kernelspec": {
   "display_name": "Python 3",
   "language": "python",
   "name": "python3"
  },
  "language_info": {
   "codemirror_mode": {
    "name": "ipython",
    "version": 3
   },
   "file_extension": ".py",
   "mimetype": "text/x-python",
   "name": "python",
   "nbconvert_exporter": "python",
   "pygments_lexer": "ipython3",
   "version": "3.8.5"
  }
 },
 "nbformat": 4,
 "nbformat_minor": 4
}
