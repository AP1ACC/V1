{
 "cells": [
  {
   "cell_type": "code",
   "execution_count": 27,
   "metadata": {},
   "outputs": [],
   "source": [
    "# imports\n",
    "import numpy as np\n",
    "import matplotlib.pyplot as plt\n",
    "import matplotlib.colors as c\n",
    "from matplotlib import rcParams\n",
    "import sympy as sy\n",
    "import scipy.constants as pc\n",
    "from sympy import *\n",
    "from math import log10, floor\n",
    "\n",
    "rcParams['font.size'] = 16\n",
    "rcParams['font.weight'] = 'bold'\n",
    "rcParams['text.usetex'] = True\n",
    "rcParams['font.family'] = 'sans-serif'\n",
    "rcParams['font.sans-serif'] = ['Helvetica']\n",
    "rcParams['errorbar.capsize'] = 3"
   ]
  },
  {
   "cell_type": "code",
   "execution_count": 35,
   "metadata": {},
   "outputs": [],
   "source": [
    "# Funktionen\n",
    "def am(werte):\n",
    "    return np.mean(werte)\n",
    "\n",
    "def std(werte):\n",
    "    summen_der_quadrate = 0\n",
    "    for wert in werte:\n",
    "        summen_der_quadrate+=(wert-am(werte))**2       \n",
    "    return np.sqrt(summen_der_quadrate/(werte.size-1))\n",
    "\n",
    "def stu(werte):\n",
    "    return std(werte)/np.sqrt(werte.size)\n",
    "\n",
    "x = \"Johann ist der beste\"\n",
    "\n",
    "def fehler(f, werte, unsicherheiten, variablen):\n",
    "    zMax = 0\n",
    "    for i in range(werte.size):\n",
    "        dif = np.abs(sy.diff(f, variablen[i]))\n",
    "        zMax += (dif * unsicherheiten[i])**2\n",
    "    zMax = sqrt(zMax)\n",
    "    for j in range(werte.size):\n",
    "        zMax = sub(zMax, variablen[j], werte[j])\n",
    "    return zMax\n",
    "\n",
    "def fehlerMax(f, werte, unsicherheiten, variablen):\n",
    "    zMax = 0\n",
    "    for i in range(werte.size):\n",
    "        dif = np.abs(sy.diff(f, variablen[i]))\n",
    "        zMax += dif * unsicherheiten[i]\n",
    "    for j in range(werte.size):\n",
    "        zMax = sub(zMax, variablen[j], werte[j])\n",
    "    return zMax\n",
    "\n",
    "def groessterBeitrag(f, werte, unsicherheiten, variablen):\n",
    "    zMax = 0\n",
    "    zMaxArray = np.array([])\n",
    "    for i in range (werte.size):\n",
    "        zMax = (np.abs(sy.diff(f, variablen[i])) * unsicherheiten[i])\n",
    "        for j in range(werte.size):\n",
    "            zMax = sub(zMax, variablen[j], werte[j])\n",
    "        x = np.array([zMax])\n",
    "        zMaxArray = np.append(zMaxArray, x)\n",
    "    return variablen[np.argmax(zMaxArray)], zMaxArray[np.argmax(zMaxArray)]\n",
    "\n",
    "def sub(zMax, variable, wert):\n",
    "    return zMax.subs([(variable, wert)])\n",
    "\n",
    "def einfachGaussAdd(unsicherheiten, koeffizienten):\n",
    "    dz = 0\n",
    "    for i in range (unsicherheiten.size):\n",
    "        dz += (unsicherheiten[i]*unsicherheiten[i])**2\n",
    "    return sqrt(dz)\n",
    "\n",
    "def einfachGaussMult(unsicherheiten, werte, exponenten):\n",
    "    dz = 0\n",
    "    for i in range (unsicherheiten.size):\n",
    "        dz += (exponenten[i]*unsicherheiten[i]/werte[i])**2\n",
    "    return sqrt(dz)\n",
    "\n",
    "def einfachGaussMultMax(unsicherheiten, werte, exponenten):\n",
    "    max_a = 0\n",
    "    num = -1\n",
    "    for i in range (unsicherheiten.size):\n",
    "        maxi = (exponenten[i]*unsicherheiten[i]/werte[i])**2\n",
    "        if max_a <= maxi:\n",
    "            max_a = maxi\n",
    "            num = i\n",
    "    return (max_a, num)\n",
    "\n",
    "def vertraeglichkeit(am_1, am_2, stu_1, stu_2):\n",
    "    return (np.abs(am_1-am_2)/(sqrt((stu_1**2)*(stu_2**2))))\n",
    "\n",
    "def bestA(x, y):\n",
    "    return (sum(x**2)*sum(y)-sum(x)*sum(x*y))/(x.size*sum(x**2)-sum(x)**2)\n",
    "\n",
    "def bestB(x, y):\n",
    "    return (x.size*sum(x*y)-sum(x)*sum(y))/(x.size*sum(x**2)-sum(x)**2)\n",
    "\n",
    "def streuung(x, y):\n",
    "    s = 0\n",
    "    for i in range(x.size):\n",
    "        s += (y[i]-(bestA(x, y)+bestB(x, y)*x[i]))**2\n",
    "    return np.sqrt(s/(x.size-2))\n",
    "\n",
    "def stuA(x, y):\n",
    "    s = streuung(x, y)\n",
    "    return s*np.sqrt(sum(x**2)/((x.size*sum(x**2)-sum(x)**2)))\n",
    "\n",
    "def stuB(x, y):\n",
    "    s = streuung(x, y)\n",
    "    return s*np.sqrt(x.size/((x.size*sum(x**2)-sum(x)**2)))\n",
    "\n",
    "def round_to_j(x,j):\n",
    "    return round(x, (j-1)-int(floor(log10(abs(x)))))"
   ]
  },
  {
   "cell_type": "code",
   "execution_count": 74,
   "metadata": {},
   "outputs": [],
   "source": [
    "# Erinnerungen\n",
    "# x = np.array([,])\n",
    "# x.size\n",
    "# x, y = symbols('x y')\n",
    "# expr = x*y\n",
    "# expr.subs([(x, wert_x), (y, wert_y)])"
   ]
  },
  {
   "cell_type": "code",
   "execution_count": 75,
   "metadata": {},
   "outputs": [],
   "source": [
    "# Einzelmessungen\n",
    "gew = np.array([0, 10, 20, 30, 40, 50])\n",
    "f_gew = 0.1\n",
    "auslenk =  abs(np.array([365, 311, 259, 208, 150, 103])-365)\n",
    "f_auslenk = 1"
   ]
  },
  {
   "cell_type": "code",
   "execution_count": 13,
   "metadata": {},
   "outputs": [],
   "source": [
    "klaengeg = np.linspace(0, 800, 9)+107+5\n",
    "omega_g = 2*pc.pi/(np.array([19.02, 18.71, 18.74, 18.74, 18.91, 18.87, 18.75, 18.73, 18.77])/10)\n",
    "us_p = am(2*pc.pi/(np.array([19.02, 18.71, 18.74, 18.74, 18.91, 18.87, 18.75, 18.73, 18.77])/10))*am(0.05/(np.array([19.02, 18.71, 18.74, 18.74, 18.91, 18.87, 18.75, 18.73, 18.77])/10))\n",
    "#d = np.array([3.2, 3.9, 6.3, 2.75, 4.9, 4.3, 4.3, 3.3, 3.9])\n",
    "pTe = 2*pc.pi/(np.array([18.7, 18.41, 18.03, 17.80, 17.11, 16.49, 16.05, 15.27, 14.76])/10)"
   ]
  },
  {
   "cell_type": "code",
   "execution_count": 14,
   "metadata": {},
   "outputs": [
    {
     "name": "stdout",
     "output_type": "stream",
     "text": [
      "1 [4.23 4.08 3.82 3.74 3.48 3.49 3.39 3.37 3.31]\n",
      "2 [1.02   0.791  0.593  0.446  0.332  0.234  0.134  0.0632 0.0205]\n"
     ]
    }
   ],
   "source": [
    "#Kopplungs\n",
    "pTp = 2*pc.pi/(np.array([14.86/10, 15.39/10, 16.45/10, 16.79/10, 18.04/10, 16.22/9, 16.66/9, 16.79/9, 17.08/9]))\n",
    "pTm = 2*pc.pi/(np.array([12.3 * 0.5, 15.89 * 0.5, 21.20 * 0.5, 28.17*0.5, 18.94, 26.86, 23.45 * 2, 49.71 * 2, 76.78 * 4])) #in einer Periode\n",
    "klaenge = np.linspace(0, 800, 17)+107+5\n",
    "klaengeg = np.linspace(0, 800, 9)+107+5\n",
    "zu_rundende_arrays = np.array([pTp, pTm])\n",
    "\n",
    "for i in range(len(zu_rundende_arrays)):\n",
    "    \n",
    "    runden_array = zu_rundende_arrays[i]\n",
    "    for j in range(len(runden_array)):\n",
    "        \n",
    "        runden_array[j] = round_to_j(runden_array[j],3)\n",
    "    runden_array = zu_rundende_arrays[i]\n",
    "\n",
    "for i in range(len(zu_rundende_arrays)):\n",
    "    print(i+1,zu_rundende_arrays[i])\n",
    "        \n"
   ]
  },
  {
   "cell_type": "code",
   "execution_count": 37,
   "metadata": {},
   "outputs": [
    {
     "name": "stdout",
     "output_type": "stream",
     "text": [
      "OMEGALUL 3.338480873908752\n",
      "Fehler relativ: 0.00568204687489969\n",
      "Fehler total: 0.0189694048165056\n",
      "(3.228305785123967e-05, 1)\n",
      "0.889810669070355\n"
     ]
    }
   ],
   "source": [
    "#Fehlerfortpüflanzung g,l\n",
    "\n",
    "g_w, g_f = 9.808, 0.001\n",
    "l_w, l_f = 0.88, 0.01 #Stimmt nicht YEP monkaSTEER ඞඞඞඞඞඞ AMඞGUS, WENN DER WERT SUS IST ඞඞඞඞඞඞඞඞ\n",
    "omega_lit_w = np.sqrt(g_w/l_w)\n",
    "\n",
    "print(\"OMEGALUL\", np.sqrt(g_w/l_w)) #3.34 gemessen, Ungenauigkeit 0,09\n",
    "\n",
    "delta_omega_f = einfachGaussMult(np.array([g_f, l_f]), np.array([g_w, l_w]), np.array([0.5,-0.5]))\n",
    "omega_lit_f = delta_omega_f * omega_lit_w\n",
    "print(\"Fehler relativ:\", delta_omega_f)\n",
    "print(\"Fehler total:\", omega_lit_f)\n",
    "\n",
    "ver_omega = vertraeglichkeit(omega_lit_w, 3.34, omega_lit_f, 0.09)\n",
    "print(einfachGaussMultMax(np.array([g_f, l_f]), np.array([g_w, l_w]), np.array([0.5,-0.5])))\n",
    "print(ver_omega)\n"
   ]
  },
  {
   "cell_type": "code",
   "execution_count": 44,
   "metadata": {
    "scrolled": true
   },
   "outputs": [
    {
     "name": "stdout",
     "output_type": "stream",
     "text": [
      "(omega_gl, 0.0189037829802095)\n",
      "(omega_gl, 0.0187373893044433)\n",
      "(omega_gl, 0.0184773416846067)\n",
      "(omega_gl, 0.0181352262624625)\n",
      "(omega_gl, 0.0177250061428771)\n",
      "(omega_gl, 0.0172616236541760)\n",
      "(omega_gl, 0.0167597727305599)\n",
      "(omega_gl, 0.0162329814582918)\n",
      "(omega_gl, 0.0156930448768712)\n",
      "Werte für omega_geg [3.35006994 3.37981958 3.4273867  3.49204329 3.57286168 3.66877395\n",
      " 3.7786309  3.9012547  4.03548168]\n",
      "Fehler für omega_geg [0.01890718 0.0187702  0.01861874 0.01854335 0.01865085 0.01904497\n",
      " 0.01980475 0.02096905 0.02253432]\n",
      "[0. 0. 0. 0. 0. 0. 0. 0. 0.]\n",
      "5.83094256905410\n",
      "19.5938216052911\n",
      "34.2926323795679\n",
      "22.6712594713076\n",
      "59.1978918918185\n",
      "82.5685415553984\n",
      "76.3712892526974\n",
      "113.114039133043\n",
      "109.176131412276\n"
     ]
    },
    {
     "data": {
      "image/png": "[encoded data removed]",
      "text/plain": [
       "<Figure size 720x432 with 1 Axes>"
      ]
     },
     "metadata": {
      "needs_background": "light"
     },
     "output_type": "display_data"
    }
   ],
   "source": [
    "#Fehlerfortpüflanzung D_F, rho, m, l, omega_gl\n",
    "\n",
    "D_F, rho, m, l, omega_gl, omega_geg = symbols('D_F rho m l omega_gl omega_geg')\n",
    "fuk_omega_geg = sy.sqrt(D_F * rho**2 / (m * l**2) +  omega_gl**2)\n",
    "\n",
    "D_F_w, D_F_f = 1.85/1000, 0.02/1000\n",
    "rho_w, rho_f = klaengeg, 1\n",
    "m_w, m_f = 386.6, 1\n",
    "l_w, l_f = 0.88, 0.01\n",
    "omega_gl_w, omega_gl_f = omega_lit_w, omega_lit_f\n",
    "\n",
    "omega_geg_f , omega_geg_ga, omega_geg_w = np.zeros(len(klaengeg)), np.zeros(len(klaengeg)), np.zeros(len(klaengeg))\n",
    "\n",
    "for i in range(len(klaengeg)):\n",
    "    unsic_omega_geg = np.array([D_F_f, rho_f, m_f, l_f, omega_gl_f])\n",
    "    werte_omega_geg = np.array([D_F_w, rho_w[i], m_w, l_w, omega_gl_w])\n",
    "    varia_omega_geg = np.array([D_F, rho, m, l, omega_gl])\n",
    "    omega_geg_f[i] = fehler(fuk_omega_geg, werte_omega_geg, unsic_omega_geg, varia_omega_geg)\n",
    "    omega_geg_w[i] = np.sqrt((D_F_w * rho_w[i]**2) / (m_w * l_w**2) +  omega_gl_w**2)\n",
    "    print(groessterBeitrag(fuk_omega_geg, werte_omega_geg, unsic_omega_geg, varia_omega_geg))\n",
    "    \n",
    "print(\"Werte für\", omega_geg, omega_geg_w)\n",
    "print(\"Fehler für\", omega_geg, omega_geg_f)\n",
    "print(omega_geg_ga)\n",
    "\n",
    "    \n",
    "fig, ax = plt.subplots(figsize=(10,6))\n",
    "ax.tick_params(axis='both', which='major', labelsize=18)\n",
    "ax.tick_params(axis='both', which='minor', labelsize=16)\n",
    "\n",
    "ax.errorbar(klaengeg, omega_geg_w, xerr=1, yerr=omega_geg_f, fmt='o',\n",
    "            elinewidth=1, color='#094D92', ms=4, label=r'Datenpunkte mit Fehlerbalken $\\omega_{geg,erw}$')\n",
    "\n",
    "ax.errorbar(klaengeg, pTe, xerr=1, yerr=0.09, fmt='o', ms=4, elinewidth=1, color='#419D78', \n",
    "            label=r'Datenpunkte mit Fehlerbalken $\\omega_{geg,gem}$')\n",
    "\n",
    "ax.set(xlabel=r'$\\varrho$ [mm]', ylabel=r'$\\omega_{geg} [\\frac{1}{s}]$', title=r'$\\omega_{geg}$ Literaturvergleich')\n",
    "ax.legend()\n",
    "ax.grid()\n",
    "\n",
    "fig.savefig(\"litvgeg.svg\")\n",
    "\n",
    "for i in range(len(klaengeg)):\n",
    "    print(vertraeglichkeit(omega_geg_w[i], pTe[i], omega_geg_f[i], 0.09))"
   ]
  },
  {
   "cell_type": "code",
   "execution_count": 63,
   "metadata": {},
   "outputs": [
    {
     "name": "stdout",
     "output_type": "stream",
     "text": [
      "(omega_gl, 0.0094847024082528/pi)\n",
      "(omega_gl, 0.0094847024082528/pi)\n",
      "(omega_gl, 0.0094847024082528/pi)\n",
      "(omega_gl, 0.0094847024082528/pi)\n",
      "(omega_gl, 0.0094847024082528/pi)\n",
      "(omega_geg, 0.00952248729464622/pi)\n",
      "(omega_geg, 0.00990237583059863/pi)\n",
      "(omega_geg, 0.0104845249851746/pi)\n",
      "(omega_geg, 0.0112671620921525/pi)\n",
      "Wert omega_m: [0.00579453 0.02066935 0.04445291 0.07678121 0.1171904  0.16514654\n",
      " 0.22007501 0.28138691 0.34850041]\n",
      "Wert omega_p: [3.34427541 3.35915022 3.38293379 3.41526208 3.45567128 3.50362741\n",
      " 3.55855589 3.61986779 3.68698128]\n",
      "Fehler omega_m: [0.00426262 0.00424726 0.00423034 0.00422194 0.00423392 0.00427813\n",
      " 0.00436464 0.00450029 0.00468801]\n",
      "Fehler omega_p: [0.00426262 0.00424726 0.00423034 0.00422194 0.00423392 0.00427813\n",
      " 0.00436464 0.00450029 0.00468801]\n"
     ]
    },
    {
     "data": {
      "image/png": "[encoded data removed]",
      "text/plain": [
       "<Figure size 720x720 with 2 Axes>"
      ]
     },
     "metadata": {
      "needs_background": "light"
     },
     "output_type": "display_data"
    }
   ],
   "source": [
    "#Fehlerfortpüflanzung omega_geg, omega_gl\n",
    "omega_geg, omega_gl = symbols('omega_geg omega_gl')\n",
    "fuk_omega_m = (omega_geg - omega_gl)/(2*sy.pi)\n",
    "fuk_omega_p = (omega_geg + omega_gl)/(2*sy.pi)\n",
    "\n",
    "omega_geg_w, omega_geg_f \n",
    "omega_gl_w, omega_gl_f \n",
    "\n",
    "omega_m_w, omega_p_w, omega_m_f, omega_p_f = np.zeros(len(omega_geg_w)), np.zeros(len(omega_geg_w)), np.zeros(len(omega_geg_w)), np.zeros(len(omega_geg_w))\n",
    "\n",
    "for i in range(len(omega_geg_w)):\n",
    "    werte_fuk_omega_mp = np.array([omega_geg_w[i], omega_gl_w])\n",
    "    unsic_fuk_omega_mp = np.array([omega_geg_f[i], omega_gl_f])\n",
    "    varia_fuk_omega_mp = np.array([omega_geg, omega_gl])\n",
    "    omega_m_w[i] = (omega_geg_w[i]-omega_gl_w)/(2)\n",
    "    omega_p_w[i] = (omega_geg_w[i]+omega_gl_w)/(2)\n",
    "    omega_m_f[i] = fehler(fuk_omega_m, werte_fuk_omega_mp, unsic_fuk_omega_mp, varia_fuk_omega_mp)\n",
    "    omega_p_f[i] = fehler(fuk_omega_p, werte_fuk_omega_mp, unsic_fuk_omega_mp, varia_fuk_omega_mp)\n",
    "    print(groessterBeitrag(fuk_omega_m, werte_fuk_omega_mp, unsic_fuk_omega_mp, varia_fuk_omega_mp))\n",
    "    #print(groessterBeitrag(fuk_omega_p, werte_fuk_omega_mp, unsic_fuk_omega_mp, varia_fuk_omega_mp))\n",
    "\n",
    "print(\"Wert omega_m:\",omega_m_w)\n",
    "print(\"Wert omega_p:\",omega_p_w)\n",
    "print(\"Fehler omega_m:\",omega_m_f )\n",
    "print(\"Fehler omega_p:\",omega_p_f )   \n",
    "\n",
    "fig, (ax0, ax1) = plt.subplots(nrows=2, ncols=1, sharex=True, figsize=(10,10))\n",
    "\n",
    "ax0.tick_params(axis='both', which='major', labelsize=18)\n",
    "ax0.tick_params(axis='both', which='minor', labelsize=16)\n",
    "ax1.tick_params(axis='both', which='major', labelsize=18)\n",
    "ax1.tick_params(axis='both', which='minor', labelsize=16)\n",
    "\n",
    "ax0.errorbar(np.flip(klaengeg), pTm, xerr=rho_f, yerr=us_p, fmt='o',\n",
    "            elinewidth=1, color='#419D78', ms=4, label=r'Datenpunkte mit Fehlerbalken $\\omega_{-, gem}(\\varrho)$')\n",
    "\n",
    "ax0.errorbar(klaengeg, omega_m_w, xerr=rho_f, yerr=omega_m_f, fmt='o',\n",
    "            elinewidth=1, color='#95E06C', ms=4, label=r'Datenpunkte mit Fehlerbalken $\\omega_{-, erw}(\\varrho)$')\n",
    "\n",
    "ax0.set(ylabel=r'$\\omega_{-}$ [$\\frac{1}{s}$]', \n",
    "       title=r'$\\omega_{-}(\\varrho)$')\n",
    "\n",
    "ax1.errorbar(np.flip(klaengeg), pTp, xerr=rho_f, yerr=us_p, fmt='o',\n",
    "            elinewidth=1, color='#094D92', ms=4, label=r'Datenpunkte mit Fehlerbalken $\\omega_{+, gem}(\\varrho)$')\n",
    "ax1.errorbar(klaengeg, omega_p_w, xerr=rho_f, yerr=omega_p_f, fmt='o',\n",
    "            elinewidth=1, color='#2D3047', ms=4, label=r'Datenpunkte mit Fehlerbalken $\\omega_{+, erw}(\\varrho)$')\n",
    "\n",
    "ax1.set(xlabel=r'$\\varrho$ [mm]', ylabel=r'$\\omega_{+}$ [$\\frac{1}{s}$]', \n",
    "       title=r'$\\omega_{+}(\\varrho)$')\n",
    "\n",
    "\n",
    "ax0.legend()\n",
    "ax0.grid()\n",
    "\n",
    "ax1.legend()\n",
    "ax1.grid()\n",
    "\n",
    "fig.savefig(\"litvpm.svg\")\n",
    "#ඞඞඞඞඞඞඞඞඞඞඞඞඞ PABLO IST SUS ඞඞඞඞඞඞඞඞඞඞඞඞඞ"
   ]
  },
  {
   "cell_type": "code",
   "execution_count": 57,
   "metadata": {},
   "outputs": [
    {
     "name": "stdout",
     "output_type": "stream",
     "text": [
      "2682.28598438475\n",
      "2040.90460760262\n",
      "1458.78281007879\n",
      "984.521563671713\n",
      "570.342158663682\n",
      "180.940653589115\n",
      "222.038380970051\n",
      "545.681019747012\n",
      "787.567983450223\n"
     ]
    }
   ],
   "source": [
    "for i in range(len(klaengeg)):\n",
    "    print(vertraeglichkeit(omega_m_w[i], pTm[i], omega_m_f[i], us_p))"
   ]
  },
  {
   "cell_type": "code",
   "execution_count": 58,
   "metadata": {},
   "outputs": [
    {
     "name": "stdout",
     "output_type": "stream",
     "text": [
      "2334.06116481935\n",
      "1917.21927974438\n",
      "1161.68229919574\n",
      "871.615944405433\n",
      "72.4318887030967\n",
      "45.4424907395367\n",
      "423.621975932154\n",
      "629.919371477043\n",
      "903.112819163959\n"
     ]
    }
   ],
   "source": [
    "for i in range(len(klaengeg)):\n",
    "    print(vertraeglichkeit(omega_p_w[i], pTp[i], omega_p_f[i], us_p))"
   ]
  },
  {
   "cell_type": "code",
   "execution_count": null,
   "metadata": {},
   "outputs": [],
   "source": []
  }
 ],
 "metadata": {
  "kernelspec": {
   "display_name": "Python 3",
   "language": "python",
   "name": "python3"
  },
  "language_info": {
   "codemirror_mode": {
    "name": "ipython",
    "version": 3
   },
   "file_extension": ".py",
   "mimetype": "text/x-python",
   "name": "python",
   "nbconvert_exporter": "python",
   "pygments_lexer": "ipython3",
   "version": "3.8.3"
  }
 },
 "nbformat": 4,
 "nbformat_minor": 4
}
