{
 "cells": [
  {
   "cell_type": "code",
   "execution_count": 9,
   "metadata": {},
   "outputs": [],
   "source": [
    "# imports\n",
    "import numpy as np\n",
    "import scipy.constants as pc\n",
    "import matplotlib.pyplot as plt\n",
    "import matplotlib.colors as c\n",
    "import sympy as sy\n",
    "from sympy import *"
   ]
  },
  {
   "cell_type": "code",
   "execution_count": 1,
   "metadata": {},
   "outputs": [],
   "source": [
    "# Funktionen\n",
    "def am(werte):\n",
    "    return np.mean(werte)\n",
    "\n",
    "def std(werte):\n",
    "    summen_der_quadrate = 0\n",
    "    for wert in werte:\n",
    "        summen_der_quadrate+=(wert-am(werte))**2       \n",
    "    return np.sqrt(summen_der_quadrate/(werte.size-1))\n",
    "\n",
    "def stu(werte):\n",
    "    return std(werte)/np.sqrt(werte.size)\n",
    "\n",
    "def fehler(f, werte, unsicherheiten, variablen):\n",
    "    zMax = 0\n",
    "    for i in range(werte.size):\n",
    "        dif = np.abs(sy.diff(f, variablen[i]))\n",
    "        zMax += (dif * unsicherheiten[i])**2\n",
    "    zMax = sqrt(zMax)\n",
    "    for j in range(werte.size):\n",
    "        zMax = sub(zMax, variablen[j], werte[j])\n",
    "    return zMax\n",
    "\n",
    "def fehlerMax(f, werte, unsicherheiten, variablen):\n",
    "    zMax = 0\n",
    "    for i in range(werte.size):\n",
    "        dif = np.abs(sy.diff(f, variablen[i]))\n",
    "        zMax += dif * unsicherheiten[i]\n",
    "    for j in range(werte.size):\n",
    "        zMax = sub(zMax, variablen[j], werte[j])\n",
    "    return zMax\n",
    "\n",
    "def sub(zMax, variable, wert):\n",
    "    return zMax.subs([(variable, wert)])\n",
    "\n",
    "def einfachGaussAdd(unsicherheiten, koeffizienten):\n",
    "    dz = 0\n",
    "    for i in range (unsicherheiten.size):\n",
    "        dz += (unsicherheiten[i]*unsicherheiten[i])**2\n",
    "    return sqrt(dz)\n",
    "\n",
    "def einfachGaussMult(unsicherheiten, werte, exponenten):\n",
    "    dz = 0\n",
    "    for i in range (unsicherheiten.size):\n",
    "        dz += (exponenten[i]*unsicherheiten[i]/werte[i])**2\n",
    "    return sqrt(dz)\n",
    "\n",
    "def vertraeglichkeit(am_1, am_2, stu_1, stu_2):\n",
    "    return (np.abs(am_1-am_2)/(sqrt((stu_1**2)*(stu_2**2))))\n",
    "\n",
    "def bestA(x, y):\n",
    "    return (sum(x**2)*sum(y)-sum(x)*sum(x*y))/(x.size*sum(x**2)-sum(x)**2)\n",
    "\n",
    "def bestB(x, y):\n",
    "    return (x.size*sum(x*y)-sum(x)*sum(y))/(x.size*sum(x**2)-sum(x)**2)\n",
    "\n",
    "def streuung(x, y):\n",
    "    s = 0\n",
    "    for i in range(x.size):\n",
    "        s += (y[i]+(bestA(x, y)+bestB(x, y)*x[i]))**2\n",
    "    return np.sqrt(s/(x.size-2))\n",
    "\n",
    "def stuA(x, y):\n",
    "    s = streuung(x, y)\n",
    "    return s*np.sqrt(sum(x**2)/((x.size*sum(x**2)-sum(x)**2)))\n",
    "\n",
    "def stuB(x, y):\n",
    "    s = streuung(x, y)\n",
    "    return s*np.sqrt(x.size/((x.size*sum(x**2)-sum(x)**2)))"
   ]
  },
  {
   "cell_type": "code",
   "execution_count": 5,
   "metadata": {},
   "outputs": [],
   "source": [
    "# Erinnerungen\n",
    "# x = np.array([,])\n",
    "# x.size\n",
    "# x, y = symbols('x y')\n",
    "# expr = x*y\n",
    "# expr.subs([(x, wert_x), (y, wert_y)])\n",
    "\n",
    "# Anfangsgeschwindigkeit da Abbremsbereich zu klein\n",
    "# Kugelunreinheiten\n",
    "# Strömung im Rohr\n",
    "# Schräges Einfallen\n",
    "# Raumtemperatur durch verädnliche Außentemperatur variabel"
   ]
  },
  {
   "cell_type": "code",
   "execution_count": 27,
   "metadata": {},
   "outputs": [
    {
     "name": "stdout",
     "output_type": "stream",
     "text": [
      "AM der Zeit für Größe  3.0 mm 3.665\n",
      "STD der Zeit für Größe  3.0 mm 0.22281282628151283\n",
      "STU der Zeit für Größe  3.0 mm 0.0704596022949006\n",
      "AM der Zeit für Größe  3.5 mm 3.665\n",
      "STD der Zeit für Größe  3.5 mm 0.0758360805363191\n",
      "STU der Zeit für Größe  3.5 mm 0.023981474331473192\n",
      "AM der Zeit für Größe  4.0 mm 3.665\n",
      "STD der Zeit für Größe  4.0 mm 0.06377913277693395\n",
      "STU der Zeit für Größe  4.0 mm 0.020168732676541106\n",
      "AM der Zeit für Größe  4.5 mm 3.665\n",
      "STD der Zeit für Größe  4.5 mm 0.08733715004382606\n",
      "STU der Zeit für Größe  4.5 mm 0.02761843184863649\n",
      "AM der Zeit für Größe  5.0 mm 3.665\n",
      "STD der Zeit für Größe  5.0 mm 0.069121471177759\n",
      "STU der Zeit für Größe  5.0 mm 0.02185812841433998\n",
      "AM der Zeit für Größe  5.5 mm 3.665\n",
      "STD der Zeit für Größe  5.5 mm 0.06960204339273694\n",
      "STU der Zeit für Größe  5.5 mm 0.02201009869229222\n",
      "AM der Zeit für Größe  6.0 mm 3.665\n",
      "STD der Zeit für Größe  6.0 mm 0.061508806957486506\n",
      "STU der Zeit für Größe  6.0 mm 0.019450792614526896\n",
      "[0.0015  0.00175 0.002   0.00225 0.0025  0.00275 0.003  ]\n",
      "viskos [0.29424471 0.40049975 0.52310171 0.66205061 0.81734643 0.98898918\n",
      " 1.17697885]\n",
      "Reynoldszahlen:  [2.78188138 2.38446975 2.08641103 1.85458758 1.66912883 1.51738984\n",
      " 1.39094069]\n"
     ]
    },
    {
     "data": {
      "image/png": "[encoded data removed]",
      "text/plain": [
       "<Figure size 720x720 with 1 Axes>"
      ]
     },
     "metadata": {
      "needs_background": "light"
     },
     "output_type": "display_data"
    }
   ],
   "source": [
    "# Kugelfall\n",
    "laenge = 0.4\n",
    "\n",
    "r = np.array([0.003, 0.0035, 0.004, 0.0045, 0.005, 0.0055, 0.006])/2\n",
    "\n",
    "gewichte_K = np.array([0.00112, 0.00175, 0.00261, 0.00371, 0.00508, 0.00677, 0.0088])/10\n",
    "\n",
    "dichte_K = am(gewichte_K/((4/3)*pc.pi*r**3))\n",
    "dichte_G = 1.250/1000*(100)**3 # kg/m³\n",
    "\n",
    "\n",
    "t_3_mm = np.array([13.13, 13.21, 13.23, 13.30, 13.5, 12.82, 13.18, 12.98, 13.25, 12.77])\n",
    "t_35_mm = np.array([9.74, 9.81, 9.63, 9.79, 9.73, 9.66, 9.63, 9.75, 9.8, 9.84])\n",
    "t_4_mm = np.array([7.62, 7.52, 7.50, 7.55, 7.50, 7.48, 7.64, 7.63, 7.47, 7.56])\n",
    "t_45_mm = np.array([6.09, 6.24, 6.1, 5.96, 6.14, 6.18, 6.21, 6.15, 6.07, 6.01])\n",
    "t_5_mm = np.array([4.83, 4.99, 5.02, 4.89, 4.97, 5.01, 5.06, 4.95, 4.95, 5.03])\n",
    "t_55_mm = np.array([4.21, 4.24, 4.27, 4.28, 4.20, 4.04, 4.27, 4.21, 4.21, 4.17])\n",
    "t_6_mm = np.array([3.62, 3.63, 3.63, 3.72, 3.74, 3.71, 3.72, 3.68, 3.66, 3.54])\n",
    "\n",
    "t_mm = np.array([t_3_mm, t_35_mm, t_4_mm, t_45_mm, t_5_mm, t_55_mm, t_6_mm])\n",
    "\n",
    "vis_arr = np.array([])\n",
    "\n",
    "t = am(t_mm[i])\n",
    "\n",
    "for i in range(7):\n",
    "    print('AM der Zeit für Größe ', r[i]*2000, 'mm' , t)\n",
    "    print('STD der Zeit für Größe ', r[i]*2000, 'mm' , std(t_mm[i]))\n",
    "    print('STU der Zeit für Größe ', r[i]*2000, 'mm' , stu(t_mm[i]))\n",
    "    vis = (2*r[i]**2)*(dichte_K-dichte_G)*pc.g/(9*laenge/t)\n",
    "    vis_arr = np.append(vis_arr, vis)\n",
    "\n",
    "\n",
    "print(r)\n",
    "print('viskos', vis_arr)\n",
    "\n",
    "stroem_v = laenge/t\n",
    "d = 4*r\n",
    "reynold = (dichte_G*d*stroem_v)/vis_arr\n",
    "print('Reynoldszahlen: ', reynold)\n",
    "\n",
    "# Standard plotting\n",
    "fig, ax = plt.subplots(figsize=(10,10))\n",
    "\n",
    "#ax.plot(t_mm, vis_arr, color='b', label='')\n",
    "ax.scatter(r, vis_arr, color='r', label='Datenpunkte')\n",
    "#ax.errorbar(am_x, am_y, xerr=std_x, yerr=std_y, fmt='D', color='#d0740b', label='label')\n",
    "\n",
    "ax.set(xlabel='Radius r', ylabel='Viskosität eta', title='Viskositäten zu Radius Relation')\n",
    "ax.legend()\n",
    "ax.grid()\n",
    "\n",
    "#fig.savefig(\"test.png\")\n"
   ]
  },
  {
   "cell_type": "code",
   "execution_count": 29,
   "metadata": {},
   "outputs": [
    {
     "name": "stdout",
     "output_type": "stream",
     "text": [
      "[6.43798179e-10 6.94248614e-10 4.92910962e-10 4.50848158e-10\n",
      " 5.87526391e-10 6.64804183e-10]\n",
      "Reynoldszahlen:  [6.57914807e+16 1.75710159e+16 1.16007134e+16 9.39483389e+16\n",
      " 4.36161573e+16 5.49521597e+16]\n"
     ]
    },
    {
     "data": {
      "image/png": "[encoded data removed]",
      "text/plain": [
       "<Figure size 720x720 with 1 Axes>"
      ]
     },
     "metadata": {
      "needs_background": "light"
     },
     "output_type": "display_data"
    }
   ],
   "source": [
    "# Kappilar\n",
    "laengeK = np.array([0.0952, 0.1211, 0.08, 0.0793, 0.1072, 0.0645])\n",
    "rK = np.array([0.00075, 0.0005, 0.0003, 0.00075, 0.0006, 0.0006])\n",
    "vol = np.array([50, 9.6, 2.7, 50, 24.2, 34.5]) # ml\n",
    "h = np.array([0.042, 0.056, 0.057, 0.0245, 0.051, 0.0495]) # m\n",
    "\n",
    "tK = 60 \n",
    "dichte_W = 998 # kg/m^3 20°C\n",
    "\n",
    "\n",
    "druck = dichte_W*pc.g*h\n",
    "\n",
    "volS = vol/tK\n",
    "rel = rK**4/laengeK\n",
    "\n",
    "\n",
    "fig, ax = plt.subplots(figsize=(10,10))\n",
    "\n",
    "x = np.arange(0, 1, 0.01)\n",
    "\n",
    "m, b = np.polyfit(volS, rel, 1)\n",
    "ax.plot(x,x*m+b,color='g',label=\"Regressionsgerade\")\n",
    "\n",
    "ax.scatter(volS, rel, color='y', label='Datenpunkte')\n",
    "\n",
    "ax.set(xlabel='Volumenstrom', ylabel='R^4/L Relation', title='Volumenstrom zu R^4/L Relation')\n",
    "ax.legend()\n",
    "ax.grid()\n",
    "\n",
    "visK = (pc.pi*druck*tK*rK**4)/(8*laengeK*vol)\n",
    "print(visK)\n",
    "\n",
    "stroem_v = vol/(pc.pi*rK**2) \n",
    "d = rK*2\n",
    "reynold = (dichte_W*d*stroem_v)/visK\n",
    "print('Reynoldszahlen: ', reynold)"
   ]
  },
  {
   "cell_type": "code",
   "execution_count": null,
   "metadata": {},
   "outputs": [],
   "source": []
  }
 ],
 "metadata": {
  "kernelspec": {
   "display_name": "Python 3",
   "language": "python",
   "name": "python3"
  },
  "language_info": {
   "codemirror_mode": {
    "name": "ipython",
    "version": 3
   },
   "file_extension": ".py",
   "mimetype": "text/x-python",
   "name": "python",
   "nbconvert_exporter": "python",
   "pygments_lexer": "ipython3",
   "version": "3.8.3"
  }
 },
 "nbformat": 4,
 "nbformat_minor": 4
}
