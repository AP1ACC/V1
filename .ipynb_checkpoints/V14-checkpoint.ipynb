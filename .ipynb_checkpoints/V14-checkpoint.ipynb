{
 "cells": [
  {
   "cell_type": "code",
   "execution_count": 1,
   "metadata": {},
   "outputs": [],
   "source": [
    "# imports\n",
    "import numpy as np\n",
    "import matplotlib.pyplot as plt\n",
    "import matplotlib.colors as c\n",
    "import sympy as sy\n",
    "import scipy.constants as pc\n",
    "from sympy import *"
   ]
  },
  {
   "cell_type": "code",
   "execution_count": 2,
   "metadata": {},
   "outputs": [],
   "source": [
    "# Funktionen\n",
    "def am(werte):\n",
    "    return np.mean(werte)\n",
    "\n",
    "def std(werte):\n",
    "    summen_der_quadrate = 0\n",
    "    for wert in werte:\n",
    "        summen_der_quadrate+=(wert-am(werte))**2       \n",
    "    return np.sqrt(summen_der_quadrate/(werte.size-1))\n",
    "\n",
    "def stu(werte):\n",
    "    return std(werte)/np.sqrt(werte.size)\n",
    "\n",
    "def fehler(f, werte, unsicherheiten, variablen):\n",
    "    zMax = 0\n",
    "    for i in range(werte.size):\n",
    "        dif = np.abs(sy.diff(f, variablen[i]))\n",
    "        zMax += (dif * unsicherheiten[i])**2\n",
    "    zMax = sqrt(zMax)\n",
    "    for j in range(werte.size):\n",
    "        zMax = sub(zMax, variablen[j], werte[j])\n",
    "    return zMax\n",
    "\n",
    "def fehlerMax(f, werte, unsicherheiten, variablen):\n",
    "    zMax = 0\n",
    "    for i in range(werte.size):\n",
    "        dif = np.abs(sy.diff(f, variablen[i]))\n",
    "        zMax += dif * unsicherheiten[i]\n",
    "    for j in range(werte.size):\n",
    "        zMax = sub(zMax, variablen[j], werte[j])\n",
    "    return zMax\n",
    "\n",
    "def groessterBeitrag(f, werte, unsicherheiten, variablen):\n",
    "    zMax = 0\n",
    "    zMaxArray = np.array([])\n",
    "    for i in range (werte.size):\n",
    "        zMax = (np.abs(sy.diff(f, variablen[i])) * unsicherheiten[i])\n",
    "        for j in range(werte.size):\n",
    "            zMax = sub(zMax, variablen[j], werte[j])\n",
    "        x = np.array([zMax])\n",
    "        zMaxArray = np.append(zMaxArray, x)\n",
    "    return variablen[np.argmax(zMaxArray)]\n",
    "\n",
    "def sub(zMax, variable, wert):\n",
    "    return zMax.subs([(variable, wert)])\n",
    "\n",
    "def einfachGaussAdd(unsicherheiten, koeffizienten):\n",
    "    dz = 0\n",
    "    for i in range (unsicherheiten.size):\n",
    "        dz += (unsicherheiten[i]*unsicherheiten[i])**2\n",
    "    return sqrt(dz)\n",
    "\n",
    "def einfachGaussMult(unsicherheiten, werte, exponenten):\n",
    "    dz = 0\n",
    "    for i in range (unsicherheiten.size):\n",
    "        dz += (exponenten[i]*unsicherheiten[i]/werte[i])**2\n",
    "    return sqrt(dz)\n",
    "\n",
    "def vertraeglichkeit(am_1, am_2, stu_1, stu_2):\n",
    "    return (np.abs(am_1-am_2)/(sqrt((stu_1**2)*(stu_2**2))))\n",
    "\n",
    "def bestA(x, y):\n",
    "    return (sum(x**2)*sum(y)-sum(x)*sum(x*y))/(x.size*sum(x**2)-sum(x)**2)\n",
    "\n",
    "def bestB(x, y):\n",
    "    return (x.size*sum(x*y)-sum(x)*sum(y))/(x.size*sum(x**2)-sum(x)**2)\n",
    "\n",
    "def streuung(x, y):\n",
    "    s = 0\n",
    "    for i in range(x.size):\n",
    "        s += (y[i]+(bestA(x, y)+bestB(x, y)*x[i]))**2\n",
    "    return np.sqrt(s/(x.size-2))\n",
    "\n",
    "def stuA(x, y):\n",
    "    s = streuung(x, y)\n",
    "    return s*np.sqrt(sum(x**2)/((x.size*sum(x**2)-sum(x)**2)))\n",
    "\n",
    "def stuB(x, y):\n",
    "    s = streuung(x, y)\n",
    "    return s*np.sqrt(x.size/((x.size*sum(x**2)-sum(x)**2)))\n",
    "\n",
    "def print_to_table(avgs, stds, rows, cols,\n",
    "                   highlight_best=True,\n",
    "                   max_is_best=True,\n",
    "                   avg_format='{0:!>4.1f}',\n",
    "                   std_format='{1:!<4.1f}',\n",
    "                   file=None,\n",
    "                   col_orientation='c'):\n",
    "    # Find best values\n",
    "    best_avg = {}\n",
    "    if highlight_best:\n",
    "        if max_is_best:\n",
    "            for c in cols:\n",
    "                idx = np.argmax(avgs[c], axis=0)\n",
    "                best_avg[c] = idx\n",
    "        else:\n",
    "            for c in cols:\n",
    "                idx = np.argmin(avgs[c], axis=0)\n",
    "                best_avg[c] = idx\n",
    "\n",
    "    # Header\n",
    "    print_str = '\\\\begin{tabular}{l' + (\" \"+col_orientation) * len(cols) + '} \\hline\\n'\n",
    "    for c in cols:\n",
    "        print_str += ' & ' + c\n",
    "    print_str += ' \\\\\\\\ \\n \\hline'\n",
    "\n",
    "    # Content\n",
    "    for m in range(len(rows)):\n",
    "        row_name = rows[m]\n",
    "        print_str += '\\n{0}'.format(row_name)\n",
    "        for c in cols:\n",
    "            print_str += ' &\\n '\n",
    "            print_list = [avgs[c][m]]\n",
    "            print_list += [stds[c][m]]\n",
    "            if m == best_avg.get(c, None):\n",
    "                print_str += ('$\\mathbf{{'+ avg_format + ' \\\\pm ' + std_format + '}}$').format(*print_list)\n",
    "            else:\n",
    "                print_str += ('$'+ avg_format + ' \\\\pm ' + std_format + '$').format(*print_list)\n",
    "\n",
    "        print_str += \"\\n \\\\vspace*{0.0mm} \\\\\\\\\"\n",
    "        print_str = print_str.replace('!', '\\\\phantom{0}')\n",
    "\n",
    "    # Footer\n",
    "    print_str += '\\n \\hline \\n \\end{tabular}'\n",
    "\n",
    "    # Write output\n",
    "    if file is None:\n",
    "        print(print_str)\n",
    "    else:\n",
    "        with open(file, 'w') as f:\n",
    "            f.write(print_str)"
   ]
  },
  {
   "cell_type": "code",
   "execution_count": null,
   "metadata": {},
   "outputs": [],
   "source": [
    "# Standard plotting\n",
    "fig, ax = plt.subplots(figsize=(10,10))\n",
    "\n",
    "#ax.plot(x, y, color='b', label='label')\n",
    "#ax.scatter(x, y, color='r', label='label')\n",
    "#ax.errorbar(am_x, am_y, xerr=std_x, yerr=std_y, fmt='D', color='#d0740b', label='label')\n",
    "\n",
    "ax.set(xlabel='x', ylabel='y', title='Titel')\n",
    "ax.legend()\n",
    "ax.grid()\n",
    "\n",
    "#fig.savefig(\"test.png\")"
   ]
  },
  {
   "cell_type": "code",
   "execution_count": 3,
   "metadata": {},
   "outputs": [],
   "source": [
    "# Erinnerungen\n",
    "# x = np.array([,])\n",
    "# x.size\n",
    "# x, y = symbols('x y')\n",
    "# expr = x*y\n",
    "# expr.subs([(x, wert_x), (y, wert_y)])"
   ]
  },
  {
   "cell_type": "code",
   "execution_count": 83,
   "metadata": {},
   "outputs": [
    {
     "name": "stdout",
     "output_type": "stream",
     "text": [
      "[0.07877964 0.1505666  0.04399045 0.06071894 0.15607502 0.        ]\n",
      "[2.53646813 2.11180773 1.73124347 1.1968652  0.76969697 0.11598746]\n"
     ]
    },
    {
     "data": {
      "image/png": "[encoded data removed]",
      "text/plain": [
       "<Figure size 720x720 with 1 Axes>"
      ]
     },
     "metadata": {
      "needs_background": "light"
     },
     "output_type": "display_data"
    }
   ],
   "source": [
    "# Messdaten\n",
    "b = np.array([5.0, 10.0, 15.0, 20.0, 22.5, 25.0])# mm (+- .5)\n",
    "r_1 = 4.4 # .05\n",
    "\n",
    "r_außen = 638.0/2.0 # +-1mm\n",
    "\n",
    "s = np.array([[778.0, 787.0, 789.0, 797.0, 800.0, 801.0, 801.0, 802.0, 804.0, 805.0, 807.0, 818.0, 827.0, 840.0, 881.0],\n",
    "              [578.0, 588.0, 646.0, 656.0, 661.0, 666.0, 667.0, 670.0, 670.0, 674.0, 710.0, 718.0, 726.0, 726.0, 749.0], \n",
    "              [510.0, 549.0, 548.0, 549.0, 550.0, 550.0, 550.0, 551.0, 552.0, 555.0, 556.0, 561.0, 563.0, 564.0, 576.0], \n",
    "              [332.0, 362.0, 367.0, 373.0, 377.0, 379.0, 381.0, 381.0, 382.0, 384.0, 398.0, 400.0, 401.0, 403.0, 407.0], \n",
    "              [113.0, 197.0, 198.0, 234.0, 238.0, 239.0, 251.0, 254.0, 258.0, 264.0, 267.0, 268.0, 280.0, 289.0, 333.0],]) # mm (+- 1)\n",
    "\n",
    "s_25 = np.array([37.0])\n",
    "\n",
    "#s_am = np.array([]) # mm (+- 1)\n",
    "s_tot = r_außen*2.0*pc.pi # mm (+- 1)\n",
    "\n",
    "#for el in s:\n",
    "    #s_am = np.append(s_am, am(el))\n",
    "\n",
    "theta = ((s*2.0*pc.pi)/s_tot) # rad\n",
    "theta_am = np.array([]) # rad\n",
    "theta_std = np.array([])\n",
    "\n",
    "for el in theta:\n",
    "    theta_am = np.append(theta_am, am(el))\n",
    "    theta_std = np.append(theta_std, std(el))\n",
    "\n",
    "theta_am = np.append(theta_am, (s_25*2.0*pc.pi)/s_tot)\n",
    "theta_std = np.append(theta_std, 0)\n",
    "print(theta_std)\n",
    "\n",
    "print(theta_am)\n",
    "cos_theta = np.cos(theta_am/2)\n",
    "\n",
    "fig, ax = plt.subplots(figsize=(10,10))\n",
    "\n",
    "ax.scatter(theta_am, b, color='r', label='Datenpunkte')\n",
    "ax.errorbar(theta_am, b, xerr=0, yerr=theta_std*5, fmt='D', color='#d0740b', label='Errorleisten')\n",
    "ax.set(xlabel='$ \\theta \\, [rad]$', ylabel='$b \\, m]$', title='Aufzeichnung')\n",
    "ax.legend()\n",
    "ax.grid()"
   ]
  },
  {
   "cell_type": "code",
   "execution_count": 72,
   "metadata": {},
   "outputs": [
    {
     "name": "stdout",
     "output_type": "stream",
     "text": [
      "[ 5.  10.  15.  20.  22.5 25. ] [0.29796706 0.49244126 0.64816679 0.82621962 0.92685532 0.99831883]\n"
     ]
    },
    {
     "data": {
      "image/png": "[encoded data removed]",
      "text/plain": [
       "<Figure size 720x360 with 1 Axes>"
      ]
     },
     "metadata": {
      "needs_background": "light"
     },
     "output_type": "display_data"
    }
   ],
   "source": [
    "fig, ax = plt.subplots(figsize=(10,5))\n",
    "\n",
    "print(b, cos_theta)\n",
    "ax.scatter(b, cos_theta, color='r', label='Datenpunkte')\n",
    "#ax.errorbar(b_am, cos_theta_am, xerr=b_std, yerr=cos_theta_std, fmt='D', color='#d0740b', label='Errorleisten')\n",
    "x = np.arange(4, 27, 0.5)\n",
    "\n",
    "m, c = np.polyfit(b, cos_theta, 1)\n",
    "ax.plot(x,x*m+c,color='g',label=\"Regressionsgerade\")\n",
    "\n",
    "ax.set(xlabel='$b \\, [mm]$', ylabel='$\\cos(\\frac{\\theta}{2})$', title='Aufzeichnung')\n",
    "ax.legend()\n",
    "ax.grid()"
   ]
  },
  {
   "cell_type": "code",
   "execution_count": null,
   "metadata": {},
   "outputs": [],
   "source": []
  },
  {
   "cell_type": "code",
   "execution_count": null,
   "metadata": {},
   "outputs": [],
   "source": []
  }
 ],
 "metadata": {
  "kernelspec": {
   "display_name": "Python 3",
   "language": "python",
   "name": "python3"
  },
  "language_info": {
   "codemirror_mode": {
    "name": "ipython",
    "version": 3
   },
   "file_extension": ".py",
   "mimetype": "text/x-python",
   "name": "python",
   "nbconvert_exporter": "python",
   "pygments_lexer": "ipython3",
   "version": "3.8.3"
  }
 },
 "nbformat": 4,
 "nbformat_minor": 4
}
