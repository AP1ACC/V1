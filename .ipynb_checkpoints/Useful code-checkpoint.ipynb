{
 "cells": [
  {
   "cell_type": "code",
   "execution_count": 1,
   "metadata": {},
   "outputs": [],
   "source": [
    "# imports\n",
    "import numpy as np\n",
    "import matplotlib.pyplot as plt\n",
    "import matplotlib.colors as c\n",
    "import sympy as sy\n",
    "from sympy import *"
   ]
  },
  {
   "cell_type": "code",
   "execution_count": 2,
   "metadata": {},
   "outputs": [],
   "source": [
    "# Funktionen\n",
    "def std(am, werte):\n",
    "    summen_der_quadrate = 0\n",
    "    for wert in werte:\n",
    "        summen_der_quadrate+=(wert-am)**2       \n",
    "    return np.sqrt(summen_der_quadrate/(werte.size-1))\n",
    "\n",
    "def stu(std, werte):\n",
    "    return std/np.sqrt(werte.size)"
   ]
  },
  {
   "cell_type": "code",
   "execution_count": null,
   "metadata": {},
   "outputs": [],
   "source": [
    "# Standard plotting\n",
    "fig, ax = plt.subplots(figsize=(10,10))\n",
    "ax.scatter(x_1, y_1, color='r', label='Datenpunkte Gruppe 1')\n",
    "ax.scatter(x_2, y_2, color='b', label='Datenpunkte Gruppe 2')\n",
    "\n",
    "ax.errorbar(am_1_x, am_1_y, xerr=std_1_x, yerr=std_1_y, fmt='D', color='#d0740b', label='AM-STD Gruppe 1')\n",
    "ax.errorbar(am_2_x, am_2_y, xerr=std_2_x, yerr=std_2_y, fmt='D', color='#150891', label='AM-STD Gruppe 2')\n",
    "\n",
    "ax.set(xlabel='Größe a in mm', ylabel='Größe b in mm',\n",
    "       title='Blattgrößen mit AMs und SDs')\n",
    "ax.legend()\n",
    "ax.grid()\n",
    "\n",
    "#fig.savefig(\"test.png\")\n",
    "plt.show()"
   ]
  },
  {
   "cell_type": "code",
   "execution_count": null,
   "metadata": {},
   "outputs": [],
   "source": [
    "# Erinnerungen\n",
    "# x = np.array([,])\n",
    "# x.size\n",
    "# x, y = symbols('x y')\n",
    "# expr = x*y\n",
    "# expr.subs([(x, wert_x), (y, wert_y)])"
   ]
  }
 ],
 "metadata": {
  "kernelspec": {
   "display_name": "Python 3",
   "language": "python",
   "name": "python3"
  },
  "language_info": {
   "codemirror_mode": {
    "name": "ipython",
    "version": 3
   },
   "file_extension": ".py",
   "mimetype": "text/x-python",
   "name": "python",
   "nbconvert_exporter": "python",
   "pygments_lexer": "ipython3",
   "version": "3.8.3"
  }
 },
 "nbformat": 4,
 "nbformat_minor": 4
}
