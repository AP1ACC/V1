{
 "cells": [
  {
   "cell_type": "code",
   "execution_count": 3,
   "metadata": {},
   "outputs": [],
   "source": [
    "# imports\n",
    "import numpy as np\n",
    "import matplotlib.pyplot as plt\n",
    "import matplotlib.colors as c\n",
    "from matplotlib import rcParams\n",
    "import sympy as sy\n",
    "import scipy.constants as pc\n",
    "from sympy import *\n",
    "from math import log10, floor\n"
   ]
  },
  {
   "cell_type": "code",
   "execution_count": 4,
   "metadata": {},
   "outputs": [],
   "source": [
    "# Funktionen\n",
    "def am(werte):\n",
    "    return np.mean(werte)\n",
    "\n",
    "def std(werte):\n",
    "    summen_der_quadrate = 0\n",
    "    for wert in werte:\n",
    "        summen_der_quadrate+=(wert-am(werte))**2       \n",
    "    return np.sqrt(summen_der_quadrate/(werte.size-1))\n",
    "\n",
    "def stu(werte):\n",
    "    return std(werte)/np.sqrt(werte.size)\n",
    "\n",
    "def fehler(f, werte, unsicherheiten, variablen):\n",
    "    zMax = 0\n",
    "    for i in range(werte.size):\n",
    "        dif = np.abs(sy.diff(f, variablen[i]))\n",
    "        zMax += (dif * unsicherheiten[i])**2\n",
    "    zMax = sqrt(zMax)\n",
    "    for j in range(werte.size):\n",
    "        zMax = sub(zMax, variablen[j], werte[j])\n",
    "    return zMax\n",
    "\n",
    "def fehlerMax(f, werte, unsicherheiten, variablen):\n",
    "    zMax = 0\n",
    "    for i in range(werte.size):\n",
    "        dif = np.abs(sy.diff(f, variablen[i]))\n",
    "        zMax += dif * unsicherheiten[i]\n",
    "    for j in range(werte.size):\n",
    "        zMax = sub(zMax, variablen[j], werte[j])\n",
    "    return zMax\n",
    "\n",
    "def groessterBeitrag(f, werte, unsicherheiten, variablen):\n",
    "    zMax = 0\n",
    "    zMaxArray = np.array([])\n",
    "    for i in range (werte.size):\n",
    "        zMax = (np.abs(sy.diff(f, variablen[i])) * unsicherheiten[i])\n",
    "        for j in range(werte.size):\n",
    "            zMax = sub(zMax, variablen[j], werte[j])\n",
    "        x = np.array([zMax])\n",
    "        zMaxArray = np.append(zMaxArray, x)\n",
    "    return variablen[np.argmax(zMaxArray)]\n",
    "\n",
    "def sub(zMax, variable, wert):\n",
    "    return zMax.subs([(variable, wert)])\n",
    "\n",
    "def einfachGaussAdd(unsicherheiten, koeffizienten):\n",
    "    dz = 0\n",
    "    for i in range (unsicherheiten.size):\n",
    "        dz += (unsicherheiten[i]*unsicherheiten[i])**2\n",
    "    return sqrt(dz)\n",
    "\n",
    "def einfachGaussMult(unsicherheiten, werte, exponenten):\n",
    "    dz = 0\n",
    "    for i in range (unsicherheiten.size):\n",
    "        dz += (exponenten[i]*unsicherheiten[i]/werte[i])**2\n",
    "    return sqrt(dz)\n",
    "\n",
    "def einfachGaussMultMax(unsicherheiten, werte, exponenten):\n",
    "    max_a = 0\n",
    "    num = -1\n",
    "    for i in range (unsicherheiten.size):\n",
    "        maxi = (exponenten[i]*unsicherheiten[i]/werte[i])**2\n",
    "        if max_a <= maxi:\n",
    "            max_a = maxi\n",
    "            num = i\n",
    "    return (max_a, num)\n",
    "\n",
    "def vertraeglichkeit(am_1, am_2, stu_1, stu_2):\n",
    "    return (np.abs(am_1-am_2)/(sqrt((stu_1**2)*(stu_2**2))))\n",
    "\n",
    "def bestA(x, y):\n",
    "    return (sum(x**2)*sum(y)-sum(x)*sum(x*y))/(x.size*sum(x**2)-sum(x)**2)\n",
    "\n",
    "def bestB(x, y):\n",
    "    return (x.size*sum(x*y)-sum(x)*sum(y))/(x.size*sum(x**2)-sum(x)**2)\n",
    "\n",
    "def streuung(x, y):\n",
    "    s = 0\n",
    "    for i in range(x.size):\n",
    "        s += (y[i]-(bestA(x, y)+bestB(x, y)*x[i]))**2\n",
    "    return np.sqrt(s/(x.size-2))\n",
    "\n",
    "def stuA(x, y):\n",
    "    s = streuung(x, y)\n",
    "    return s*np.sqrt(sum(x**2)/((x.size*sum(x**2)-sum(x)**2)))\n",
    "\n",
    "def stuB(x, y):\n",
    "    s = streuung(x, y)\n",
    "    return s*np.sqrt(x.size/((x.size*sum(x**2)-sum(x)**2)))\n",
    "\n",
    "def round_to_j(x,j):\n",
    "    return round(x, (j-1)-int(floor(log10(abs(x)))))"
   ]
  },
  {
   "cell_type": "code",
   "execution_count": 5,
   "metadata": {},
   "outputs": [],
   "source": [
    "# Messungen\n",
    "laengen = np.array([845.3, 745.3, 645.3, 545.3, 445.3, 345.3, 245.3, 145.3, 45.3])# 0.1 mm\n",
    "zeiten = np.array([20.87, 20.31, 19.82, 19.44, 19.23, 19.28, 19.72, 20.75, 22.79])\n",
    "zeitenR = np.array([20.29, 19.99, 19.77, 19.62, 19.56, 19.62, 19.81, 20.15, 20.64])\n",
    "n = 10\n",
    "\n",
    "perT = zeiten/n \n",
    "perTR = zeitenR/n"
   ]
  },
  {
   "cell_type": "code",
   "execution_count": 6,
   "metadata": {},
   "outputs": [],
   "source": [
    "# Messungen\n",
    "laengen2= np.array([695.3, 690.3, 685.3, 680.3, 675.3, 670.3, 665.3, 660.3, 655.3, \n",
    "                    650.3, 645.3, 640.3, 635.3, 630.3, 625.3, 620.3, 615.3])# 615.3, 610.3, 605.3])# 0.1 mm\n",
    "zeiten2 = np.array([30.08, 30.06, 30.02, 29.98, 29.94, 29.90, 29.87, 29.81, 29.79, 29.75, \n",
    "                    29.72, 29.69, 29.65, 29.59, 29.54, 29.49, 29.52])\n",
    "zeitenR2 = np.array([29.92, 29.88, 29.84, 29.86, 29.84, 29.81, 29.76, 29.77, 29.72, 29.72, \n",
    "                     29.71, 29.69, 29.66, 29.65, 29.62, 29.61, 29.59])\n",
    "n2 = 15\n",
    "\n",
    "perT2 = zeiten2/n2 \n",
    "perTR2 = zeitenR2/n2"
   ]
  },
  {
   "cell_type": "code",
   "execution_count": 7,
   "metadata": {},
   "outputs": [
    {
     "name": "stdout",
     "output_type": "stream",
     "text": [
      "[1.994 1.99  1.988 1.985 1.982 1.979 1.977 1.974 1.973 1.971]\n"
     ]
    }
   ],
   "source": [
    "# Messungen\n",
    "laengen3 = np.array([695.3, 685.3, 675.3, 665.3, 655.3, 645.3, 635.3, 625.3, 615.3, 605.3])# 0.1 mm\n",
    "\n",
    "zeiten3 =  np.array([20.03, 19.98, 19.94, 19.89, 19.85, 19.80, 19.75, 19.71, 19.67, 19.63])\n",
    "zeitenR3 = np.array([19.94, 19.90, 19.88, 19.85, 19.82, 19.79, 19.77, 19.74, 19.73, 19.71])\n",
    "\n",
    "n3 = 10\n",
    "\n",
    "perT3 = zeiten3/n3 \n",
    "perTR3 = zeitenR3/n3\n",
    "print(perTR3)\n"
   ]
  },
  {
   "cell_type": "code",
   "execution_count": 10,
   "metadata": {},
   "outputs": [
    {
     "name": "stdout",
     "output_type": "stream",
     "text": [
      "Der realtive Fehler für g beträgt: 0.00114803802462727\n",
      "Der echte Fehler ist: 0.0112184499170431\n"
     ]
    }
   ],
   "source": [
    "#Fehlerfort ඞ amo-\"g\"-us\n",
    "#l, T\n",
    "\n",
    "l_w = 0.97   #HIER DIE NEUE LÄNGE EINTRAGEN\n",
    "l_f = 0.001\n",
    "\n",
    "T_w = 1.9796\n",
    "T_f = 0.0005\n",
    "\n",
    "expo_ඞ = np.array([1, -2])\n",
    "werte_ඞ = np.array([l_w, 1.9796])\n",
    "unsic_ඞ = np.array([l_f, T_f])\n",
    "\n",
    "ඞ = (4*(pc.pi**2)*l_w)/(1.9796**2)\n",
    "#print(ඞ)\n",
    "\n",
    "#for i in range(len(perTR3)):\n",
    "relativer_ඞ_fehler = einfachGaussMult(unsic_ඞ, werte_ඞ, expo_ඞ)\n",
    "    \n",
    "#for i in range(len(perTR3)):\n",
    " #   einfachGaussMultMax(unsic_ඞ, werte_ඞ,expo_ඞ)\n",
    "    \n",
    "#print(einfachGaussMultMax(unsic_ඞ, werte_ඞ ,expo_ඞ))\n",
    "\n",
    "print(\"Der realtive Fehler für g beträgt:\", relativer_ඞ_fehler)\n",
    "print('Der echte Fehler ist:', relativer_ඞ_fehler * ඞ)"
   ]
  },
  {
   "cell_type": "code",
   "execution_count": 11,
   "metadata": {},
   "outputs": [
    {
     "name": "stdout",
     "output_type": "stream",
     "text": [
      "Der Fehler bei dem Wert g beträgt: 0.0112433440346491\n",
      "größter anteil l\n"
     ]
    },
    {
     "data": {
      "text/plain": [
       "0.001"
      ]
     },
     "execution_count": 11,
     "metadata": {},
     "output_type": "execute_result"
    }
   ],
   "source": [
    "#Fehlerfortpflanzung Suizid Sus T, l, phi, plp\n",
    "\n",
    "T, l, phi, plp = symbols('T l phi plp')\n",
    "fuk_g = (2*3.141592653358979/T)**2 * l * (1+ 1/8 * phi**2 + plp)\n",
    "fuk_g\n",
    "\n",
    "T_w = 1.9796\n",
    "T_f \n",
    "\n",
    "l_w  \n",
    "l_f \n",
    "\n",
    "phi_w = 0.11688896\n",
    "phi_f = 0.001\n",
    "\n",
    "plp_w = 1.5e-4\n",
    "plp_f = 0.1e-4\n",
    "\n",
    "werte_g = np.array([T_w, l_w, phi_w, plp_w])\n",
    "unsic_g = np.array([T_f, l_f, phi_f, plp_f])\n",
    "varia_g = np.array([T, l, phi, plp])\n",
    "\n",
    "print(\"Der Fehler bei dem Wert g beträgt:\",fehler(fuk_g, werte_g, unsic_g, varia_g))\n",
    "print(\"größter anteil\", groessterBeitrag(fuk_g, werte_g, unsic_g, varia_g))\n",
    "l_f"
   ]
  },
  {
   "cell_type": "code",
   "execution_count": 18,
   "metadata": {},
   "outputs": [
    {
     "name": "stdout",
     "output_type": "stream",
     "text": [
      "Der Fehler bei dem Wert Phallus beträgt: sqrt(1782301)/1782301\n",
      "= 0.0007490476996399754\n",
      "größter anteil d\n"
     ]
    }
   ],
   "source": [
    "#Fehler ඞඞඞඞඞඞඞඞඞඞඞඞඞAඞඞඞඞඞඞඞඞඞ d L phallus ist der Winkel\n",
    "\n",
    "d, L = symbols('d L')\n",
    "fuk_phallus = sy.atan(d/L)\n",
    "\n",
    "d_w = 155\n",
    "d_f = 1\n",
    "\n",
    "L_w = 1326\n",
    "L_f = 1\n",
    "\n",
    "werte_phallus = np.array([d_w, L_w])\n",
    "unsic_phallus = np.array([d_f, L_f])\n",
    "varia_phallus = np.array([d, L])\n",
    "\n",
    "print(\"Der Fehler bei dem Wert Phallus beträgt:\",fehler(fuk_phallus, werte_phallus, unsic_phallus, varia_phallus))\n",
    "print(\"=\",0.0007490476996399753758450814220435204099325693938036540187418480)\n",
    "print(\"größter anteil\", groessterBeitrag(fuk_phallus, werte_phallus, unsic_phallus, varia_phallus))\n",
    "\n"
   ]
  },
  {
   "cell_type": "code",
   "execution_count": null,
   "metadata": {},
   "outputs": [],
   "source": []
  }
 ],
 "metadata": {
  "kernelspec": {
   "display_name": "Python 3",
   "language": "python",
   "name": "python3"
  },
  "language_info": {
   "codemirror_mode": {
    "name": "ipython",
    "version": 3
   },
   "file_extension": ".py",
   "mimetype": "text/x-python",
   "name": "python",
   "nbconvert_exporter": "python",
   "pygments_lexer": "ipython3",
   "version": "3.8.5"
  }
 },
 "nbformat": 4,
 "nbformat_minor": 4
}
