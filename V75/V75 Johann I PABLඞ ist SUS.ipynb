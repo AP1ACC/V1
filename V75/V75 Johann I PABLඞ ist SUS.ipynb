{
 "cells": [
  {
   "cell_type": "code",
   "execution_count": 2,
   "metadata": {},
   "outputs": [],
   "source": [
    "# imports\n",
    "import numpy as np\n",
    "import matplotlib.pyplot as plt\n",
    "import matplotlib.colors as c\n",
    "from matplotlib import rcParams\n",
    "import sympy as sy\n",
    "import scipy.constants as pc\n",
    "from sympy import *\n",
    "from math import log10, floor\n",
    "\n",
    "rcParams['font.size'] = 16\n",
    "rcParams['font.weight'] = 'bold'\n",
    "rcParams['text.usetex'] = True\n",
    "rcParams['font.family'] = 'sans-serif'\n",
    "rcParams['font.sans-serif'] = ['Helvetica']"
   ]
  },
  {
   "cell_type": "code",
   "execution_count": 3,
   "metadata": {},
   "outputs": [],
   "source": [
    "# Funktionen\n",
    "def am(werte):\n",
    "    return np.mean(werte)\n",
    "\n",
    "def std(werte):\n",
    "    summen_der_quadrate = 0\n",
    "    for wert in werte:\n",
    "        summen_der_quadrate+=(wert-am(werte))**2       \n",
    "    return np.sqrt(summen_der_quadrate/(werte.size-1))\n",
    "\n",
    "def stu(werte):\n",
    "    return std(werte)/np.sqrt(werte.size)\n",
    "\n",
    "def fehler(f, werte, unsicherheiten, variablen):\n",
    "    zMax = 0\n",
    "    for i in range(werte.size):\n",
    "        dif = np.abs(sy.diff(f, variablen[i]))\n",
    "        zMax += (dif * unsicherheiten[i])**2\n",
    "    zMax = sqrt(zMax)\n",
    "    for j in range(werte.size):\n",
    "        zMax = sub(zMax, variablen[j], werte[j])\n",
    "    return zMax\n",
    "\n",
    "def fehlerMax(f, werte, unsicherheiten, variablen):\n",
    "    zMax = 0\n",
    "    for i in range(werte.size):\n",
    "        dif = np.abs(sy.diff(f, variablen[i]))\n",
    "        zMax += dif * unsicherheiten[i]\n",
    "    for j in range(werte.size):\n",
    "        zMax = sub(zMax, variablen[j], werte[j])\n",
    "    return zMax\n",
    "\n",
    "def groessterBeitrag(f, werte, unsicherheiten, variablen):\n",
    "    zMax = 0\n",
    "    zMaxArray = np.array([])\n",
    "    for i in range (werte.size):\n",
    "        zMax = (np.abs(sy.diff(f, variablen[i])) * unsicherheiten[i])\n",
    "        for j in range(werte.size):\n",
    "            zMax = sub(zMax, variablen[j], werte[j])\n",
    "        x = np.array([zMax])\n",
    "        zMaxArray = np.append(zMaxArray, x)\n",
    "    return variablen[np.argmax(zMaxArray)], zMaxArray[np.argmax(zMaxArray)]\n",
    "\n",
    "def sub(zMax, variable, wert):\n",
    "    return zMax.subs([(variable, wert)])\n",
    "\n",
    "def einfachGaussAdd(unsicherheiten, koeffizienten):\n",
    "    dz = 0\n",
    "    for i in range (unsicherheiten.size):\n",
    "        dz += (koeffizienten[i]*unsicherheiten[i])**2\n",
    "    return sqrt(dz)\n",
    "\n",
    "def einfachGaussMult(unsicherheiten, werte, exponenten):\n",
    "    dz = 0\n",
    "    for i in range (unsicherheiten.size):\n",
    "        dz += (exponenten[i]*unsicherheiten[i]/werte[i])**2\n",
    "    return sqrt(dz)\n",
    "\n",
    "def einfachGaussMultMax(unsicherheiten, werte, exponenten):\n",
    "    max_a = 0\n",
    "    num = -1\n",
    "    for i in range (unsicherheiten.size):\n",
    "        maxi = (exponenten[i]*unsicherheiten[i]/werte[i])**2\n",
    "        if max_a <= maxi:\n",
    "            max_a = maxi\n",
    "            num = i\n",
    "    return (max_a, num)\n",
    "\n",
    "def vertraeglichkeit(am_1, am_2, stu_1, stu_2):\n",
    "    return (np.abs(am_1-am_2)/(sqrt((stu_1**2)*(stu_2**2))))\n",
    "\n",
    "def bestA(x, y):\n",
    "    return (sum(x**2)*sum(y)-sum(x)*sum(x*y))/(x.size*sum(x**2)-sum(x)**2)\n",
    "\n",
    "def bestB(x, y):\n",
    "    return (x.size*sum(x*y)-sum(x)*sum(y))/(x.size*sum(x**2)-sum(x)**2)\n",
    "\n",
    "def streuung(x, y):\n",
    "    s = 0\n",
    "    for i in range(x.size):\n",
    "        s += (y[i]-(bestA(x, y)+bestB(x, y)*x[i]))**2\n",
    "    return np.sqrt(s/(x.size-2))\n",
    "\n",
    "def stuA(x, y):\n",
    "    s = streuung(x, y)\n",
    "    return s*np.sqrt(sum(x**2)/((x.size*sum(x**2)-sum(x)**2)))\n",
    "\n",
    "def stuB(x, y):\n",
    "    s = streuung(x, y)\n",
    "    return s*np.sqrt(x.size/((x.size*sum(x**2)-sum(x)**2)))\n",
    "\n",
    "def round_to_j(x,j):\n",
    "    return round(x, (j-1)-int(floor(log10(abs(x)))))\n",
    "\n",
    "def print_to_table(avgs, stds, rows, cols,\n",
    "                   highlight_best=True,\n",
    "                   max_is_best=True,\n",
    "                   avg_format='{0:!>4.1f}',\n",
    "                   std_format='{1:!<4.1f}',\n",
    "                   file=None,\n",
    "                   col_orientation='c'):\n",
    "    # Find best values\n",
    "    best_avg = {}\n",
    "    if highlight_best:\n",
    "        if max_is_best:\n",
    "            for c in cols:\n",
    "                idx = np.argmax(avgs[c], axis=0)\n",
    "                best_avg[c] = idx\n",
    "        else:\n",
    "            for c in cols:\n",
    "                idx = np.argmin(avgs[c], axis=0)\n",
    "                best_avg[c] = idx\n",
    "\n",
    "    # Header\n",
    "    print_str = '\\\\begin{tabular}{l' + (\" \"+col_orientation) * len(cols) + '} \\hline\\n'\n",
    "    for c in cols:\n",
    "        print_str += ' & ' + c\n",
    "    print_str += ' \\\\\\\\ \\n \\hline'\n",
    "\n",
    "    # Content\n",
    "    for m in range(len(rows)):\n",
    "        row_name = rows[m]\n",
    "        print_str += '\\n{0}'.format(row_name)\n",
    "        for c in cols:\n",
    "            print_str += ' &\\n '\n",
    "            print_list = [avgs[c][m]]\n",
    "            print_list += [stds[c][m]]\n",
    "            if m == best_avg.get(c, None):\n",
    "                print_str += ('$\\mathbf{{'+ avg_format + ' \\\\pm ' + std_format + '}}$').format(*print_list)\n",
    "            else:\n",
    "                print_str += ('$'+ avg_format + ' \\\\pm ' + std_format + '$').format(*print_list)\n",
    "\n",
    "        print_str += \"\\n \\\\vspace*{0.0mm} \\\\\\\\\"\n",
    "        print_str = print_str.replace('!', '\\\\phantom{0}')\n",
    "\n",
    "    # Footer\n",
    "    print_str += '\\n \\hline \\n \\end{tabular}'\n",
    "\n",
    "    # Write output\n",
    "    if file is None:\n",
    "        print(print_str)\n",
    "    else:\n",
    "        with open(file, 'w') as f:\n",
    "            f.write(print_str)"
   ]
  },
  {
   "cell_type": "code",
   "execution_count": 4,
   "metadata": {},
   "outputs": [],
   "source": [
    "# # Standard plotting\n",
    "\n",
    "# fig, ax = plt.subplots(figsize=(10,6))\n",
    "# ax.tick_params(axis='both', which='major', labelsize=18)\n",
    "# ax.tick_params(axis='both', which='minor', labelsize=16)\n",
    "\n",
    "# #ax.plot(x, y, color='b', label=r'label')\n",
    "# #ax.scatter(x, y, color='r', label=r'label')\n",
    "# #ax.errorbar(am_x, am_y, xerr=std_x, yerr=std_y, fmt='D', color='#d0740b', label=r'label')\n",
    "\n",
    "# ax.set(xlabel=r'x', ylabel=r'y', title=r'Titel')\n",
    "# ax.legend()\n",
    "# ax.grid()\n",
    "\n",
    "# #fig.savefig(\"test.png\")"
   ]
  },
  {
   "cell_type": "code",
   "execution_count": 17,
   "metadata": {},
   "outputs": [
    {
     "name": "stdout",
     "output_type": "stream",
     "text": [
      "0.707106781186548\n"
     ]
    }
   ],
   "source": [
    "#Fehler fort B2 G\n",
    "\n",
    "expo1 = np.array([1,-1])\n",
    "werte1 = np.array([35,5])\n",
    "unsic1 = np.array([0.5,0.5])\n",
    "\n",
    "print(werte1[0]/werte1[1] * einfachGaussMult(unsic1, werte1, expo1))\n"
   ]
  },
  {
   "cell_type": "code",
   "execution_count": 18,
   "metadata": {},
   "outputs": [
    {
     "name": "stdout",
     "output_type": "stream",
     "text": [
      "0.687313611097583\n"
     ]
    }
   ],
   "source": [
    "#Fehler fort B2 G\n",
    "\n",
    "expo2 = np.array([1,-1])\n",
    "werte2 = np.array([34,5])\n",
    "unsic2 = np.array([0.5,0.5])\n",
    "\n",
    "print(werte2[0]/werte2[1] * einfachGaussMult(unsic2, werte2, expo2))"
   ]
  },
  {
   "cell_type": "code",
   "execution_count": 19,
   "metadata": {},
   "outputs": [
    {
     "name": "stdout",
     "output_type": "stream",
     "text": [
      "für vges [0] 0.0164684515082028\n",
      "für vges [1] 0.0160099838134359\n"
     ]
    }
   ],
   "source": [
    "#Fehler fort vges ß\n",
    "\n",
    "Vges = np.array([werte1[0]/werte1[1], werte2[0]/werte2[1]])\n",
    "unsic = np.array([0.182002747232013, 0.177200451466694])\n",
    "\n",
    "for i in range(2):\n",
    "    expo3 = np.array([1,-1])\n",
    "    werte3 = np.array([Vges[i],19.1])\n",
    "    unsic3 = np.array([unsic[i],0.7])\n",
    "\n",
    "    print(\"für vges\",[i], werte3[0]/werte3[1] * einfachGaussMult(unsic3, werte3, expo3))"
   ]
  },
  {
   "cell_type": "code",
   "execution_count": 29,
   "metadata": {},
   "outputs": [
    {
     "name": "stdout",
     "output_type": "stream",
     "text": [
      "G1 3.7142857142857144\n",
      "G1_f 0.401475828018490\n",
      "G2 3.6764705882352944\n",
      "G2_f 0.399642042467673\n"
     ]
    }
   ],
   "source": [
    "#Fehler fort B ß\n",
    "expo4 = np.array([1,-1])\n",
    "werte4 = np.array([26,werte1[0]/werte1[1]])\n",
    "unsic4 = np.array([1,werte1[0]/werte1[1] * einfachGaussMult(unsic1, werte1, expo1)])\n",
    "\n",
    "print(\"G1\",werte4[0]/werte4[1])\n",
    "print(\"G1_f\", werte4[0]/werte4[1] * einfachGaussMult(unsic4, werte4, expo4))\n",
    "\n",
    "expo5 = np.array([1,-1])\n",
    "werte5 = np.array([25,werte2[0]/werte2[1]])\n",
    "unsic5 = np.array([1,werte2[0]/werte2[1] * einfachGaussMult(unsic2, werte2, expo2)])\n",
    "\n",
    "print(\"G2\",werte5[0]/werte5[1])\n",
    "print(\"G2_f\", werte5[0]/werte5[1] * einfachGaussMult(unsic5, werte5, expo5))"
   ]
  },
  {
   "cell_type": "code",
   "execution_count": 30,
   "metadata": {},
   "outputs": [
    {
     "name": "stdout",
     "output_type": "stream",
     "text": [
      "G1 1.1428571428571428\n",
      "G1_f 0.183673469387755\n",
      "G2 1.1764705882352942\n",
      "G2_f 0.189120210304754\n"
     ]
    }
   ],
   "source": [
    "#Fehler fort D ß\n",
    "expo4 = np.array([1,-1])\n",
    "werte4 = np.array([8,werte1[0]/werte1[1]])  #DAs gleiche D, ß1\n",
    "unsic4 = np.array([1,werte1[0]/werte1[1] * einfachGaussMult(unsic1, werte1, expo1)])\n",
    "\n",
    "print(\"G1\",werte4[0]/werte4[1])\n",
    "print(\"G1_f\", werte4[0]/werte4[1] * einfachGaussMult(unsic4, werte4, expo4))\n",
    "\n",
    "expo5 = np.array([1,-1])\n",
    "werte5 = np.array([8,werte2[0]/werte2[1]]) #Das gleiche D aber ß2\n",
    "unsic5 = np.array([1,werte2[0]/werte2[1] * einfachGaussMult(unsic2, werte2, expo2)])\n",
    "\n",
    "print(\"G2\",werte5[0]/werte5[1])\n",
    "print(\"G2_f\", werte5[0]/werte5[1] * einfachGaussMult(unsic5, werte5, expo5))"
   ]
  },
  {
   "cell_type": "code",
   "execution_count": 20,
   "metadata": {},
   "outputs": [
    {
     "name": "stdout",
     "output_type": "stream",
     "text": [
      "(0.010000000000000002, 1)\n",
      "(0.010000000000000002, 1)\n",
      "für vges [0] (0.001343164935171733, 1)\n",
      "für vges [1] (0.001343164935171733, 1)\n"
     ]
    }
   ],
   "source": [
    "print(einfachGaussMultMax(unsic1, werte1, expo1))\n",
    "print(einfachGaussMultMax(unsic2, werte2, expo2))\n",
    "\n",
    "for i in range(2):\n",
    "    expo3 = np.array([1,-1])\n",
    "    werte3 = np.array([Vges[i],19.1])\n",
    "    unsic3 = np.array([unsic[i],0.7])\n",
    "\n",
    "    print(\"für vges\",[i], einfachGaussMultMax(unsic3, werte3, expo3))"
   ]
  },
  {
   "cell_type": "code",
   "execution_count": null,
   "metadata": {},
   "outputs": [],
   "source": []
  }
 ],
 "metadata": {
  "kernelspec": {
   "display_name": "Python 3",
   "language": "python",
   "name": "python3"
  },
  "language_info": {
   "codemirror_mode": {
    "name": "ipython",
    "version": 3
   },
   "file_extension": ".py",
   "mimetype": "text/x-python",
   "name": "python",
   "nbconvert_exporter": "python",
   "pygments_lexer": "ipython3",
   "version": "3.8.5"
  }
 },
 "nbformat": 4,
 "nbformat_minor": 4
}
