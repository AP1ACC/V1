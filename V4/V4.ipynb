{
 "cells": [
  {
   "cell_type": "code",
   "execution_count": 3,
   "metadata": {},
   "outputs": [],
   "source": [
    "# imports\n",
    "import numpy as np\n",
    "from mpl_toolkits.axes_grid1.inset_locator import zoomed_inset_axes\n",
    "from mpl_toolkits.axes_grid1.inset_locator import mark_inset\n",
    "import matplotlib.pyplot as plt\n",
    "import matplotlib.colors as c\n",
    "import sympy as sy\n",
    "import scipy.constants as pc\n",
    "from sympy import *"
   ]
  },
  {
   "cell_type": "code",
   "execution_count": 4,
   "metadata": {},
   "outputs": [],
   "source": [
    "# Funktionen\n",
    "def am(werte):\n",
    "    return np.mean(werte)\n",
    "\n",
    "def std(werte):\n",
    "    summen_der_quadrate = 0\n",
    "    for wert in werte:\n",
    "        summen_der_quadrate+=(wert-am(werte))**2       \n",
    "    return np.sqrt(summen_der_quadrate/(werte.size-1))\n",
    "\n",
    "def stu(werte):\n",
    "    return std(werte)/np.sqrt(werte.size)\n",
    "\n",
    "def fehler(f, werte, unsicherheiten, variablen):\n",
    "    zMax = 0\n",
    "    for i in range(werte.size):\n",
    "        dif = np.abs(sy.diff(f, variablen[i]))\n",
    "        zMax += (dif * unsicherheiten[i])**2\n",
    "    zMax = sqrt(zMax)\n",
    "    for j in range(werte.size):\n",
    "        zMax = sub(zMax, variablen[j], werte[j])\n",
    "    return zMax\n",
    "\n",
    "def fehlerMax(f, werte, unsicherheiten, variablen):\n",
    "    zMax = 0\n",
    "    for i in range(werte.size):\n",
    "        dif = np.abs(sy.diff(f, variablen[i]))\n",
    "        zMax += dif * unsicherheiten[i]\n",
    "    for j in range(werte.size):\n",
    "        zMax = sub(zMax, variablen[j], werte[j])\n",
    "    return zMax\n",
    "\n",
    "def groessterBeitrag(f, werte, unsicherheiten, variablen):\n",
    "    zMax = 0\n",
    "    zMaxArray = np.array([])\n",
    "    for i in range (werte.size):\n",
    "        zMax = (np.abs(sy.diff(f, variablen[i])) * unsicherheiten[i])\n",
    "        for j in range(werte.size):\n",
    "            zMax = sub(zMax, variablen[j], werte[j])\n",
    "        x = np.array([zMax])\n",
    "        zMaxArray = np.append(zMaxArray, x)\n",
    "    return variablen[np.argmax(zMaxArray)]\n",
    "\n",
    "def sub(zMax, variable, wert):\n",
    "    return zMax.subs([(variable, wert)])\n",
    "\n",
    "def einfachGaussAdd(unsicherheiten, koeffizienten):\n",
    "    dz = 0\n",
    "    for i in range (unsicherheiten.size):\n",
    "        dz += (unsicherheiten[i]*unsicherheiten[i])**2\n",
    "    return sqrt(dz)\n",
    "\n",
    "def einfachGaussMult(unsicherheiten, werte, exponenten):\n",
    "    dz = 0\n",
    "    for i in range (unsicherheiten.size):\n",
    "        dz += (exponenten[i]*unsicherheiten[i]/werte[i])**2\n",
    "    return sqrt(dz)\n",
    "\n",
    "def vertraeglichkeit(am_1, am_2, stu_1, stu_2):\n",
    "    return (np.abs(am_1-am_2)/(sqrt((stu_1**2)*(stu_2**2))))\n",
    "\n",
    "def bestA(x, y):\n",
    "    return (sum(x**2)*sum(y)-sum(x)*sum(x*y))/(x.size*sum(x**2)-sum(x)**2)\n",
    "\n",
    "def bestB(x, y):\n",
    "    return (x.size*sum(x*y)-sum(x)*sum(y))/(x.size*sum(x**2)-sum(x)**2)\n",
    "\n",
    "def streuung(x, y):\n",
    "    s = 0\n",
    "    for i in range(x.size):\n",
    "        s += (y[i]-(bestA(x, y)+bestB(x, y)*x[i]))**2\n",
    "    return np.sqrt(s/(x.size-2))\n",
    "\n",
    "def stuA(x, y):\n",
    "    s = streuung(x, y)\n",
    "    return s*np.sqrt(sum(x**2)/((x.size*sum(x**2)-sum(x)**2)))\n",
    "\n",
    "def stuB(x, y):\n",
    "    s = streuung(x, y)\n",
    "    return s*np.sqrt(x.size/((x.size*sum(x**2)-sum(x)**2)))\n",
    "\n",
    "def print_to_table(avgs, stds, rows, cols,\n",
    "                   highlight_best=True,\n",
    "                   max_is_best=True,\n",
    "                   avg_format='{0:!>4.1f}',\n",
    "                   std_format='{1:!<4.1f}',\n",
    "                   file=None,\n",
    "                   col_orientation='c'):\n",
    "    # Find best values\n",
    "    best_avg = {}\n",
    "    if highlight_best:\n",
    "        if max_is_best:\n",
    "            for c in cols:\n",
    "                idx = np.argmax(avgs[c], axis=0)\n",
    "                best_avg[c] = idx\n",
    "        else:\n",
    "            for c in cols:\n",
    "                idx = np.argmin(avgs[c], axis=0)\n",
    "                best_avg[c] = idx\n",
    "\n",
    "    # Header\n",
    "    print_str = '\\\\begin{tabular}{l' + (\" \"+col_orientation) * len(cols) + '} \\hline\\n'\n",
    "    for c in cols:\n",
    "        print_str += ' & ' + c\n",
    "    print_str += ' \\\\\\\\ \\n \\hline'\n",
    "\n",
    "    # Content\n",
    "    for m in range(len(rows)):\n",
    "        row_name = rows[m]\n",
    "        print_str += '\\n{0}'.format(row_name)\n",
    "        for c in cols:\n",
    "            print_str += ' &\\n '\n",
    "            print_list = [avgs[c][m]]\n",
    "            print_list += [stds[c][m]]\n",
    "            if m == best_avg.get(c, None):\n",
    "                print_str += ('$\\mathbf{{'+ avg_format + ' \\\\pm ' + std_format + '}}$').format(*print_list)\n",
    "            else:\n",
    "                print_str += ('$'+ avg_format + ' \\\\pm ' + std_format + '$').format(*print_list)\n",
    "\n",
    "        print_str += \"\\n \\\\vspace*{0.0mm} \\\\\\\\\"\n",
    "        print_str = print_str.replace('!', '\\\\phantom{0}')\n",
    "\n",
    "    # Footer\n",
    "    print_str += '\\n \\hline \\n \\end{tabular}'\n",
    "\n",
    "    # Write output\n",
    "    if file is None:\n",
    "        print(print_str)\n",
    "    else:\n",
    "        with open(file, 'w') as f:\n",
    "            f.write(print_str)"
   ]
  },
  {
   "cell_type": "code",
   "execution_count": 4,
   "metadata": {},
   "outputs": [],
   "source": [
    "# Erinnerungen\n",
    "# x = np.array([,])\n",
    "# x.size\n",
    "# x, y = symbols('x y')\n",
    "# expr = x*y\n",
    "# expr.subs([(x, wert_x), (y, wert_y)])"
   ]
  },
  {
   "cell_type": "code",
   "execution_count": 42,
   "metadata": {},
   "outputs": [
    {
     "name": "stdout",
     "output_type": "stream",
     "text": [
      "vol_leg:  4474.259999999999\n",
      "vol_leg_f:  56.7540917996227\n",
      "vol_zyl:  2650.7668678339883\n",
      "vol_zyl_f:  132.964617377086\n",
      "[  0  11  27  37  52  63  78  90 108 118 133 144 160 171 188 198 214 224\n",
      " 242]\n"
     ]
    }
   ],
   "source": [
    "# Objektdaten in mm\n",
    "l_leg = 33.50 # +-0.05\n",
    "b_leg = 12.6 # +- 0.01\n",
    "h_leg = (14.7+6.5)/2 # +- 0.01\n",
    "\n",
    "werte_leg = np.array([l_leg, b_leg, h_leg])\n",
    "us_leg = np.array([0.1, 0.1, 0.1])\n",
    "exp_leg = np.array([1, 1, 1])\n",
    "\n",
    "vol_leg = l_leg*b_leg*h_leg\n",
    "vol_leg_f = einfachGaussMult(us_leg, werte_leg, exp_leg)\n",
    "\n",
    "print('vol_leg: ', vol_leg)\n",
    "print('vol_leg_f: ', vol_leg_f*vol_leg)\n",
    "\n",
    "r_zyl = 7.98/2.0 # +- 0.01\n",
    "l_zyl = 53.00 # +- 0.05\n",
    "\n",
    "exp_zyl = np.array([1, 2])\n",
    "werte_zyl = np.array([l_zyl, r_zyl])\n",
    "us_zyl = np.array([0.1, 0.1])\n",
    "\n",
    "vol_zyl = l_zyl*pc.pi*r_zyl**2\n",
    "vol_zyl_f = einfachGaussMult(us_zyl, werte_zyl, exp_zyl)\n",
    "\n",
    "\n",
    "print('vol_zyl: ', vol_zyl)\n",
    "print('vol_zyl_f: ', vol_zyl_f*vol_zyl)\n",
    "\n",
    "# Kalibrierungsdaten\n",
    "m_cal = np.array([0, 2, 5, 7, 10, 12, 15, 17, 20, 22, 25, 27, 30, 32, 35, 37, 40, 42, 45]) # g +-0.01g\n",
    "us_m_cal = 0.01 #g\n",
    "dx_cal = (np.array([242, 231, 215, 205, 190, 179, 164, 152, 134, 124, 109, 98, 82, 71, 54, 44, 28, 18, 0])-242)*-1 # mm +- 1\n",
    "print(dx_cal)\n",
    "us_dx_cal = 1.0\n",
    "\n",
    "# Objektdaten\n",
    "# 37, 18.5\n",
    "# Cu Zn\n",
    "dx_ob = np.array([44, 140])\n",
    "us_dx_ob = 1"
   ]
  },
  {
   "cell_type": "code",
   "execution_count": 102,
   "metadata": {},
   "outputs": [
    {
     "name": "stdout",
     "output_type": "stream",
     "text": [
      "Parameter a:  0.12328689876772127\n",
      "Parameter b:  0.18629652299531144\n"
     ]
    },
    {
     "data": {
      "image/png": "[encoded data removed]",
      "text/plain": [
       "<Figure size 720x288 with 1 Axes>"
      ]
     },
     "metadata": {
      "needs_background": "light"
     },
     "output_type": "display_data"
    }
   ],
   "source": [
    "# Plot von Kalibrierungsdaten\n",
    "fig, ax = plt.subplots(figsize=(10,4))\n",
    "\n",
    "ax.scatter(m_cal, dx_cal, color='b', label='data')\n",
    "\n",
    "ax.set(xlabel=r'$m$ [g]', ylabel=r'$\\Delta x$ [mm]', title=r'Strecke $ \\Delta x$ in Abhängigkeit der Masse $m$')\n",
    "ax.legend()\n",
    "ax.grid()\n",
    "\n",
    "print(\"Parameter a: \", b)\n",
    "print(\"Parameter b: \", m)\n",
    "\n",
    "fig.savefig(\"auslenkung_masse.png\")"
   ]
  },
  {
   "cell_type": "code",
   "execution_count": 107,
   "metadata": {},
   "outputs": [
    {
     "name": "stdout",
     "output_type": "stream",
     "text": [
      "0.06934679146053928\n",
      "0.0004962585742822325\n",
      "Parameter a:  0.12328689876772127\n",
      "Parameter b:  0.18629652299531144\n"
     ]
    },
    {
     "data": {
      "image/png": "[encoded data removed]",
      "text/plain": [
       "<Figure size 720x288 with 2 Axes>"
      ]
     },
     "metadata": {
      "needs_background": "light"
     },
     "output_type": "display_data"
    }
   ],
   "source": [
    "# Plot von lin Reg\n",
    "fig, ax1 = plt.subplots(figsize=(10,4))\n",
    "\n",
    "ax1.scatter(dx_cal, m_cal, color='b', label='data')\n",
    "m, b = np.polyfit(dx_cal, m_cal, 1)\n",
    "\n",
    "x = np.linspace(0, 250, num = 200)\n",
    "\n",
    "del_b = stuA(dx_cal, m_cal)\n",
    "print(del_b)\n",
    "del_m = stuB(dx_cal, m_cal)\n",
    "print(del_m)\n",
    "\n",
    "ax1.plot(x, x*m+b, color='r', label='Ausgleichsgerade')\n",
    "ax1.plot(x, x*(m-del_m)+(b+del_b), color='y', label='Grenzgerade max')\n",
    "ax1.plot(x, x*(m+del_m)+(b-del_b), color='g', label='Grenzgerade min')\n",
    "#ax.errorbar(m_cal, dx_cal, xerr=0, yerr=, fmt='', color='b', label='Fehlerbalken')\n",
    "\n",
    "x_det = np.linspace(10,10.1, num= 10)\n",
    "y_det = x_det*m+b\n",
    "y_det_max = x_det*(m-del_m)+(b+del_b)\n",
    "y_det_min = x_det*(m+del_m)+(b-del_b)\n",
    "\n",
    "# location for the zoomed portion \n",
    "sub_axes = plt.axes([.65, 0.2, .2, .2]) \n",
    "\n",
    "# plot the zoomed portion\n",
    "sub_axes.plot(x_det, y_det_max, c = 'y') \n",
    "sub_axes.plot(x_det, y_det_min, c = 'g') \n",
    "sub_axes.plot(x_det, y_det, c = 'r')\n",
    "\n",
    "ax1.set(xlabel=r'$\\Delta x$ [mm]', ylabel=r'$m$ [g]', title=r'Masse $ m$ in Abhängigkeit der Auslenkung $\\Delta x$')\n",
    "ax1.legend()\n",
    "ax1.grid()\n",
    "\n",
    "print(\"Parameter a: \", b)\n",
    "print(\"Parameter b: \", m)\n",
    "\n",
    "fig.savefig(\"masse_auslenkung.png\")"
   ]
  },
  {
   "cell_type": "code",
   "execution_count": 48,
   "metadata": {},
   "outputs": [
    {
     "name": "stdout",
     "output_type": "stream",
     "text": [
      "0.0539567851042925\n",
      "0.0165162442878568\n"
     ]
    }
   ],
   "source": [
    "uns_z = np.array([0.38/(10**3), 132.96*(10**-9)])\n",
    "werte_z = np.array([19.11/(10**3), 2650.77*(10**-9)])\n",
    "\n",
    "uns_q = np.array([0.39/(10**3), vol_leg_f*vol_leg*(10**-9)])\n",
    "werte_q = np.array([36.87/(10**3), vol_leg*(10**-9)])\n",
    "\n",
    "exp = np.array([1, -1])\n",
    "\n",
    "print(einfachGaussMult(uns_z, werte_z, exp))\n",
    "\n",
    "print(einfachGaussMult(uns_q, werte_q, exp))"
   ]
  },
  {
   "cell_type": "code",
   "execution_count": 44,
   "metadata": {},
   "outputs": [
    {
     "data": {
      "text/plain": [
       "36.8676"
      ]
     },
     "execution_count": 44,
     "metadata": {},
     "output_type": "execute_result"
    }
   ],
   "source": [
    "((44-242)*-0.1862)"
   ]
  },
  {
   "cell_type": "code",
   "execution_count": 45,
   "metadata": {},
   "outputs": [
    {
     "name": "stdout",
     "output_type": "stream",
     "text": [
      "8240.468814954877\n"
     ]
    }
   ],
   "source": [
    "print((36.87*(10**-3))/(vol_leg*(10**-9)))"
   ]
  },
  {
   "cell_type": "code",
   "execution_count": null,
   "metadata": {},
   "outputs": [],
   "source": []
  }
 ],
 "metadata": {
  "kernelspec": {
   "display_name": "Python 3",
   "language": "python",
   "name": "python3"
  },
  "language_info": {
   "codemirror_mode": {
    "name": "ipython",
    "version": 3
   },
   "file_extension": ".py",
   "mimetype": "text/x-python",
   "name": "python",
   "nbconvert_exporter": "python",
   "pygments_lexer": "ipython3",
   "version": "3.8.3"
  }
 },
 "nbformat": 4,
 "nbformat_minor": 4
}
