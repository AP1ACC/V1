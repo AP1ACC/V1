{
 "cells": [
  {
   "cell_type": "code",
   "execution_count": 2,
   "metadata": {},
   "outputs": [],
   "source": [
    "# imports\n",
    "import numpy as np\n",
    "import matplotlib.pyplot as plt\n",
    "import matplotlib.colors as c\n",
    "import sympy as sy\n",
    "import scipy.constants as pc\n",
    "from sympy import *"
   ]
  },
  {
   "cell_type": "code",
   "execution_count": 3,
   "metadata": {},
   "outputs": [],
   "source": [
    "# Funktionen\n",
    "def am(werte):\n",
    "    return np.mean(werte)\n",
    "\n",
    "def std(werte):\n",
    "    summen_der_quadrate = 0\n",
    "    for wert in werte:\n",
    "        summen_der_quadrate+=(wert-am(werte))**2       \n",
    "    return np.sqrt(summen_der_quadrate/(werte.size-1))\n",
    "\n",
    "def stu(werte):\n",
    "    return std(werte)/np.sqrt(werte.size)\n",
    "\n",
    "def fehler(f, werte, unsicherheiten, variablen):\n",
    "    zMax = 0\n",
    "    for i in range(werte.size):\n",
    "        dif = np.abs(sy.diff(f, variablen[i]))\n",
    "        zMax += (dif * unsicherheiten[i])**2\n",
    "    zMax = sqrt(zMax)\n",
    "    for j in range(werte.size):\n",
    "        zMax = sub(zMax, variablen[j], werte[j])\n",
    "    return zMax\n",
    "\n",
    "def fehlerMax(f, werte, unsicherheiten, variablen):\n",
    "    zMax = 0\n",
    "    for i in range(werte.size):\n",
    "        dif = np.abs(sy.diff(f, variablen[i]))\n",
    "        zMax += dif * unsicherheiten[i]\n",
    "    for j in range(werte.size):\n",
    "        zMax = sub(zMax, variablen[j], werte[j])\n",
    "    return zMax\n",
    "\n",
    "def groessterBeitrag(f, werte, unsicherheiten, variablen):\n",
    "    zMax = 0\n",
    "    zMaxArray = np.array([])\n",
    "    for i in range (werte.size):\n",
    "        zMax = (np.abs(sy.diff(f, variablen[i])) * unsicherheiten[i])\n",
    "        for j in range(werte.size):\n",
    "            zMax = sub(zMax, variablen[j], werte[j])\n",
    "        x = np.array([zMax])\n",
    "        zMaxArray = np.append(zMaxArray, x)\n",
    "    return variablen[np.argmax(zMaxArray)]\n",
    "\n",
    "def sub(zMax, variable, wert):\n",
    "    return zMax.subs([(variable, wert)])\n",
    "\n",
    "def einfachGaussAdd(unsicherheiten, koeffizienten):\n",
    "    dz = 0\n",
    "    for i in range (unsicherheiten.size):\n",
    "        dz += (unsicherheiten[i]*unsicherheiten[i])**2\n",
    "    return sqrt(dz)\n",
    "\n",
    "def einfachGaussMult(unsicherheiten, werte, exponenten):\n",
    "    dz = 0\n",
    "    for i in range (unsicherheiten.size):\n",
    "        dz += (exponenten[i]*unsicherheiten[i]/werte[i])**2\n",
    "    return sqrt(dz)\n",
    "\n",
    "def vertraeglichkeit(am_1, am_2, stu_1, stu_2):\n",
    "    return (np.abs(am_1-am_2)/(sqrt((stu_1**2)*(stu_2**2))))\n",
    "\n",
    "def bestA(x, y):\n",
    "    return (sum(x**2)*sum(y)-sum(x)*sum(x*y))/(x.size*sum(x**2)-sum(x)**2)\n",
    "\n",
    "def bestB(x, y):\n",
    "    return (x.size*sum(x*y)-sum(x)*sum(y))/(x.size*sum(x**2)-sum(x)**2)\n",
    "\n",
    "def streuung(x, y):\n",
    "    s = 0\n",
    "    for i in range(x.size):\n",
    "        s += (y[i]+(bestA(x, y)+bestB(x, y)*x[i]))**2\n",
    "    return np.sqrt(s/(x.size-2))\n",
    "\n",
    "def stuA(x, y):\n",
    "    s = streuung(x, y)\n",
    "    return s*np.sqrt(sum(x**2)/((x.size*sum(x**2)-sum(x)**2)))\n",
    "\n",
    "def stuB(x, y):\n",
    "    s = streuung(x, y)\n",
    "    return s*np.sqrt(x.size/((x.size*sum(x**2)-sum(x)**2)))"
   ]
  },
  {
   "cell_type": "code",
   "execution_count": 13,
   "metadata": {
    "scrolled": true
   },
   "outputs": [
    {
     "name": "stdout",
     "output_type": "stream",
     "text": [
      "vol_leg:  8240.47\n",
      "vol_leg_f:  136.1\n",
      "vol_zyl:  2650.7668678339883\n",
      "vol_zyl_f:  0.00510053592845024\n"
     ]
    }
   ],
   "source": [
    "# Objektdaten in mm\n",
    "l_leg = 33.50 # +-0.05\n",
    "b_leg = 12.57 # +- 0.01\n",
    "h_leg = (15+6.45)/2 # +- 0.01\n",
    "\n",
    "werte_leg = np.array([l_leg, b_leg, h_leg])\n",
    "us_leg = np.array([0.05, 0.01, 0.01])\n",
    "exp_leg = np.array([1, 1, 1])\n",
    "\n",
    "vol_leg = l_leg*b_leg*h_leg\n",
    "vol_leg_f = einfachGaussMult(us_leg, werte_leg, exp_leg)\n",
    "\n",
    "vol_leg = 8240.47\n",
    "vol_leg_f = 136.10\n",
    "\n",
    "print('vol_leg: ', vol_leg)\n",
    "print('vol_leg_f: ', vol_leg_f)\n",
    "\n",
    "\n",
    "exp_zyl = np.array([1, 2])\n",
    "werte_zyl = np.array([l_zyl, r_zyl])\n",
    "us_zyl = np.array([0.05, 0.01])\n",
    "\n",
    "vol_zyl = l_zyl*pc.pi*r_zyl**2\n",
    "vol_zyl_f = einfachGaussMult(us_zyl, werte_zyl, exp_zyl)\n",
    "\n",
    "print('vol_zyl: ', vol_zyl)\n",
    "print('vol_zyl_f: ', vol_zyl_f)\n",
    "\n",
    "# Kalibrierungsdaten\n",
    "m_cal = np.array([0, 2, 5, 7, 10, 12, 15, 17, 20, 22, 25, 27, 30, 32, 35, 37, 40, 42, 45]) # g +-0.01g\n",
    "us_m_cal = 0.01 #g\n",
    "dx_cal = np.array([242, 231, 215, 205, 190, 179, 164, 152, 134, 124, 109, 98, 82, 71, 54, 44, 28, 18, 0]) # mm +- 1\n",
    "us_dx_cal = 1.0\n",
    "\n",
    "# Objektdaten\n",
    "# 37, 18.5\n",
    "# Cu Zn\n",
    "dx_ob = np.array([44, 140])\n",
    "us_dx_ob = 1\n"
   ]
  },
  {
   "cell_type": "code",
   "execution_count": 14,
   "metadata": {},
   "outputs": [
    {
     "name": "stdout",
     "output_type": "stream",
     "text": [
      "Unsicherheit Zylinder 0.3823568689735257\n",
      "Unischerheit Legierung 0.3915219346864727\n"
     ]
    }
   ],
   "source": [
    "a = 0.12328689876772127\n",
    "delta_a = 0.06934679146053928\n",
    "\n",
    "b = 0.18629652299531144\n",
    "delta_b = 0.0004962585742822325\n",
    "\n",
    "x_zyl = (140-242)*(-1)\n",
    "x_leg = (44-242)*(-1)\n",
    "delta_x = 2\n",
    "\n",
    "#Fehler Masse Zylinder\n",
    "#m = a + bx , m'(a)=1 , m'(x)=b, m'(b)=x\n",
    "\n",
    "def delta_m(x):\n",
    "    return np.sqrt((1 * delta_a)**2+(b*delta_x)**2+(x*delta_b)**2)\n",
    "\n",
    "print(\"Unsicherheit Zylinder\", delta_m(x_zyl))\n",
    "print(\"Unischerheit Legierung\", delta_m(x_leg))\n",
    "\n",
    "\n",
    "\n",
    "\n",
    "\n",
    "\n",
    "\n"
   ]
  },
  {
   "cell_type": "code",
   "execution_count": 18,
   "metadata": {},
   "outputs": [
    {
     "name": "stdout",
     "output_type": "stream",
     "text": [
      "36.9876\n",
      "0.3915219346864727\n",
      "0.004488530387223059 dich\n",
      "Anteil Kupfer -145.6851435591726 %\n",
      "Anteil Zink 245.68514355917256 %\n"
     ]
    }
   ],
   "source": [
    "dichte_zink = 0.00714 #g/mm^3 \n",
    "dichte_zink_f = 0.00001\n",
    "\n",
    "dichte_kupfer = 0.00896 #g/mm^3\n",
    "dichte_kupfer_f = 0.00001\n",
    "\n",
    "mas_leg = ((44-242)*-0.1862) + 0.12\n",
    "mas_leg_f = delta_m(x_leg)\n",
    "print(mas_leg)\n",
    "print(mas_leg_f)\n",
    "\n",
    "print(mas_leg/vol_leg,\"dich\")\n",
    "\n",
    "\n",
    "#vol_leg \n",
    "#vol_leg_f\n",
    "# mas_leg_f 2mm für Länge \n",
    "# 0.12 +- 0.06934679146053928\n",
    "# 0.1862 +- 0.0004962585742822325\n",
    "# mas_leg/vol_leg = dichte_leg\n",
    "\n",
    "# dichte_leg = x*dichte_zink + y*dichte_kupfer\n",
    "\n",
    "#mas_leg / vol_leg = anteil_zink * dichte_zink + anteil_kupfer * dichte_kupfer\n",
    "#anteil_kupfer + anteil_zink = 1\n",
    "\n",
    "#Umformen\n",
    "\n",
    "anteil_kupfer = (mas_leg/vol_leg - dichte_zink)/(dichte_kupfer-dichte_zink)\n",
    "print(\"Anteil Kupfer\", 100 * anteil_kupfer,\"%\")\n",
    "\n",
    "anteil_zink = 1 - anteil_kupfer\n",
    "print(\"Anteil Zink\",  100*anteil_zink,\"%\")\n",
    "\n",
    "#mas_leg / vol_leg = anteil_zink * dichte_zink + anteil_kupfer * dichte_kupfer\n"
   ]
  },
  {
   "cell_type": "code",
   "execution_count": 49,
   "metadata": {},
   "outputs": [
    {
     "name": "stdout",
     "output_type": "stream",
     "text": [
      "1.82526574302663 %\n"
     ]
    }
   ],
   "source": [
    "#Fehler Anteil Kupfer/Zink\n",
    "\n",
    "dichte_leg = 8240.47\n",
    "dichte_leg_f = 136.10\n",
    "\n",
    "\n",
    "#K = (P - dz)/(dk-dz)\n",
    "#K'P = 1/(dk-dz) ; K'dz = -(dk-P)/(dz-dk)^2 ; K'dk = (dz-P)/(dk-dz)**2\n",
    "\n",
    "#def fehler_anteile(P, dk, dz,  P_f, dk_f, dz_f):\n",
    "#    print(P, P_f, dk, dk_f, dz, dz_f)\n",
    "#    return np.sqrt((1/(dk-dz) * P_f)**2 + (-dz_f * (dk-P)/(dz-dk)**2)**2 + (dk * (dz-P)/(dk-dz)**2)**2)\n",
    "    \n",
    "#anteile_f = fehler_anteile(dichte_leg, dichte_kupfer, dichte_zink, dichte_leg_f, dichte_kupfer_f, dichte_kupfer_f)\n",
    "#print(anteile_f)\n",
    "\n",
    "unsich_oben = np.sqrt(dichte_leg_f**2 + dichte_zink_f**2)\n",
    "unsich_unten = np.sqrt(dichte_zink_f**2 + dichte_kupfer_f**2)\n",
    "\n",
    "expo_dich = np.array([1,-1])\n",
    "unsicher = np.array([unsich_oben, unsich_unten])\n",
    "wert = np.array([dichte_leg-dichte_zink, dichte_kupfer - dichte_zink])\n",
    "print(einfachGaussMult(unsicher, wert, expo_dich)*100,\"%\")"
   ]
  },
  {
   "cell_type": "code",
   "execution_count": 39,
   "metadata": {},
   "outputs": [
    {
     "data": {
      "text/plain": [
       "1.0"
      ]
     },
     "execution_count": 39,
     "metadata": {},
     "output_type": "execute_result"
    }
   ],
   "source": []
  },
  {
   "cell_type": "code",
   "execution_count": null,
   "metadata": {},
   "outputs": [],
   "source": []
  },
  {
   "cell_type": "code",
   "execution_count": null,
   "metadata": {},
   "outputs": [],
   "source": [
    "\n"
   ]
  }
 ],
 "metadata": {
  "kernelspec": {
   "display_name": "Python 3",
   "language": "python",
   "name": "python3"
  },
  "language_info": {
   "codemirror_mode": {
    "name": "ipython",
    "version": 3
   },
   "file_extension": ".py",
   "mimetype": "text/x-python",
   "name": "python",
   "nbconvert_exporter": "python",
   "pygments_lexer": "ipython3",
   "version": "3.8.3"
  }
 },
 "nbformat": 4,
 "nbformat_minor": 4
}
