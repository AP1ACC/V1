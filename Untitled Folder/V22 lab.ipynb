{
 "cells": [
  {
   "cell_type": "code",
   "execution_count": 1,
   "metadata": {},
   "outputs": [],
   "source": [
    "# imports\n",
    "import numpy as np\n",
    "import matplotlib.pyplot as plt\n",
    "import matplotlib.colors as c\n",
    "from matplotlib import rcParams\n",
    "import sympy as sy\n",
    "import scipy.constants as pc\n",
    "from sympy import *\n",
    "\n",
    "#rcParams['font.size'] = 15\n",
    "#rcParams['font.weight'] = 'bold'\n",
    "#rcParams['text.usetex'] = True\n",
    "#rcParams['font.family'] = 'sans-serif'\n",
    "#rcParams['font.sans-serif'] = ['Helvetica']"
   ]
  },
  {
   "cell_type": "code",
   "execution_count": 2,
   "metadata": {},
   "outputs": [],
   "source": [
    "# Funktionen\n",
    "def am(werte):\n",
    "    return np.mean(werte)\n",
    "\n",
    "def std(werte):\n",
    "    summen_der_quadrate = 0\n",
    "    for wert in werte:\n",
    "        summen_der_quadrate+=(wert-am(werte))**2       \n",
    "    return np.sqrt(summen_der_quadrate/(werte.size-1))\n",
    "\n",
    "def stu(werte):\n",
    "    return std(werte)/np.sqrt(werte.size)\n",
    "\n",
    "def fehler(f, werte, unsicherheiten, variablen):\n",
    "    zMax = 0\n",
    "    for i in range(werte.size):\n",
    "        dif = np.abs(sy.diff(f, variablen[i]))\n",
    "        zMax += (dif * unsicherheiten[i])**2\n",
    "    zMax = sqrt(zMax)\n",
    "    for j in range(werte.size):\n",
    "        zMax = sub(zMax, variablen[j], werte[j])\n",
    "    return zMax\n",
    "\n",
    "def fehlerMax(f, werte, unsicherheiten, variablen):\n",
    "    zMax = 0\n",
    "    for i in range(werte.size):\n",
    "        dif = np.abs(sy.diff(f, variablen[i]))\n",
    "        zMax += dif * unsicherheiten[i]\n",
    "    for j in range(werte.size):\n",
    "        zMax = sub(zMax, variablen[j], werte[j])\n",
    "    return zMax\n",
    "\n",
    "def groessterBeitrag(f, werte, unsicherheiten, variablen):\n",
    "    zMax = 0\n",
    "    zMaxArray = np.array([])\n",
    "    for i in range (werte.size):\n",
    "        zMax = (np.abs(sy.diff(f, variablen[i])) * unsicherheiten[i])\n",
    "        for j in range(werte.size):\n",
    "            zMax = sub(zMax, variablen[j], werte[j])\n",
    "        x = np.array([zMax])\n",
    "        zMaxArray = np.append(zMaxArray, x)\n",
    "    return variablen[np.argmax(zMaxArray)]\n",
    "\n",
    "def sub(zMax, variable, wert):\n",
    "    return zMax.subs([(variable, wert)])\n",
    "\n",
    "def einfachGaussAdd(unsicherheiten, koeffizienten):\n",
    "    dz = 0\n",
    "    for i in range (unsicherheiten.size):\n",
    "        dz += (unsicherheiten[i]*unsicherheiten[i])**2\n",
    "    return sqrt(dz)\n",
    "\n",
    "def einfachGaussMult(unsicherheiten, werte, exponenten):\n",
    "    dz = 0\n",
    "    for i in range (unsicherheiten.size):\n",
    "        dz += (exponenten[i]*unsicherheiten[i]/werte[i])**2\n",
    "    return sqrt(dz)\n",
    "\n",
    "def vertraeglichkeit(am_1, am_2, stu_1, stu_2):\n",
    "    return (np.abs(am_1-am_2)/(sqrt((stu_1**2)*(stu_2**2))))\n",
    "\n",
    "def bestA(x, y):\n",
    "    return (sum(x**2)*sum(y)-sum(x)*sum(x*y))/(x.size*sum(x**2)-sum(x)**2)\n",
    "\n",
    "def bestB(x, y):\n",
    "    return (x.size*sum(x*y)-sum(x)*sum(y))/(x.size*sum(x**2)-sum(x)**2)\n",
    "\n",
    "def streuung(x, y):\n",
    "    s = 0\n",
    "    for i in range(x.size):\n",
    "        s += (y[i]-(bestA(x, y)+bestB(x, y)*x[i]))**2\n",
    "    return np.sqrt(s/(x.size-2))\n",
    "\n",
    "def stuA(x, y):\n",
    "    s = streuung(x, y)\n",
    "    return s*np.sqrt(sum(x**2)/((x.size*sum(x**2)-sum(x)**2)))\n",
    "\n",
    "def stuB(x, y):\n",
    "    s = streuung(x, y)\n",
    "    return s*np.sqrt(x.size/((x.size*sum(x**2)-sum(x)**2)))\n",
    "\n",
    "def print_to_table(avgs, stds, rows, cols,\n",
    "                   highlight_best=True,\n",
    "                   max_is_best=True,\n",
    "                   avg_format='{0:!>4.1f}',\n",
    "                   std_format='{1:!<4.1f}',\n",
    "                   file=None,\n",
    "                   col_orientation='c'):\n",
    "    # Find best values\n",
    "    best_avg = {}\n",
    "    if highlight_best:\n",
    "        if max_is_best:\n",
    "            for c in cols:\n",
    "                idx = np.argmax(avgs[c], axis=0)\n",
    "                best_avg[c] = idx\n",
    "        else:\n",
    "            for c in cols:\n",
    "                idx = np.argmin(avgs[c], axis=0)\n",
    "                best_avg[c] = idx\n",
    "\n",
    "    # Header\n",
    "    print_str = '\\\\begin{tabular}{l' + (\" \"+col_orientation) * len(cols) + '} \\hline\\n'\n",
    "    for c in cols:\n",
    "        print_str += ' & ' + c\n",
    "    print_str += ' \\\\\\\\ \\n \\hline'\n",
    "\n",
    "    # Content\n",
    "    for m in range(len(rows)):\n",
    "        row_name = rows[m]\n",
    "        print_str += '\\n{0}'.format(row_name)\n",
    "        for c in cols:\n",
    "            print_str += ' &\\n '\n",
    "            print_list = [avgs[c][m]]\n",
    "            print_list += [stds[c][m]]\n",
    "            if m == best_avg.get(c, None):\n",
    "                print_str += ('$\\mathbf{{'+ avg_format + ' \\\\pm ' + std_format + '}}$').format(*print_list)\n",
    "            else:\n",
    "                print_str += ('$'+ avg_format + ' \\\\pm ' + std_format + '$').format(*print_list)\n",
    "\n",
    "        print_str += \"\\n \\\\vspace*{0.0mm} \\\\\\\\\"\n",
    "        print_str = print_str.replace('!', '\\\\phantom{0}')\n",
    "\n",
    "    # Footer\n",
    "    print_str += '\\n \\hline \\n \\end{tabular}'\n",
    "\n",
    "    # Write output\n",
    "    if file is None:\n",
    "        print(print_str)\n",
    "    else:\n",
    "        with open(file, 'w') as f:\n",
    "            f.write(print_str)"
   ]
  },
  {
   "cell_type": "code",
   "execution_count": 3,
   "metadata": {},
   "outputs": [
    {
     "name": "stderr",
     "output_type": "stream",
     "text": [
      "No handles with labels found to put in legend.\n"
     ]
    },
    {
     "data": {
      "image/png": "[encoded data removed]",
      "text/plain": [
       "<Figure size 720x432 with 1 Axes>"
      ]
     },
     "metadata": {
      "needs_background": "light"
     },
     "output_type": "display_data"
    }
   ],
   "source": [
    "# Standard plotting\n",
    "\n",
    "fig, ax = plt.subplots(figsize=(10,6))\n",
    "ax.tick_params(axis='both', which='major', labelsize=18)\n",
    "ax.tick_params(axis='both', which='minor', labelsize=16)\n",
    "\n",
    "#ax.plot(x, y, color='b', label='label')\n",
    "#ax.scatter(x, y, color='r', label='label')\n",
    "#ax.errorbar(am_x, am_y, xerr=std_x, yerr=std_y, fmt='D', color='#d0740b', label='label')\n",
    "\n",
    "ax.set(xlabel='x', ylabel='y', title='Titel')\n",
    "ax.legend()\n",
    "ax.grid()\n",
    "\n",
    "#fig.savefig(\"test.png\")"
   ]
  },
  {
   "cell_type": "code",
   "execution_count": 4,
   "metadata": {},
   "outputs": [],
   "source": [
    "# Erinnerungen\n",
    "# x = np.array([,])\n",
    "# x.size\n",
    "# x, y = symbols('x y')\n",
    "# expr = x*y\n",
    "# expr.subs([(x, wert_x), (y, wert_y)])"
   ]
  },
  {
   "cell_type": "code",
   "execution_count": 22,
   "metadata": {},
   "outputs": [
    {
     "data": {
      "image/png": "[encoded data removed]",
      "text/plain": [
       "<Figure size 720x432 with 1 Axes>"
      ]
     },
     "metadata": {
      "needs_background": "light"
     },
     "output_type": "display_data"
    }
   ],
   "source": [
    "# Einzelmessungen\n",
    "omega = np.array([1.2, 1.14, 1.18, 1.2, 1.2, 1.2, 1.16, 1.13]) # 1.01\n",
    "omega_p = np.array([0.23, 0.19, 0.13, -0.03, -0.03, -0.1, -0.14, -0.27]) # 0.09\n",
    "\n",
    "omega_var = np.array([0.88, 1.1, 1.23, 1.7, 0.81, 0.99, 1.62, 1.04, 1.6, 1.2, 1.74, 1.26])\n",
    "omega_p_var = np.array([0.27, 0.24, 0.22, 0.19, 0.37, 0.29, 0.19, 0.25, 0.2, 0.23, 0.16, 0.22])\n",
    "\n",
    "r_sp = np.array([80, 70, 60, 40, 30, 20, 10, 0]) #50 \n",
    "# Standard plotting\n",
    "\n",
    "fig, ax = plt.subplots(figsize=(10,6))\n",
    "ax.tick_params(axis='both', which='major', labelsize=18)\n",
    "ax.tick_params(axis='both', which='minor', labelsize=16)\n",
    "\n",
    "#ax.plot(x, y, color='b', label='label')\n",
    "ax.scatter(r_sp, omega_p, color='r', label='label')\n",
    "#ax.errorbar(am_x, am_y, xerr=std_x, yerr=std_y, fmt='D', color='#d0740b', label='label')\n",
    "\n",
    "ax.set(xlabel='x', ylabel='y', title='Titel')\n",
    "ax.legend()\n",
    "ax.grid()\n",
    "\n",
    "#fig.savefig(\"test.png\")"
   ]
  },
  {
   "cell_type": "code",
   "execution_count": 21,
   "metadata": {},
   "outputs": [
    {
     "data": {
      "image/png": "[encoded data removed]",
      "text/plain": [
       "<Figure size 720x432 with 1 Axes>"
      ]
     },
     "metadata": {
      "needs_background": "light"
     },
     "output_type": "display_data"
    }
   ],
   "source": [
    "fig, ax = plt.subplots(figsize=(10,6))\n",
    "ax.tick_params(axis='both', which='major', labelsize=18)\n",
    "ax.tick_params(axis='both', which='minor', labelsize=16)\n",
    "\n",
    "#ax.plot(x, y, color='b', label='label')\n",
    "ax.scatter(omega_var, omega_p_var, color='b', label='label')\n",
    "#ax.errorbar(am_x, am_y, xerr=std_x, yerr=std_y, fmt='D', color='#d0740b', label='label')\n",
    "\n",
    "ax.set(xlabel=r'$\\omega$', ylabel=r'$\\omega_p$', title='Titel')\n",
    "ax.legend()\n",
    "ax.grid()\n",
    "\n",
    "#fig.savefig(\"test.png\")"
   ]
  },
  {
   "cell_type": "code",
   "execution_count": 23,
   "metadata": {},
   "outputs": [
    {
     "data": {
      "image/png": "[encoded data removed]",
      "text/plain": [
       "<Figure size 720x432 with 1 Axes>"
      ]
     },
     "metadata": {
      "needs_background": "light"
     },
     "output_type": "display_data"
    }
   ],
   "source": [
    "fig, ax = plt.subplots(figsize=(10,6))\n",
    "ax.tick_params(axis='both', which='major', labelsize=18)\n",
    "ax.tick_params(axis='both', which='minor', labelsize=16)\n",
    "\n",
    "#ax.plot(x, y, color='b', label='label')\n",
    "ax.scatter(omega*omega_p, r_sp, color='b', label='label')\n",
    "#ax.errorbar(am_x, am_y, xerr=std_x, yerr=std_y, fmt='D', color='#d0740b', label='label')\n",
    "\n",
    "ax.set(xlabel=r'$\\omega\\cdot\\omega_p$', ylabel=r'$r_s$', title='Titel')\n",
    "ax.legend()\n",
    "ax.grid()"
   ]
  },
  {
   "cell_type": "code",
   "execution_count": null,
   "metadata": {},
   "outputs": [],
   "source": []
  }
 ],
 "metadata": {
  "kernelspec": {
   "display_name": "Python 3",
   "language": "python",
   "name": "python3"
  },
  "language_info": {
   "codemirror_mode": {
    "name": "ipython",
    "version": 3
   },
   "file_extension": ".py",
   "mimetype": "text/x-python",
   "name": "python",
   "nbconvert_exporter": "python",
   "pygments_lexer": "ipython3",
   "version": "3.8.3"
  }
 },
 "nbformat": 4,
 "nbformat_minor": 4
}
