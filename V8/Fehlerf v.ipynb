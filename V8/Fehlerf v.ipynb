{
 "cells": [
  {
   "cell_type": "code",
   "execution_count": 1,
   "metadata": {},
   "outputs": [],
   "source": [
    "# imports\n",
    "import numpy as np\n",
    "import matplotlib.pyplot as plt\n",
    "import matplotlib.colors as c\n",
    "import sympy as sy\n",
    "from sympy import *\n",
    "import scipy.constants as pc"
   ]
  },
  {
   "cell_type": "code",
   "execution_count": 2,
   "metadata": {
    "scrolled": true
   },
   "outputs": [
    {
     "name": "stdout",
     "output_type": "stream",
     "text": [
      "[0.03044835 0.0410762  0.05300119 0.06541292 0.0804829  0.09501188\n",
      " 0.10914052] alles in m/s\n",
      "[0.00591748 0.00350924 0.00365948 0.00516225 0.00505891 0.00579504\n",
      " 0.00586652]\n",
      "[0.00018018 0.00014415 0.00019396 0.00033768 0.00040716 0.0005506\n",
      " 0.00064028]\n"
     ]
    }
   ],
   "source": [
    "\n",
    "\n",
    "def am(werte):\n",
    "    return np.mean(werte)\n",
    "\n",
    "def std(werte):\n",
    "    summen_der_quadrate = 0\n",
    "    for wert in werte:\n",
    "        summen_der_quadrate+=(wert-am(werte))**2       \n",
    "    return np.sqrt(summen_der_quadrate/(werte.size-1))\n",
    "\n",
    "def stu(werte):\n",
    "    return std(werte)/np.sqrt(werte.size)\n",
    "\n",
    "def einfachGaussMult(unsicherheiten, werte, exponenten):\n",
    "    dz = 0\n",
    "    for i in range (unsicherheiten.size):\n",
    "        dz += (exponenten[i]*unsicherheiten[i]/werte[i])**2\n",
    "    return sqrt(dz)\n",
    "\n",
    "\n",
    "exponenten = np.array([1,-1])\n",
    "\n",
    "höhe = 0.4\n",
    "höhe_stu = 0.001\n",
    "\n",
    "t_3_mm = np.array([13.13, 13.21, 13.23, 13.30, 13.5, 12.82, 13.18, 12.98, 13.25, 12.77])\n",
    "t_35_mm = np.array([9.74, 9.81, 9.63, 9.79, 9.73, 9.66, 9.63, 9.75, 9.8, 9.84])\n",
    "t_4_mm = np.array([7.62, 7.52, 7.50, 7.55, 7.50, 7.48, 7.64, 7.63, 7.47, 7.56])\n",
    "t_45_mm = np.array([6.09, 6.24, 6.1, 5.96, 6.14, 6.18, 6.21, 6.15, 6.07, 6.01])\n",
    "t_5_mm = np.array([4.83, 4.99, 5.02, 4.89, 4.97, 5.01, 5.06, 4.95, 4.95, 5.03])\n",
    "t_55_mm = np.array([4.21, 4.24, 4.27, 4.28, 4.20, 4.04, 4.27, 4.21, 4.21, 4.17])\n",
    "t_6_mm = np.array([3.62, 3.63, 3.63, 3.72, 3.74, 3.71, 3.72, 3.68, 3.66, 3.54])\n",
    "\n",
    "t_mm = np.array([t_3_mm, t_35_mm, t_4_mm, t_45_mm, t_5_mm, t_55_mm, t_6_mm])\n",
    "\n",
    "v = np.zeros(7)\n",
    "t_stu = np.zeros(7)\n",
    "deltav_durch_v = np.zeros(7)\n",
    "\n",
    "for i in range(7):\n",
    "    t = am(t_mm[i])\n",
    "    v[i] = höhe/t\n",
    "    t_stu[i] = stu(t_mm[i])\n",
    "    \n",
    "print(v, \"alles in m/s\")\n",
    "\n",
    "for i in range(7):\n",
    "    werte = np.array([höhe, am(t_mm[i])])\n",
    "    unsicherheiten = np.array([höhe_stu,t_stu[i]])\n",
    "    deltav_durch_v[i] = einfachGaussMult(unsicherheiten, werte, exponenten)\n",
    "    \n",
    "print(deltav_durch_v)\n",
    "\n",
    "deltav = deltav_durch_v * v\n",
    "print(deltav)\n",
    "    "
   ]
  },
  {
   "cell_type": "code",
   "execution_count": 16,
   "metadata": {
    "scrolled": true
   },
   "outputs": [
    {
     "name": "stdout",
     "output_type": "stream",
     "text": [
      "0.9194414207185634\n",
      "0.3791544767276233\n",
      "0.32977973317462944\n",
      "0.08487281580537955\n",
      "0.07803558234448311\n",
      "Reynoldszahlen:  99.77190356430953\n"
     ]
    }
   ],
   "source": [
    "\n",
    "laengeK = np.array([0.0952, 0.1211, 0.08, 0.0793, 0.1072, 0.0645])\n",
    "laengeK_stu = 0.0001\n",
    "\n",
    "rK = np.array([0.00075, 0.0005, 0.0003, 0.00075, 0.0006, 0.0006])\n",
    "rK_stu = 0.00005\n",
    "\n",
    "vol = np.array([50, 9.6, 2.7, 50, 24.2, 34.5])*(10**(-6)) # ml\n",
    "vol_stu = np.array([1, 0.1, 0.1, 1, 1, 1])*(10**(-6))\n",
    "\n",
    "\n",
    "h_abgelesen  = np.array([0.042, 0.056, 0.057, 0.051, 0.051, 0.0495]) # m#Fehlerfortpf Kapillarpenis\n",
    "offset = 0.01875\n",
    "h_mit_offset = h_abgelesen + offset\n",
    "h_stu = np.array([0.0015, 0.001, 0.001, 0.0005, 0.0005, 0.0005])\n",
    "\n",
    "tK = 60\n",
    "tK_stu = 0.1\n",
    "\n",
    "\n",
    "dichte_W = 998 # kg/m^3 20°C\n",
    "dichte_W_stu = 1\n",
    "\n",
    "g = 9.808\n",
    "g_stu = 0.001\n",
    "\n",
    "druck = dichte_W*pc.g*h_mit_offset\n",
    "\n",
    "volS = vol/tK\n",
    "rel = rK**4/laengeK\n",
    "\n",
    "visK = (pc.pi*druck*tK*rK**4)/(8*laengeK*vol) # kg/sm\n",
    "visK_umgerechnet = visK * 1000\n",
    "print(am(visK_umgerechnet))\n",
    "\n",
    "\n",
    "\n",
    "#Fehlerfortpflanzung Viskosität\n",
    "\n",
    "# t, V, Dichte, g, h, R^4, L\n",
    "exponentenK_visko = np.array([1,-1,1,1,1,4,-1])\n",
    "\n",
    "deltavis_durch_vis = np.zeros(6)\n",
    "\n",
    "for i in range(6):\n",
    "    werte = np.array([tK, vol[i], dichte_W, g, h_mit_offset[i], rK[i], laengeK[i]])\n",
    "    unsicherheiten = np.array([tK_stu,vol_stu[i], dichte_W_stu, g_stu, h_stu[i], rK_stu, laengeK_stu])\n",
    "    deltavis_durch_vis[i] = einfachGaussMult(unsicherheiten, werte, exponentenK_visko)\n",
    "    \n",
    "\n",
    "deltavis = deltavis_durch_vis * visK_umgerechnet\n",
    "print(am(deltavis_durch_vis))\n",
    "print(am(deltavis))\n",
    "print(stu(visK_umgerechnet))\n",
    "print(stu(visK_umgerechnet)*am(visK_umgerechnet))\n",
    "\n",
    "\n",
    "\n",
    "\n",
    "stroem_v = volS/(1000*pc.pi*rK**2) \n",
    "d = rK*2\n",
    "reynoldz = am((dichte_W*d*stroem_v)/visK*1000)\n",
    "print('Reynoldszahlen: ', reynoldz)\n",
    "\n",
    "\n",
    "\n",
    "\n",
    "\n"
   ]
  },
  {
   "cell_type": "code",
   "execution_count": null,
   "metadata": {},
   "outputs": [],
   "source": []
  },
  {
   "cell_type": "code",
   "execution_count": null,
   "metadata": {},
   "outputs": [],
   "source": []
  },
  {
   "cell_type": "code",
   "execution_count": null,
   "metadata": {},
   "outputs": [],
   "source": []
  }
 ],
 "metadata": {
  "kernelspec": {
   "display_name": "Python 3",
   "language": "python",
   "name": "python3"
  },
  "language_info": {
   "codemirror_mode": {
    "name": "ipython",
    "version": 3
   },
   "file_extension": ".py",
   "mimetype": "text/x-python",
   "name": "python",
   "nbconvert_exporter": "python",
   "pygments_lexer": "ipython3",
   "version": "3.8.3"
  }
 },
 "nbformat": 4,
 "nbformat_minor": 4
}
