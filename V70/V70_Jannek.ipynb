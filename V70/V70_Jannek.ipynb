{
 "cells": [
  {
   "cell_type": "code",
   "execution_count": 1,
   "metadata": {},
   "outputs": [],
   "source": [
    "# imports\n",
    "import numpy as np\n",
    "import matplotlib.pyplot as plt\n",
    "import matplotlib.colors as c\n",
    "from matplotlib import rcParams\n",
    "import sympy as sy\n",
    "import scipy.constants as pc\n",
    "from sympy import *\n",
    "from math import log10, floor\n",
    "from numpy import sqrt \n",
    "\n",
    "rcParams['font.size'] = 18\n",
    "rcParams['font.weight'] = 'bold'\n",
    "rcParams['text.usetex'] = True\n",
    "rcParams['font.family'] = 'sans-serif'\n",
    "rcParams['font.sans-serif'] = ['Helvetica']"
   ]
  },
  {
   "cell_type": "code",
   "execution_count": 2,
   "metadata": {},
   "outputs": [],
   "source": [
    "# Funktionen\n",
    "def am(werte):\n",
    "    return np.mean(werte)\n",
    "\n",
    "def std(werte):\n",
    "    summen_der_quadrate = 0\n",
    "    for wert in werte:\n",
    "        summen_der_quadrate+=(wert-am(werte))**2       \n",
    "    return np.sqrt(summen_der_quadrate/(werte.size-1))\n",
    "\n",
    "def stu(werte):\n",
    "    return std(werte)/np.sqrt(werte.size)\n",
    "\n",
    "def fehler(f, werte, unsicherheiten, variablen):\n",
    "    zMax = 0\n",
    "    for i in range(werte.size):\n",
    "        dif = np.abs(sy.diff(f, variablen[i]))\n",
    "        zMax += (dif * unsicherheiten[i])**2\n",
    "    zMax = np.sqrt(zMax)\n",
    "    for j in range(werte.size):\n",
    "        zMax = sub(zMax, variablen[j], werte[j])\n",
    "    return zMax\n",
    "\n",
    "def fehlerMax(f, werte, unsicherheiten, variablen):\n",
    "    zMax = 0\n",
    "    for i in range(werte.size):\n",
    "        dif = np.abs(sy.diff(f, variablen[i]))\n",
    "        zMax += dif * unsicherheiten[i]\n",
    "    for j in range(werte.size):\n",
    "        zMax = sub(zMax, variablen[j], werte[j])\n",
    "    return zMax\n",
    "\n",
    "def groessterBeitrag(f, werte, unsicherheiten, variablen):\n",
    "    zMax = 0\n",
    "    zMaxArray = np.array([])\n",
    "    for i in range (werte.size):\n",
    "        zMax = (np.abs(sy.diff(f, variablen[i])) * unsicherheiten[i])\n",
    "        for j in range(werte.size):\n",
    "            zMax = sub(zMax, variablen[j], werte[j])\n",
    "        x = np.array([zMax])\n",
    "        zMaxArray = np.append(zMaxArray, x)\n",
    "    return variablen[np.argmax(zMaxArray)],zMaxArray[np.argmax(zMaxArray)]\n",
    "\n",
    "def sub(zMax, variable, wert):\n",
    "    return zMax.subs([(variable, wert)])\n",
    "\n",
    "def einfachGaussAdd(unsicherheiten, koeffizienten):\n",
    "    dz = 0\n",
    "    for i in range (unsicherheiten.size):\n",
    "        dz += (koeffizienten[i]*unsicherheiten[i])**2\n",
    "    return sqrt(dz)\n",
    "\n",
    "def einfachGaussMult(unsicherheiten, werte, exponenten):\n",
    "    dz = 0\n",
    "    for i in range (unsicherheiten.size):\n",
    "        dz += (exponenten[i]*unsicherheiten[i]/werte[i])**2\n",
    "    return sqrt(dz)\n",
    "\n",
    "def einfachGaussMultMax(unsicherheiten, werte, exponenten):\n",
    "    max_a = 0\n",
    "    num = -1\n",
    "    for i in range (unsicherheiten.size):\n",
    "        maxi = ((exponenten[i]*unsicherheiten[i])/werte[i])**2\n",
    "        print(maxi)\n",
    "        if max_a <= maxi:\n",
    "            max_a = maxi\n",
    "            num = i\n",
    "    return (max_a, num)\n",
    "\n",
    "def vertraeglichkeit(am_1, am_2, stu_1, stu_2):\n",
    "    return (np.abs(am_1-am_2)/(sqrt((stu_1**2)*(stu_2**2))))\n",
    "\n",
    "def bestA(x, y):\n",
    "    return (sum(x**2)*sum(y)-sum(x)*sum(x*y))/(x.size*sum(x**2)-sum(x)**2)\n",
    "\n",
    "def bestB(x, y):\n",
    "    return (x.size*sum(x*y)-sum(x)*sum(y))/(x.size*sum(x**2)-sum(x)**2)\n",
    "\n",
    "def streuung(x, y):\n",
    "    s = 0\n",
    "    for i in range(x.size):\n",
    "        s += (y[i]+(bestA(x, y)+bestB(x, y)*x[i]))**2\n",
    "    return np.sqrt(s/(x.size-2))\n",
    "\n",
    "def stuA(x, y):\n",
    "    s = streuung(x, y)\n",
    "    return s*np.sqrt(sum(x**2)/((x.size*sum(x**2)-sum(x)**2)))\n",
    "\n",
    "def stuB(x, y):\n",
    "    s = streuung(x, y)\n",
    "    return s*np.sqrt(x.size/((x.size*sum(x**2)-sum(x)**2)))\n",
    "\n"
   ]
  },
  {
   "cell_type": "code",
   "execution_count": 3,
   "metadata": {},
   "outputs": [
    {
     "data": {
      "text/plain": [
       "\"ieff = einfachGaussMult(np.array([0.09,0.001]), np.array([3.34,9.808]), np.array([2,1]))\\nx, d = symbols('x d')\\nvariablen = [x, d]\\ng = sy.asin((d/x))\\n#print(g)\\nwerte = np.array([0.88,0.0008])\\nunsicherheiten =np.array([0.05,0.0001])\\n\\n\\nwinkel_std = fehler(g, werte, unsicherheiten, variablen)\\n\\nprint(winkel_std)\\nprint(groessterBeitrag(g, werte, unsicherheiten, variablen))\\n\\n#print(einfachGaussMult(np.array([0.001,0.001,ieff,winkel_std]), np.array([0.3866,9.808,0.88,0.046]), np.array([1,1,1,1])))\\n#print(einfachGaussMultMax(np.array([0.001,0.001,ieff,winkel_std]), np.array([0.3866,9.808,0.88,0.046]), np.array([1,1,1,1])))\""
      ]
     },
     "execution_count": 3,
     "metadata": {},
     "output_type": "execute_result"
    }
   ],
   "source": [
    "\"\"\"ieff = einfachGaussMult(np.array([0.09,0.001]), np.array([3.34,9.808]), np.array([2,1]))\n",
    "x, d = symbols('x d')\n",
    "variablen = [x, d]\n",
    "g = sy.asin((d/x))\n",
    "#print(g)\n",
    "werte = np.array([0.88,0.0008])\n",
    "unsicherheiten =np.array([0.05,0.0001])\n",
    "\n",
    "\n",
    "winkel_std = fehler(g, werte, unsicherheiten, variablen)\n",
    "\n",
    "print(winkel_std)\n",
    "print(groessterBeitrag(g, werte, unsicherheiten, variablen))\n",
    "\n",
    "#print(einfachGaussMult(np.array([0.001,0.001,ieff,winkel_std]), np.array([0.3866,9.808,0.88,0.046]), np.array([1,1,1,1])))\n",
    "#print(einfachGaussMultMax(np.array([0.001,0.001,ieff,winkel_std]), np.array([0.3866,9.808,0.88,0.046]), np.array([1,1,1,1])))\"\"\""
   ]
  },
  {
   "cell_type": "code",
   "execution_count": 4,
   "metadata": {},
   "outputs": [
    {
     "name": "stdout",
     "output_type": "stream",
     "text": [
      "0.053892312014516434\n",
      "0.0029043708989207216\n",
      "1.039534927042944e-08\n",
      "(0.0029043708989207216, 0)\n"
     ]
    }
   ],
   "source": [
    "print(einfachGaussMult(np.array([0.09,0.001]), np.array([3.34,9.808]), np.array([2,1])))\n",
    "print(einfachGaussMultMax(np.array([0.09,0.001]), np.array([3.34,9.808]), np.array([2,1])))"
   ]
  },
  {
   "cell_type": "code",
   "execution_count": 5,
   "metadata": {},
   "outputs": [
    {
     "name": "stdout",
     "output_type": "stream",
     "text": [
      "[1. 1. 1. 1. 1. 1. 1. 1.]\n"
     ]
    }
   ],
   "source": [
    "#Messwerte\n",
    "g = np.array([400,410,420,430,440,450,460,470])#mm\n",
    "G = np.ones(8)*7 #mm\n",
    "\n",
    "e1 = np.array([732,704,685,674,667,665,664,658])#mm\n",
    "B1 = np.array([15.,12.,11.,10.,8.,8.,7.,6.])#mm\n",
    "\n",
    "e2 = np.array([662,661,661,663,669,673,679,681])#mm\n",
    "B2 = np.array([8,7,6,6,6,5,5,5])#mm\n",
    "\n",
    "e_std = np.ones(8)*3\n",
    "B_std = np.ones(8)\n",
    "g_std = np.ones(8)\n",
    "G_std = np.ones(8)*0.1\n",
    "print(g_std)"
   ]
  },
  {
   "cell_type": "code",
   "execution_count": 6,
   "metadata": {},
   "outputs": [
    {
     "name": "stdout",
     "output_type": "stream",
     "text": [
      "1.375 246.125 0.8571428571428571 233.625\n",
      "[2.14285714 1.71428571 1.57142857 1.42857143 1.14285714 1.14285714\n",
      " 1.         0.85714286]\n",
      "[1.14285714 1.         0.85714286 0.85714286 0.85714286 0.71428571\n",
      " 0.71428571 0.71428571]\n",
      "[332 294 265 244 227 215 204 188]\n",
      "[262 251 241 233 229 223 219 211]\n",
      "[3.16227766 3.16227766 3.16227766 3.16227766 3.16227766 3.16227766\n",
      " 3.16227766 3.16227766]\n",
      "[0.0681801  0.08454896 0.09202469 0.10101525 0.12581368 0.12581368\n",
      " 0.14356965 0.16727779]\n",
      "[0.12581368 0.14356965 0.16727779 0.16727779 0.16727779 0.20050955\n",
      " 0.20050955 0.20050955]\n"
     ]
    }
   ],
   "source": [
    "beta1 = B1/G\n",
    "beta2 = B2/G\n",
    "\n",
    "b_strich_1 = (e1 - 204)-(g - 204)\n",
    "b_strich_2 = (e2 - 204)-(g - 204)\n",
    "\n",
    "beta1_d = np.sum(beta1)/8\n",
    "beta2_d = np.sum(beta2)/8\n",
    "b_strich_1_d = np.sum(b_strich_1)/8\n",
    "b_strich_2_d = np.sum(b_strich_2)/8\n",
    "\n",
    "print(beta1_d,b_strich_1_d,beta2_d,b_strich_2_d)\n",
    "\n",
    "#beta Unsicherheiten\n",
    "beta_std_1 = np.array([])\n",
    "for i in range (len(g)):\n",
    "    beta_std_1 = np.append(beta_std_1,einfachGaussMult(np.array([B_std[i],G_std[i]]),np.array([B1[i],G[i]]),np.array([1,-1])))\n",
    "beta_std_2 = np.array([])\n",
    "for i in range (len(g)):\n",
    "    beta_std_2 = np.append(beta_std_2,einfachGaussMult(np.array([B_std[i],G_std[i]]),np.array([B2[i],G[i]]),np.array([1,-1])))\n",
    "    \n",
    "#b' Unsicherheiten\n",
    "b_strich_std = np.array([])\n",
    "for i in range (len(g)):\n",
    "    b_strich_std = np.append(b_strich_std,einfachGaussAdd(np.array([e_std[i],g_std[i]]),np.array([1,1])))\n",
    "\n",
    "beta_std_1 = np.array(beta_std_1, dtype=float)\n",
    "beta_std_2 = np.array(beta_std_2, dtype=float)\n",
    "b_strich_std = np.array(b_strich_std, dtype=float)\n",
    "    \n",
    "\n",
    "    \n",
    "print(beta1)\n",
    "print(beta2)\n",
    "print(b_strich_1)\n",
    "print(b_strich_2)\n",
    "print(b_strich_std)\n",
    "print(beta_std_1)\n",
    "print(beta_std_2)"
   ]
  },
  {
   "cell_type": "code",
   "execution_count": 43,
   "metadata": {},
   "outputs": [
    {
     "name": "stdout",
     "output_type": "stream",
     "text": [
      "0.00880955347132\n",
      "0.009367681498829036\n",
      "\n",
      "90.04450736982633\n",
      "142.12510408534993\n"
     ]
    },
    {
     "data": {
      "image/png": "[encoded data removed]",
      "text/plain": [
       "<Figure size 720x720 with 1 Axes>"
      ]
     },
     "metadata": {
      "needs_background": "light"
     },
     "output_type": "display_data"
    }
   ],
   "source": [
    "fig, ax = plt.subplots(figsize=(10,10))\n",
    "\n",
    "x = np.arange(0, 2.25, 0.01)\n",
    "\n",
    "m1, c1 = np.polyfit(beta1, b_strich_1, 1)\n",
    "ax.plot(x,x*m1+c1,color='y',label=\"Regressionsgerade\")\n",
    "m2, c2 = np.polyfit(beta2, b_strich_2, 1)\n",
    "ax.plot(x,x*m2+c2,color='g',label=\"Regressionsgerade\")\n",
    "\n",
    "#ax.plot(x, y, color='b', label='label')\n",
    "#ax.scatter(beta1, b_strich_1, color='r', label='label')\n",
    "ax.errorbar(beta1, b_strich_1, xerr=beta_std_1, yerr=b_strich_std, fmt='D', color='#1C1018', label='Datenpunkte Strahlengang NP')\n",
    "\n",
    "#ax.scatter(beta2, b_strich_2, color='b', label='label')\n",
    "ax.errorbar(beta2, b_strich_2, xerr=beta_std_2, yerr=b_strich_std, fmt='D', color='#094D92', label='Datenpunkte Strahlengang RP')\n",
    "#ax.errorbar(am_x, am_y, xerr=std_x, yerr=std_y, fmt='D', color='#d0740b', label='label')\n",
    "\n",
    "ax.set(xlabel=r'$\\beta$',ylabel=r'$b`$', title=r'$b`(\\beta)$')\n",
    "ax.legend()\n",
    "ax.grid()\n",
    "ax.tick_params(axis='both', which='major', labelsize=18)\n",
    "ax.tick_params(axis='both', which='minor', labelsize=16)\n",
    "\n",
    "fig.savefig(\"f.png\")\n",
    "\n",
    "print(1/m1)\n",
    "print(1/m2)\n",
    "\n",
    "print()\n",
    "\n",
    "print((140*m1)**(-1)+c1)\n",
    "print((90*m2)**(-1)+c2)"
   ]
  },
  {
   "cell_type": "code",
   "execution_count": null,
   "metadata": {},
   "outputs": [],
   "source": []
  },
  {
   "cell_type": "code",
   "execution_count": null,
   "metadata": {},
   "outputs": [],
   "source": []
  },
  {
   "cell_type": "code",
   "execution_count": null,
   "metadata": {},
   "outputs": [],
   "source": []
  },
  {
   "cell_type": "code",
   "execution_count": null,
   "metadata": {},
   "outputs": [],
   "source": []
  }
 ],
 "metadata": {
  "kernelspec": {
   "display_name": "Python 3",
   "language": "python",
   "name": "python3"
  },
  "language_info": {
   "codemirror_mode": {
    "name": "ipython",
    "version": 3
   },
   "file_extension": ".py",
   "mimetype": "text/x-python",
   "name": "python",
   "nbconvert_exporter": "python",
   "pygments_lexer": "ipython3",
   "version": "3.8.3"
  }
 },
 "nbformat": 4,
 "nbformat_minor": 4
}
