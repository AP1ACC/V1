{
 "cells": [
  {
   "cell_type": "code",
   "execution_count": 2,
   "metadata": {},
   "outputs": [],
   "source": [
    "# imports\n",
    "import numpy as np\n",
    "import matplotlib.pyplot as plt\n",
    "import matplotlib.colors as c\n",
    "from matplotlib import rcParams\n",
    "import sympy as sy\n",
    "import scipy.constants as pc\n",
    "from sympy import *\n",
    "from math import log10, floor"
   ]
  },
  {
   "cell_type": "code",
   "execution_count": 3,
   "metadata": {},
   "outputs": [],
   "source": [
    "# Funktionen\n",
    "def am(werte):\n",
    "    return np.mean(werte)\n",
    "\n",
    "def std(werte):\n",
    "    summen_der_quadrate = 0\n",
    "    for wert in werte:\n",
    "        summen_der_quadrate+=(wert-am(werte))**2       \n",
    "    return np.sqrt(summen_der_quadrate/(werte.size-1))\n",
    "\n",
    "def stu(werte):\n",
    "    return std(werte)/np.sqrt(werte.size)\n",
    "\n",
    "def fehler(f, werte, unsicherheiten, variablen):\n",
    "    zMax = 0\n",
    "    for i in range(werte.size):\n",
    "        dif = np.abs(sy.diff(f, variablen[i]))\n",
    "        zMax += (dif * unsicherheiten[i])**2\n",
    "    zMax = sqrt(zMax)\n",
    "    for j in range(werte.size):\n",
    "        zMax = sub(zMax, variablen[j], werte[j])\n",
    "    return zMax\n",
    "\n",
    "def fehlerMax(f, werte, unsicherheiten, variablen):\n",
    "    zMax = 0\n",
    "    for i in range(werte.size):\n",
    "        dif = np.abs(sy.diff(f, variablen[i]))\n",
    "        zMax += dif * unsicherheiten[i]\n",
    "    for j in range(werte.size):\n",
    "        zMax = sub(zMax, variablen[j], werte[j])\n",
    "    return zMax\n",
    "\n",
    "def groessterBeitrag(f, werte, unsicherheiten, variablen):\n",
    "    zMax = 0\n",
    "    zMaxArray = np.array([])\n",
    "    for i in range (werte.size):\n",
    "        zMax = (np.abs(sy.diff(f, variablen[i])) * unsicherheiten[i])\n",
    "        for j in range(werte.size):\n",
    "            zMax = sub(zMax, variablen[j], werte[j])\n",
    "        x = np.array([zMax])\n",
    "        zMaxArray = np.append(zMaxArray, x)\n",
    "    return variablen[np.argmax(zMaxArray)], zMaxArray[np.argmax(zMaxArray)]\n",
    "\n",
    "def sub(zMax, variable, wert):\n",
    "    return zMax.subs([(variable, wert)])\n",
    "\n",
    "def einfachGaussAdd(unsicherheiten, koeffizienten):\n",
    "    dz = 0\n",
    "    for i in range (unsicherheiten.size):\n",
    "        dz += (unsicherheiten[i]*unsicherheiten[i])**2\n",
    "    return sqrt(dz)\n",
    "\n",
    "def einfachGaussMult(unsicherheiten, werte, exponenten):\n",
    "    dz = 0\n",
    "    for i in range (unsicherheiten.size):\n",
    "        dz += (exponenten[i]*unsicherheiten[i]/werte[i])**2\n",
    "    return sqrt(dz)\n",
    "\n",
    "def einfachGaussMultMax(unsicherheiten, werte, exponenten):\n",
    "    max_a = 0\n",
    "    num = -1\n",
    "    for i in range (unsicherheiten.size):\n",
    "        maxi = (exponenten[i]*unsicherheiten[i]/werte[i])**2\n",
    "        if max_a <= maxi:\n",
    "            max_a = maxi\n",
    "            num = i\n",
    "    return (max_a, num)\n",
    "\n",
    "def vertraeglichkeit(am_1, am_2, stu_1, stu_2):\n",
    "    return (np.abs(am_1-am_2)/(sqrt((stu_1**2)*(stu_2**2))))\n",
    "\n",
    "def bestA(x, y):\n",
    "    return (sum(x**2)*sum(y)-sum(x)*sum(x*y))/(x.size*sum(x**2)-sum(x)**2)\n",
    "\n",
    "def bestB(x, y):\n",
    "    return (x.size*sum(x*y)-sum(x)*sum(y))/(x.size*sum(x**2)-sum(x)**2)\n",
    "\n",
    "def streuung(x, y):\n",
    "    s = 0\n",
    "    for i in range(x.size):\n",
    "        s += (y[i]-(bestA(x, y)+bestB(x, y)*x[i]))**2\n",
    "    return np.sqrt(s/(x.size-2))\n",
    "\n",
    "def stuA(x, y):\n",
    "    s = streuung(x, y)\n",
    "    return s*np.sqrt(sum(x**2)/((x.size*sum(x**2)-sum(x)**2)))\n",
    "\n",
    "def stuB(x, y):\n",
    "    s = streuung(x, y)\n",
    "    return s*np.sqrt(x.size/((x.size*sum(x**2)-sum(x)**2)))\n",
    "\n",
    "def round_to_j(x,j):\n",
    "    return round(x, (j-1)-int(floor(log10(abs(x)))))\n"
   ]
  },
  {
   "cell_type": "code",
   "execution_count": 4,
   "metadata": {},
   "outputs": [],
   "source": [
    "beta_rech = np.linspace(0.2, 5, 100)\n",
    "gf_rech = 1+beta_rech**(-1)\n",
    "bf_rech = beta_rech +1\n",
    "ef_rech = 2+ beta_rech+ beta_rech**(-1)\n",
    "#fig, ax = plt.subplots(figsize=(10,6))\n",
    "#ax.tick_params(axis='both', which='major', labelsize=18)\n",
    "#ax.tick_params(axis='both', which='minor', labelsize=16)\n",
    "#ax.set_xscale('log')\n",
    "\n",
    "#ax.plot(beta_rech, bf_rech, color='r', label=r'$\\frac{b}{f}$')\n",
    "#ax.plot(beta_rech, gf_rech, color='g', label=r'$\\frac{g}{f}$ ')\n",
    "#ax.plot(beta_rech, ef_rech, color='b', label=r'$\\frac{e}{f}$ ')\n",
    "\n",
    "#ax.set(xlabel=r'$\\beta$', ylabel=r'Jeweilige Abhängigkeit', title=r'$\\frac{b}{f}(\\beta), \\frac{g}{f}(\\beta), \\frac{e}{f}(\\beta)$')\n",
    "#ax.legend()\n",
    "#ax.grid()\n",
    "\n",
    "#fig.savefig(\"AbhBeta.svg\")"
   ]
  },
  {
   "cell_type": "code",
   "execution_count": 5,
   "metadata": {},
   "outputs": [
    {
     "name": "stdout",
     "output_type": "stream",
     "text": [
      "[]\n"
     ]
    }
   ],
   "source": [
    "e_gem_1 = np.array([]) \n",
    "us_e_gem_1 = 0.5\n",
    "g_gem_1 = np.array([])\n",
    "b_gem_1 = e_gem_1-g_gem_1\n",
    "us_g_gem_1 = 2\n",
    "f_gem_1 = g_gem_1*b_gem_1/(g_gem_1+b_gem_1)\n",
    "\n",
    "f_nom_1 = 80\n",
    "\n",
    "bf_nom_1 = (1-(f_nom_1/g_gem_1))**(-1)\n",
    "gf_nom_1 = (1-(f_nom_1/b_gem_1))**(-1)\n",
    "ef_nom_1 = (((1/f_nom_1)-(1/g_gem_1))**(-1)+((1/f_nom_1)-(1/b_gem_1))**(-1))/(f_nom_1)\n",
    "\n",
    "beta_gem_1 = b_gem_1/g_gem_1\n",
    "\n",
    "#fig, ax = plt.subplots(figsize=(10,6))\n",
    "#ax.tick_params(axis='both', which='major', labelsize=18)\n",
    "#ax.tick_params(axis='both', which='minor', labelsize=16)\n",
    "#ax.set_xscale('log')\n",
    "\n",
    "#ax.plot(x, y, color='b', label='label')\n",
    "#ax.plot(beta_gem_1, bf_nom_1, color='r', label=r'$\\frac{b}{f}$ nominell')\n",
    "#ax.plot(beta_gem_1, gf_nom_1, color='g', label=r'$\\frac{g}{f}$ nominell')\n",
    "#ax.plot(beta_gem_1, ef_nom_1, color='b', label=r'$\\frac{e}{f}$ nominell')\n",
    "#ax.errorbar(am_x, am_y, xerr=std_x, yerr=std_y, fmt='D', color='#d0740b', label='label')\n",
    "\n",
    "#ax.set(xlabel=r'$\\beta$', ylabel=r'Jeweilige Abhängigkeit', title=r'$\\frac{b}{f}(\\beta), \\frac{g}{f}(\\beta), \\frac{e}{f}(\\beta)$')\n",
    "#ax.legend()\n",
    "#ax.grid()\n",
    "g, b, f = symbols('g b f')\n",
    "func = ((1/b)+(1/g))**(-1)\n",
    "print(f_gem_1)\n",
    "for i in range(len(b_gem_1)):\n",
    "    print(fehler(func, np.array([g_gem_1[i], b_gem_1[i]]), np.array([5, 5]), np.array([g, b])))\n",
    "#fig.savefig(\"AbhängigkeitBeta.png\")"
   ]
  },
  {
   "cell_type": "code",
   "execution_count": 6,
   "metadata": {},
   "outputs": [],
   "source": [
    "# Erinnerungen\n",
    "# x = np.array([,])\n",
    "# x.size\n",
    "# x, y = symbols('x y')\n",
    "# expr = x*y\n",
    "# expr.subs([(x, wert_x), (y, wert_y)])"
   ]
  },
  {
   "cell_type": "code",
   "execution_count": 7,
   "metadata": {},
   "outputs": [
    {
     "ename": "NameError",
     "evalue": "name 'd' is not defined",
     "output_type": "error",
     "traceback": [
      "\u001b[1;31m---------------------------------------------------------------------------\u001b[0m",
      "\u001b[1;31mNameError\u001b[0m                                 Traceback (most recent call last)",
      "\u001b[1;32m<ipython-input-7-4f1b31fe761e>\u001b[0m in \u001b[0;36m<module>\u001b[1;34m\u001b[0m\n\u001b[0;32m      8\u001b[0m \u001b[1;33m\u001b[0m\u001b[0m\n\u001b[0;32m      9\u001b[0m \u001b[0mf_1\u001b[0m\u001b[1;33m,\u001b[0m \u001b[0mf_2\u001b[0m \u001b[1;33m=\u001b[0m \u001b[1;36m80\u001b[0m\u001b[1;33m,\u001b[0m \u001b[1;36m150\u001b[0m\u001b[1;33m\u001b[0m\u001b[1;33m\u001b[0m\u001b[0m\n\u001b[1;32m---> 10\u001b[1;33m \u001b[0mf_nom_2\u001b[0m \u001b[1;33m=\u001b[0m \u001b[1;33m(\u001b[0m\u001b[1;36m1\u001b[0m\u001b[1;33m/\u001b[0m\u001b[1;33m(\u001b[0m\u001b[0mf_1\u001b[0m\u001b[1;33m)\u001b[0m\u001b[1;33m)\u001b[0m\u001b[1;33m+\u001b[0m\u001b[1;33m(\u001b[0m\u001b[1;36m1\u001b[0m\u001b[1;33m/\u001b[0m\u001b[1;33m(\u001b[0m\u001b[0mf_2\u001b[0m\u001b[1;33m)\u001b[0m\u001b[1;33m)\u001b[0m\u001b[1;33m-\u001b[0m\u001b[0md\u001b[0m\u001b[1;33m/\u001b[0m\u001b[1;33m(\u001b[0m\u001b[0mf_1\u001b[0m\u001b[1;33m+\u001b[0m\u001b[0mf_2\u001b[0m\u001b[1;33m)\u001b[0m\u001b[1;33m\u001b[0m\u001b[1;33m\u001b[0m\u001b[0m\n\u001b[0m\u001b[0;32m     11\u001b[0m \u001b[1;33m\u001b[0m\u001b[0m\n\u001b[0;32m     12\u001b[0m \u001b[0mbf_nom_2\u001b[0m \u001b[1;33m=\u001b[0m \u001b[1;33m(\u001b[0m\u001b[1;36m1\u001b[0m\u001b[1;33m-\u001b[0m\u001b[1;33m(\u001b[0m\u001b[0mf_nom_2\u001b[0m\u001b[1;33m/\u001b[0m\u001b[0mg_gem_2\u001b[0m\u001b[1;33m)\u001b[0m\u001b[1;33m)\u001b[0m\u001b[1;33m**\u001b[0m\u001b[1;33m(\u001b[0m\u001b[1;33m-\u001b[0m\u001b[1;36m1\u001b[0m\u001b[1;33m)\u001b[0m\u001b[1;33m\u001b[0m\u001b[1;33m\u001b[0m\u001b[0m\n",
      "\u001b[1;31mNameError\u001b[0m: name 'd' is not defined"
     ]
    }
   ],
   "source": [
    "e_gem_2 = np.array([650, 650, 630, 630, 610, 610, 590, 590, 570, 570])  \n",
    "us_e_gem_2 = 0.5\n",
    "g_gem_2 = np.array([310, 546, 312, 524, 317, 500, 320.5, 479 ,328 , 448])\n",
    "B_gem_2 = np.array([])\n",
    "b_gem_2 = e_gem_2-g_gem_2\n",
    "us_g_gem = 2\n",
    "f_gem_2 = g_gem_2*b_gem_2/(g_gem_2+b_gem_2)\n",
    "\n",
    "\n",
    "f_1, f_2 = 80, 150\n",
    "f_nom_2 = (1/(f_1))+(1/(f_2))-d/(f_1+f_2)\n",
    "\n",
    "bf_nom_2 = (1-(f_nom_2/g_gem_2))**(-1)\n",
    "gf_nom_2 = (1-(f_nom_2/b_gem_2))**(-1)\n",
    "ef_nom_2 = (((1/f_nom_2)-(1/g_gem_2))**(-1)+((1/f_nom_2)-(1/b_gem_2))**(-1))/(f_nom_2)"
   ]
  },
  {
   "cell_type": "code",
   "execution_count": 20,
   "metadata": {},
   "outputs": [
    {
     "name": "stdout",
     "output_type": "stream",
     "text": [
      "52.17391304347826\n"
     ]
    }
   ],
   "source": [
    "d = 20\n",
    "f_1, f_2 = 80, 150\n",
    "f_nom_2 = ((1/(f_1))+(1/(f_2)))**(-1)#-d/(f_1+f_2))**(-1)\n",
    "\n",
    "print(f_nom_2)"
   ]
  },
  {
   "cell_type": "code",
   "execution_count": null,
   "metadata": {},
   "outputs": [],
   "source": []
  }
 ],
 "metadata": {
  "kernelspec": {
   "display_name": "Python 3",
   "language": "python",
   "name": "python3"
  },
  "language_info": {
   "codemirror_mode": {
    "name": "ipython",
    "version": 3
   },
   "file_extension": ".py",
   "mimetype": "text/x-python",
   "name": "python",
   "nbconvert_exporter": "python",
   "pygments_lexer": "ipython3",
   "version": "3.8.5"
  }
 },
 "nbformat": 4,
 "nbformat_minor": 4
}
