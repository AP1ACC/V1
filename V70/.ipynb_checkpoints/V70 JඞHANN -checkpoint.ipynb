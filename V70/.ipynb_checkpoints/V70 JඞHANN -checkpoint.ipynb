{
 "cells": [
  {
   "cell_type": "code",
   "execution_count": 11,
   "metadata": {},
   "outputs": [],
   "source": [
    "# imports\n",
    "import numpy as np\n",
    "import matplotlib.pyplot as plt\n",
    "import matplotlib.colors as c\n",
    "from matplotlib import rcParams\n",
    "import sympy as sy\n",
    "import scipy.constants as pc\n",
    "from sympy import *\n",
    "from math import log10, floor\n",
    "\n",
    "rcParams['font.size'] = 16\n",
    "rcParams['font.weight'] = 'bold'\n",
    "rcParams['text.usetex'] = True\n",
    "rcParams['font.family'] = 'sans-serif'\n",
    "rcParams['font.sans-serif'] = ['Helvetica']"
   ]
  },
  {
   "cell_type": "code",
   "execution_count": 10,
   "metadata": {},
   "outputs": [],
   "source": [
    "# Funktionen\n",
    "def am(werte):\n",
    "    return np.mean(werte)\n",
    "\n",
    "def std(werte):\n",
    "    summen_der_quadrate = 0\n",
    "    for wert in werte:\n",
    "        summen_der_quadrate+=(wert-am(werte))**2       \n",
    "    return np.sqrt(summen_der_quadrate/(werte.size-1))\n",
    "\n",
    "def stu(werte):\n",
    "    return std(werte)/np.sqrt(werte.size)\n",
    "\n",
    "def fehler(f, werte, unsicherheiten, variablen):\n",
    "    zMax = 0\n",
    "    for i in range(werte.size):\n",
    "        dif = np.abs(sy.diff(f, variablen[i]))\n",
    "        zMax += (dif * unsicherheiten[i])**2\n",
    "    zMax = sqrt(zMax)\n",
    "    for j in range(werte.size):\n",
    "        zMax = sub(zMax, variablen[j], werte[j])\n",
    "    return zMax\n",
    "\n",
    "def fehlerMax(f, werte, unsicherheiten, variablen):\n",
    "    zMax = 0\n",
    "    for i in range(werte.size):\n",
    "        dif = np.abs(sy.diff(f, variablen[i]))\n",
    "        zMax += dif * unsicherheiten[i]\n",
    "    for j in range(werte.size):\n",
    "        zMax = sub(zMax, variablen[j], werte[j])\n",
    "    return zMax\n",
    "\n",
    "def groessterBeitrag(f, werte, unsicherheiten, variablen):\n",
    "    zMax = 0\n",
    "    zMaxArray = np.array([])\n",
    "    for i in range (werte.size):\n",
    "        zMax = (np.abs(sy.diff(f, variablen[i])) * unsicherheiten[i])\n",
    "        for j in range(werte.size):\n",
    "            zMax = sub(zMax, variablen[j], werte[j])\n",
    "        x = np.array([zMax])\n",
    "        zMaxArray = np.append(zMaxArray, x)\n",
    "    return variablen[np.argmax(zMaxArray)], zMaxArray[np.argmax(zMaxArray)]\n",
    "\n",
    "def sub(zMax, variable, wert):\n",
    "    return zMax.subs([(variable, wert)])\n",
    "\n",
    "def einfachGaussAdd(unsicherheiten, koeffizienten):\n",
    "    dz = 0\n",
    "    for i in range (unsicherheiten.size):\n",
    "        dz += (unsicherheiten[i]*unsicherheiten[i])**2\n",
    "    return sqrt(dz)\n",
    "\n",
    "def einfachGaussMult(unsicherheiten, werte, exponenten):\n",
    "    dz = 0\n",
    "    for i in range (unsicherheiten.size):\n",
    "        dz += (exponenten[i]*unsicherheiten[i]/werte[i])**2\n",
    "    return sqrt(dz)\n",
    "\n",
    "def einfachGaussMultMax(unsicherheiten, werte, exponenten):\n",
    "    max_a = 0\n",
    "    num = -1\n",
    "    for i in range (unsicherheiten.size):\n",
    "        maxi = (exponenten[i]*unsicherheiten[i]/werte[i])**2\n",
    "        if max_a <= maxi:\n",
    "            max_a = maxi\n",
    "            num = i\n",
    "    return (max_a, num)\n",
    "\n",
    "def vertraeglichkeit(am_1, am_2, stu_1, stu_2):\n",
    "    return (np.abs(am_1-am_2)/(sqrt((stu_1**2)*(stu_2**2))))\n",
    "\n",
    "def bestA(x, y):\n",
    "    return (sum(x**2)*sum(y)-sum(x)*sum(x*y))/(x.size*sum(x**2)-sum(x)**2)\n",
    "\n",
    "def bestB(x, y):\n",
    "    return (x.size*sum(x*y)-sum(x)*sum(y))/(x.size*sum(x**2)-sum(x)**2)\n",
    "\n",
    "def streuung(x, y):\n",
    "    s = 0\n",
    "    for i in range(x.size):\n",
    "        s += (y[i]-(bestA(x, y)+bestB(x, y)*x[i]))**2\n",
    "    return np.sqrt(s/(x.size-2))\n",
    "\n",
    "def stuA(x, y):\n",
    "    s = streuung(x, y)\n",
    "    return s*np.sqrt(sum(x**2)/((x.size*sum(x**2)-sum(x)**2)))\n",
    "\n",
    "def stuB(x, y):\n",
    "    s = streuung(x, y)\n",
    "    return s*np.sqrt(x.size/((x.size*sum(x**2)-sum(x)**2)))\n",
    "\n",
    "def round_to_j(x,j):\n",
    "    return round(x, (j-1)-int(floor(log10(abs(x)))))\n",
    "\n",
    "def print_to_table(avgs, stds, rows, cols,\n",
    "                   highlight_best=True,\n",
    "                   max_is_best=True,\n",
    "                   avg_format='{0:!>4.1f}',\n",
    "                   std_format='{1:!<4.1f}',\n",
    "                   file=None,\n",
    "                   col_orientation='c'):\n",
    "    # Find best values\n",
    "    best_avg = {}\n",
    "    if highlight_best:\n",
    "        if max_is_best:\n",
    "            for c in cols:\n",
    "                idx = np.argmax(avgs[c], axis=0)\n",
    "                best_avg[c] = idx\n",
    "        else:\n",
    "            for c in cols:\n",
    "                idx = np.argmin(avgs[c], axis=0)\n",
    "                best_avg[c] = idx\n",
    "\n",
    "    # Header\n",
    "    print_str = '\\\\begin{tabular}{l' + (\" \"+col_orientation) * len(cols) + '} \\hline\\n'\n",
    "    for c in cols:\n",
    "        print_str += ' & ' + c\n",
    "    print_str += ' \\\\\\\\ \\n \\hline'\n",
    "\n",
    "    # Content\n",
    "    for m in range(len(rows)):\n",
    "        row_name = rows[m]\n",
    "        print_str += '\\n{0}'.format(row_name)\n",
    "        for c in cols:\n",
    "            print_str += ' &\\n '\n",
    "            print_list = [avgs[c][m]]\n",
    "            print_list += [stds[c][m]]\n",
    "            if m == best_avg.get(c, None):\n",
    "                print_str += ('$\\mathbf{{'+ avg_format + ' \\\\pm ' + std_format + '}}$').format(*print_list)\n",
    "            else:\n",
    "                print_str += ('$'+ avg_format + ' \\\\pm ' + std_format + '$').format(*print_list)\n",
    "\n",
    "        print_str += \"\\n \\\\vspace*{0.0mm} \\\\\\\\\"\n",
    "        print_str = print_str.replace('!', '\\\\phantom{0}')\n",
    "\n",
    "    # Footer\n",
    "    print_str += '\\n \\hline \\n \\end{tabular}'\n",
    "\n",
    "    # Write output\n",
    "    if file is None:\n",
    "        print(print_str)\n",
    "    else:\n",
    "        with open(file, 'w') as f:\n",
    "            f.write(print_str)"
   ]
  },
  {
   "cell_type": "code",
   "execution_count": 12,
   "metadata": {},
   "outputs": [
    {
     "name": "stderr",
     "output_type": "stream",
     "text": [
      "findfont: Font family ['sans-serif'] not found. Falling back to DejaVu Sans.\n"
     ]
    },
    {
     "data": {
      "image/png": "[encoded data removed]",
      "text/plain": [
       "<Figure size 720x432 with 1 Axes>"
      ]
     },
     "metadata": {
      "needs_background": "light"
     },
     "output_type": "display_data"
    }
   ],
   "source": [
    "beta_rech = np.linspace(0.2, 5, 100)\n",
    "gf_rech = 1+beta_rech**(-1)\n",
    "bf_rech = beta_rech +1\n",
    "ef_rech = 2+ beta_rech+ beta_rech**(-1)\n",
    "fig, ax = plt.subplots(figsize=(10,6))\n",
    "ax.tick_params(axis='both', which='major', labelsize=18)\n",
    "ax.tick_params(axis='both', which='minor', labelsize=16)\n",
    "#ax.set_xscale('log')\n",
    "\n",
    "ax.plot(beta_rech, bf_rech, color='r', label=r'$\\frac{b}{f}$')\n",
    "ax.plot(beta_rech, gf_rech, color='g', label=r'$\\frac{g}{f}$ ')\n",
    "ax.plot(beta_rech, ef_rech, color='b', label=r'$\\frac{e}{f}$ ')\n",
    "\n",
    "ax.set(xlabel=r'$\\beta$', ylabel=r'Jeweilige Abhängigkeit', title=r'$\\frac{b}{f}(\\beta), \\frac{g}{f}(\\beta), \\frac{e}{f}(\\beta)$')\n",
    "ax.legend()\n",
    "ax.grid()\n",
    "\n",
    "fig.savefig(\"AbhBeta.svg\")"
   ]
  },
  {
   "cell_type": "code",
   "execution_count": 11,
   "metadata": {},
   "outputs": [
    {
     "name": "stdout",
     "output_type": "stream",
     "text": [
      "[]\n"
     ]
    }
   ],
   "source": [
    "e_gem_1 = np.array([]) \n",
    "us_e_gem_1 = 0.5\n",
    "g_gem_1 = np.array([])\n",
    "b_gem_1 = e_gem_1-g_gem_1\n",
    "us_g_gem_1 = 2\n",
    "f_gem_1 = g_gem_1*b_gem_1/(g_gem_1+b_gem_1)\n",
    "\n",
    "f_nom_1 = 80\n",
    "\n",
    "bf_nom_1 = (1-(f_nom_1/g_gem_1))**(-1)\n",
    "gf_nom_1 = (1-(f_nom_1/b_gem_1))**(-1)\n",
    "ef_nom_1 = (((1/f_nom_1)-(1/g_gem_1))**(-1)+((1/f_nom_1)-(1/b_gem_1))**(-1))/(f_nom_1)\n",
    "\n",
    "beta_gem_1 = b_gem_1/g_gem_1\n",
    "\n",
    "#fig, ax = plt.subplots(figsize=(10,6))\n",
    "#ax.tick_params(axis='both', which='major', labelsize=18)\n",
    "#ax.tick_params(axis='both', which='minor', labelsize=16)\n",
    "#ax.set_xscale('log')\n",
    "\n",
    "#ax.plot(x, y, color='b', label='label')\n",
    "#ax.plot(beta_gem_1, bf_nom_1, color='r', label=r'$\\frac{b}{f}$ nominell')\n",
    "#ax.plot(beta_gem_1, gf_nom_1, color='g', label=r'$\\frac{g}{f}$ nominell')\n",
    "#ax.plot(beta_gem_1, ef_nom_1, color='b', label=r'$\\frac{e}{f}$ nominell')\n",
    "#ax.errorbar(am_x, am_y, xerr=std_x, yerr=std_y, fmt='D', color='#d0740b', label='label')\n",
    "\n",
    "#ax.set(xlabel=r'$\\beta$', ylabel=r'Jeweilige Abhängigkeit', title=r'$\\frac{b}{f}(\\beta), \\frac{g}{f}(\\beta), \\frac{e}{f}(\\beta)$')\n",
    "#ax.legend()\n",
    "#ax.grid()\n",
    "g, b, f = symbols('g b f')\n",
    "func = ((1/b)+(1/g))**(-1)\n",
    "print(f_gem_1)\n",
    "for i in range(len(b_gem_1)):\n",
    "    print(fehler(func, np.array([g_gem_1[i], b_gem_1[i]]), np.array([5, 5]), np.array([g, b])))\n",
    "#fig.savefig(\"AbhängigkeitBeta.png\")"
   ]
  },
  {
   "cell_type": "code",
   "execution_count": 4,
   "metadata": {},
   "outputs": [],
   "source": [
    "# Erinnerungen\n",
    "# x = np.array([,])\n",
    "# x.size\n",
    "# x, y = symbols('x y')\n",
    "# expr = x*y\n",
    "# expr.subs([(x, wert_x), (y, wert_y)])"
   ]
  },
  {
   "cell_type": "code",
   "execution_count": 13,
   "metadata": {},
   "outputs": [
    {
     "ename": "NameError",
     "evalue": "name 'd' is not defined",
     "output_type": "error",
     "traceback": [
      "\u001b[1;31m---------------------------------------------------------------------------\u001b[0m",
      "\u001b[1;31mNameError\u001b[0m                                 Traceback (most recent call last)",
      "\u001b[1;32m<ipython-input-13-3bcf96495e6e>\u001b[0m in \u001b[0;36m<module>\u001b[1;34m\u001b[0m\n\u001b[0;32m      7\u001b[0m \u001b[1;33m\u001b[0m\u001b[0m\n\u001b[0;32m      8\u001b[0m \u001b[0mf_1\u001b[0m\u001b[1;33m,\u001b[0m \u001b[0mf_2\u001b[0m \u001b[1;33m=\u001b[0m \u001b[1;36m80\u001b[0m\u001b[1;33m,\u001b[0m \u001b[1;36m150\u001b[0m\u001b[1;33m\u001b[0m\u001b[1;33m\u001b[0m\u001b[0m\n\u001b[1;32m----> 9\u001b[1;33m \u001b[0mf_nom_2\u001b[0m \u001b[1;33m=\u001b[0m \u001b[1;33m(\u001b[0m\u001b[1;36m1\u001b[0m\u001b[1;33m/\u001b[0m\u001b[1;33m(\u001b[0m\u001b[0mf_1\u001b[0m\u001b[1;33m)\u001b[0m\u001b[1;33m)\u001b[0m\u001b[1;33m+\u001b[0m\u001b[1;33m(\u001b[0m\u001b[1;36m1\u001b[0m\u001b[1;33m/\u001b[0m\u001b[1;33m(\u001b[0m\u001b[0mf_2\u001b[0m\u001b[1;33m)\u001b[0m\u001b[1;33m)\u001b[0m\u001b[1;33m-\u001b[0m\u001b[0md\u001b[0m\u001b[1;33m/\u001b[0m\u001b[1;33m(\u001b[0m\u001b[0mf_1\u001b[0m\u001b[1;33m+\u001b[0m\u001b[0mf_2\u001b[0m\u001b[1;33m)\u001b[0m\u001b[1;33m\u001b[0m\u001b[1;33m\u001b[0m\u001b[0m\n\u001b[0m\u001b[0;32m     10\u001b[0m \u001b[1;33m\u001b[0m\u001b[0m\n\u001b[0;32m     11\u001b[0m \u001b[0mbf_nom_2\u001b[0m \u001b[1;33m=\u001b[0m \u001b[1;33m(\u001b[0m\u001b[1;36m1\u001b[0m\u001b[1;33m-\u001b[0m\u001b[1;33m(\u001b[0m\u001b[0mf_nom_2\u001b[0m\u001b[1;33m/\u001b[0m\u001b[0mg_gem_2\u001b[0m\u001b[1;33m)\u001b[0m\u001b[1;33m)\u001b[0m\u001b[1;33m**\u001b[0m\u001b[1;33m(\u001b[0m\u001b[1;33m-\u001b[0m\u001b[1;36m1\u001b[0m\u001b[1;33m)\u001b[0m\u001b[1;33m\u001b[0m\u001b[1;33m\u001b[0m\u001b[0m\n",
      "\u001b[1;31mNameError\u001b[0m: name 'd' is not defined"
     ]
    }
   ],
   "source": [
    "e_gem_2 = np.array([650, 650, 630, 630, 610, 610, 590, 590, 570, 570]) \n",
    "us_e_gem_2 = 0.5\n",
    "g_gem_2 = np.array([310, 546, 312, 524, 317, 500, 320.5, 479 ,328 , 448])\n",
    "B_gem_2 = np.array([])\n",
    "b_gem_2 = e_gem_2-g_gem_2\n",
    "us_g_gem = 2\n",
    "f_gem_2 = g_gem_2*b_gem_2/(g_gem_2+b_gem_2)\n",
    "\n",
    "f_1, f_2 = 80, 150\n",
    "f_nom_2 = (1/(f_1))+(1/(f_2))-d/(f_1+f_2)\n",
    "\n",
    "bf_nom_2 = (1-(f_nom_2/g_gem_2))**(-1)\n",
    "gf_nom_2 = (1-(f_nom_2/b_gem_2))**(-1)\n",
    "ef_nom_2 = (((1/f_nom_2)-(1/g_gem_2))**(-1)+((1/f_nom_2)-(1/b_gem_2))**(-1))/(f_nom_2)"
   ]
  },
  {
   "cell_type": "code",
   "execution_count": 20,
   "metadata": {},
   "outputs": [
    {
     "name": "stdout",
     "output_type": "stream",
     "text": [
      "52.17391304347826\n"
     ]
    }
   ],
   "source": [
    "d = 20\n",
    "f_1, f_2 = 80, 150\n",
    "f_nom_2 = ((1/(f_1))+(1/(f_2)))**(-1)#-d/(f_1+f_2))**(-1)\n",
    "\n",
    "print(f_nom_2)"
   ]
  },
  {
   "cell_type": "code",
   "execution_count": null,
   "metadata": {},
   "outputs": [],
   "source": []
  }
 ],
 "metadata": {
  "kernelspec": {
   "display_name": "Python 3",
   "language": "python",
   "name": "python3"
  },
  "language_info": {
   "codemirror_mode": {
    "name": "ipython",
    "version": 3
   },
   "file_extension": ".py",
   "mimetype": "text/x-python",
   "name": "python",
   "nbconvert_exporter": "python",
   "pygments_lexer": "ipython3",
   "version": "3.8.3"
  }
 },
 "nbformat": 4,
 "nbformat_minor": 4
}
