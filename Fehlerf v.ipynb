{
 "cells": [
  {
   "cell_type": "code",
   "execution_count": 1,
   "metadata": {},
   "outputs": [],
   "source": [
    "# imports\n",
    "import numpy as np\n",
    "import matplotlib.pyplot as plt\n",
    "import matplotlib.colors as c\n",
    "import sympy as sy\n",
    "from sympy import *"
   ]
  },
  {
   "cell_type": "code",
   "execution_count": 21,
   "metadata": {
    "scrolled": true
   },
   "outputs": [
    {
     "name": "stdout",
     "output_type": "stream",
     "text": [
      "[0.03044835 0.0410762  0.05300119 0.06541292 0.0804829  0.09501188\n",
      " 0.10914052] alles in m/s\n",
      "[0.00591748 0.00350924 0.00365948 0.00516225 0.00505891 0.00579504\n",
      " 0.00586652]\n",
      "[0.00018018 0.00014415 0.00019396 0.00033768 0.00040716 0.0005506\n",
      " 0.00064028]\n"
     ]
    }
   ],
   "source": [
    "\n",
    "\n",
    "def am(werte):\n",
    "    return np.mean(werte)\n",
    "\n",
    "def std(werte):\n",
    "    summen_der_quadrate = 0\n",
    "    for wert in werte:\n",
    "        summen_der_quadrate+=(wert-am(werte))**2       \n",
    "    return np.sqrt(summen_der_quadrate/(werte.size-1))\n",
    "\n",
    "def stu(werte):\n",
    "    return std(werte)/np.sqrt(werte.size)\n",
    "\n",
    "def einfachGaussMult(unsicherheiten, werte, exponenten):\n",
    "    dz = 0\n",
    "    for i in range (unsicherheiten.size):\n",
    "        dz += (exponenten[i]*unsicherheiten[i]/werte[i])**2\n",
    "    return sqrt(dz)\n",
    "\n",
    "\n",
    "exponenten = np.array([1,-1])\n",
    "\n",
    "höhe = 0.4\n",
    "höhe_stu = 0.001\n",
    "\n",
    "t_3_mm = np.array([13.13, 13.21, 13.23, 13.30, 13.5, 12.82, 13.18, 12.98, 13.25, 12.77])\n",
    "t_35_mm = np.array([9.74, 9.81, 9.63, 9.79, 9.73, 9.66, 9.63, 9.75, 9.8, 9.84])\n",
    "t_4_mm = np.array([7.62, 7.52, 7.50, 7.55, 7.50, 7.48, 7.64, 7.63, 7.47, 7.56])\n",
    "t_45_mm = np.array([6.09, 6.24, 6.1, 5.96, 6.14, 6.18, 6.21, 6.15, 6.07, 6.01])\n",
    "t_5_mm = np.array([4.83, 4.99, 5.02, 4.89, 4.97, 5.01, 5.06, 4.95, 4.95, 5.03])\n",
    "t_55_mm = np.array([4.21, 4.24, 4.27, 4.28, 4.20, 4.04, 4.27, 4.21, 4.21, 4.17])\n",
    "t_6_mm = np.array([3.62, 3.63, 3.63, 3.72, 3.74, 3.71, 3.72, 3.68, 3.66, 3.54])\n",
    "\n",
    "t_mm = np.array([t_3_mm, t_35_mm, t_4_mm, t_45_mm, t_5_mm, t_55_mm, t_6_mm])\n",
    "\n",
    "v = np.zeros(7)\n",
    "t_stu = np.zeros(7)\n",
    "deltav_durch_v = np.zeros(7)\n",
    "\n",
    "for i in range(7):\n",
    "    t = am(t_mm[i])\n",
    "    v[i] = höhe/t\n",
    "    t_stu[i] = stu(t_mm[i])\n",
    "    \n",
    "print(v, \"alles in m/s\")\n",
    "\n",
    "for i in range(7):\n",
    "    werte = np.array([höhe, am(t_mm[i])])\n",
    "    unsicherheiten = np.array([höhe_stu,t_stu[i]])\n",
    "    deltav_durch_v[i] = einfachGaussMult(unsicherheiten, werte, exponenten)\n",
    "    \n",
    "print(deltav_durch_v)\n",
    "\n",
    "deltav = deltav_durch_v * v\n",
    "\n",
    "print(deltav)\n",
    "    "
   ]
  },
  {
   "cell_type": "code",
   "execution_count": null,
   "metadata": {},
   "outputs": [],
   "source": []
  }
 ],
 "metadata": {
  "kernelspec": {
   "display_name": "Python 3",
   "language": "python",
   "name": "python3"
  },
  "language_info": {
   "codemirror_mode": {
    "name": "ipython",
    "version": 3
   },
   "file_extension": ".py",
   "mimetype": "text/x-python",
   "name": "python",
   "nbconvert_exporter": "python",
   "pygments_lexer": "ipython3",
   "version": "3.8.5"
  }
 },
 "nbformat": 4,
 "nbformat_minor": 4
}
